{
  "nbformat": 4,
  "nbformat_minor": 0,
  "metadata": {
    "colab": {
      "provenance": []
    },
    "kernelspec": {
      "name": "python3",
      "display_name": "Python 3"
    },
    "language_info": {
      "name": "python"
    }
  },
  "cells": [
    {
      "cell_type": "code",
      "execution_count": 1,
      "metadata": {
        "id": "XaqDhtsoWPdT"
      },
      "outputs": [],
      "source": [
        "import numpy as np"
      ]
    },
    {
      "cell_type": "code",
      "source": [
        "# Data Load step\n",
        "data = np.load('/content/new_forecasts.npy', allow_pickle=True)\n",
        "stocks_data = []\n",
        "for k, v in data.item().items():\n",
        "  \n",
        "  stocks_data.append(v)\n",
        "\n",
        "stocks_data = np.array(stocks_data)\n",
        "stocks_data[0][0]"
      ],
      "metadata": {
        "colab": {
          "base_uri": "https://localhost:8080/"
        },
        "id": "e6m1ncNwWQPR",
        "outputId": "f13a9565-7983-419f-9193-d47a8aaca9d3"
      },
      "execution_count": 17,
      "outputs": [
        {
          "output_type": "execute_result",
          "data": {
            "text/plain": [
              "72.8499984741211"
            ]
          },
          "metadata": {},
          "execution_count": 17
        }
      ]
    },
    {
      "cell_type": "code",
      "source": [
        "# Single graph node\n",
        "class Node:\n",
        "  def __init__(self,val,pred,ID,path):\n",
        "    self.val = val\n",
        "    self.pred = pred\n",
        "    self.ID = ID\n",
        "    self.path = path\n"
      ],
      "metadata": {
        "id": "JpHzMKCGWSfD"
      },
      "execution_count": 18,
      "outputs": []
    },
    {
      "cell_type": "code",
      "source": [
        "class Strat_predictor:\n",
        "  def __init__(self,arr):\n",
        "    self.data = arr\n",
        "  \n",
        "  def create_row(self,arr):\n",
        "    n, = np.shape(arr)\n",
        "    k = n*(n-1)//2\n",
        "    \n",
        "    grid = np.zeros((k,1))\n",
        "    count = 0\n",
        "    for i in range(n):\n",
        "        for j in range(i+1,n):\n",
        "            grid[count] = ((arr[j] - arr[i])/arr[i])\n",
        "            count+=1\n",
        "    grid = grid.reshape(1,k)\n",
        "    return grid\n",
        "\n",
        "  def create_grid(self,arr):\n",
        "    m,n = np.shape(arr)\n",
        "    k = n*(n-1)//2\n",
        "    delta = []\n",
        "    for i in range(m):\n",
        "        delt = self.create_row(arr[i])\n",
        "        delta.append(delt)\n",
        "    \n",
        "    delta2 = np.array((delta)).reshape(m,k)\n",
        "    return delta2,n\n",
        "  \n",
        "  def create_matrix(self):\n",
        "    self.table,num_nodes = self.create_grid(self.data)\n",
        "    self.t = np.array(np.max(self.table,axis = 0))\n",
        "\n",
        "    # self.adj_graph = np.full((num_nodes,num_nodes),None)\n",
        "    \n",
        "    # counter = 0\n",
        "    # for i in range(num_nodes):\n",
        "    #   for j in range(num_nodes):\n",
        "    #     if i==j:\n",
        "    #       self.adj_graph[i][j] = 0\n",
        "    #     elif j > i:\n",
        "    #       continue\n",
        "    #     else:\n",
        "    #       self.adj_graph[i][j] = self.t[counter]\n",
        "    #       counter+=1\n",
        "    self.adj_graph = np.full((num_nodes,num_nodes),None)\n",
        "    counter = num_nodes-1\n",
        "\n",
        "    start = 0\n",
        "    for i in range(num_nodes-1):\n",
        "      self.adj_graph[i][i+1:] = self.t[start:start + counter]\n",
        "      start = start+counter\n",
        "      counter-=1\n",
        "\n",
        "    for i in range(num_nodes):\n",
        "      self.adj_graph[i][i] = 0\n",
        "\n",
        "    self.adj_graph = self.adj_graph.T\n",
        "    #print(self.adj_graph)\n",
        "    return num_nodes\n",
        "  \n",
        "  def setup_graph(self):\n",
        "    self.num_nodes = self.create_matrix()\n",
        "    self.nodes = []\n",
        "    for i in range(self.num_nodes):\n",
        "      self.nodes.append(Node(0,list(range(i)),i,[]))\n",
        "  \n",
        "  def get_strat(self):\n",
        "    self.setup_graph()\n",
        "    gstack = []\n",
        "    stack = []\n",
        "    flag = (0,0)\n",
        "    for i,j in enumerate(self.nodes):\n",
        "      row = self.adj_graph[i]\n",
        "      for p in j.pred:\n",
        "        value = self.nodes[p].val + row[p]\n",
        "        if value > j.val:\n",
        "          flag = (p,i)\n",
        "\n",
        "        j.val = max(j.val,value)\n",
        "      #print(flag)\n",
        "      if j == 0:\n",
        "        j.path = [0]\n",
        "      else:\n",
        "        s,e = flag\n",
        "        j.path = self.nodes[s].path + [e]\n",
        "      gstack.append((flag))\n",
        "\n",
        "  def check(self):\n",
        "    self.get_strat()\n",
        "    best_node_val = 0\n",
        "    for k in range(self.num_nodes):\n",
        "      #print(self.nodes[k].val,self.nodes[k].path)\n",
        "      vals = self.nodes[k].val\n",
        "      if vals > best_node_val:\n",
        "        best_node_index = k\n",
        "      best_node_val = max(best_node_val,vals)\n",
        "    \n",
        "    best_node_path = self.nodes[best_node_index].path\n",
        "    p_path = best_node_path\n",
        "\n",
        "    path = list(zip(p_path[:-1],p_path[1:]))\n",
        "    return path\n",
        "    \n",
        "  def predict(self,path):\n",
        "    self.strat = []\n",
        "    for buy_day,sell_day in path:\n",
        "      stock_val = self.adj_graph[sell_day][buy_day]\n",
        "      stock,delta = np.where(self.table == stock_val)\n",
        "      self.strat.append(((stock),(buy_day,sell_day)))\n",
        "      #print(self.strat)\n",
        "    return self.strat\n",
        "\n",
        "  def display(self):\n",
        "    money = 1000\n",
        "    for stock,(b,s) in self.strat:\n",
        "      #print(stock)\n",
        "      #index = int(stock)\n",
        "      index = stock[0]\n",
        "      #print(index)\n",
        "      print('Buy Stock with ID',index,'at end of day',b,'and sell at end of day',s)\n",
        "      stock_num = money/self.data[index][b]\n",
        "      money = stock_num*self.data[index][s]\n",
        "    print(\"Profit made on investement of 1000 Dollars is\",money-1000)"
      ],
      "metadata": {
        "id": "D1mGWdT-We5O"
      },
      "execution_count": 19,
      "outputs": []
    },
    {
      "cell_type": "code",
      "source": [
        "#strat"
      ],
      "metadata": {
        "id": "q24RmbWiWhr0"
      },
      "execution_count": 20,
      "outputs": []
    },
    {
      "cell_type": "code",
      "source": [
        "maxminval = []\n",
        "for i in range(stocks_data.shape[0]):\n",
        "  f = (np.max(stocks_data[i]) - np.min(stocks_data[i]))/np.min(stocks_data[i])\n",
        "  mxd,mnd = np.argmax(stocks_data[i]),np.argmin(stocks_data[i])\n",
        "  if mnd > mxd:\n",
        "    continue\n",
        "  maxminval.append((f,mxd,mnd,i))\n",
        "\n",
        "print('Increasing stocks number is',len(maxminval))\n",
        "maxminval.sort(key = lambda x:-x[0])\n",
        "\n",
        "print('The best performing stock is',maxminval[0][3],'Naive max Value',maxminval[0][0])\n"
      ],
      "metadata": {
        "colab": {
          "base_uri": "https://localhost:8080/"
        },
        "id": "BIrUjmmNWqDo",
        "outputId": "047ef8ae-e0a1-409f-dfd6-8a3261311228"
      },
      "execution_count": 28,
      "outputs": [
        {
          "output_type": "stream",
          "name": "stdout",
          "text": [
            "Increasing stocks number is 30\n",
            "The best performing stock is 6 Naive max Value 0.041654176324653576\n"
          ]
        }
      ]
    },
    {
      "cell_type": "code",
      "source": [
        "# Naive Estimator\n",
        "(stocks_data[6][5] - stocks_data[6][0])/stocks_data[6][0]"
      ],
      "metadata": {
        "colab": {
          "base_uri": "https://localhost:8080/"
        },
        "id": "Y_3RG7BaWtHj",
        "outputId": "54b42976-be0c-46cb-859f-85b854f7cfde"
      },
      "execution_count": 29,
      "outputs": [
        {
          "output_type": "execute_result",
          "data": {
            "text/plain": [
              "0.041654176324653576"
            ]
          },
          "metadata": {},
          "execution_count": 29
        }
      ]
    },
    {
      "cell_type": "code",
      "source": [
        "# Our Graph based predictor\n",
        "h = Strat_predictor(stocks_data)\n",
        "y = h.check()\n",
        "strat = h.predict(y)\n",
        "h.display()"
      ],
      "metadata": {
        "colab": {
          "base_uri": "https://localhost:8080/"
        },
        "id": "pTzHUkTOWfZy",
        "outputId": "b8033c7f-e075-48fc-f1cb-94651e469735"
      },
      "execution_count": 30,
      "outputs": [
        {
          "output_type": "stream",
          "name": "stdout",
          "text": [
            "Buy Stock with ID 6 at end of day 0 and sell at end of day 1\n",
            "Buy Stock with ID 92 at end of day 1 and sell at end of day 2\n",
            "Buy Stock with ID 17 at end of day 2 and sell at end of day 3\n",
            "Buy Stock with ID 92 at end of day 3 and sell at end of day 4\n",
            "Buy Stock with ID 6 at end of day 4 and sell at end of day 5\n",
            "Profit made on investement of 1000 Dollars is 69.62530486915284\n"
          ]
        }
      ]
    },
    {
      "cell_type": "code",
      "source": [],
      "metadata": {
        "id": "69IEhNwsWtnH"
      },
      "execution_count": 30,
      "outputs": []
    }
  ]
}