{
  "nbformat": 4,
  "nbformat_minor": 0,
  "metadata": {
    "colab": {
      "provenance": []
    },
    "kernelspec": {
      "name": "python3",
      "display_name": "Python 3"
    },
    "language_info": {
      "name": "python"
    }
  },
  "cells": [
    {
      "cell_type": "code",
      "execution_count": 1,
      "metadata": {
        "colab": {
          "base_uri": "https://localhost:8080/"
        },
        "id": "wGHRJBr8RYyX",
        "outputId": "28b6d505-89f6-45ea-885c-6eca007597b8"
      },
      "outputs": [
        {
          "output_type": "stream",
          "name": "stdout",
          "text": [
            "Looking in indexes: https://pypi.org/simple, https://us-python.pkg.dev/colab-wheels/public/simple/\n",
            "Collecting yfinance\n",
            "  Downloading yfinance-0.1.85-py2.py3-none-any.whl (29 kB)\n",
            "Requirement already satisfied: pandas>=0.24.0 in /usr/local/lib/python3.7/dist-packages (from yfinance) (1.3.5)\n",
            "Requirement already satisfied: multitasking>=0.0.7 in /usr/local/lib/python3.7/dist-packages (from yfinance) (0.0.11)\n",
            "Requirement already satisfied: lxml>=4.5.1 in /usr/local/lib/python3.7/dist-packages (from yfinance) (4.9.1)\n",
            "Requirement already satisfied: appdirs>=1.4.4 in /usr/local/lib/python3.7/dist-packages (from yfinance) (1.4.4)\n",
            "Collecting requests>=2.26\n",
            "  Downloading requests-2.28.1-py3-none-any.whl (62 kB)\n",
            "\u001b[K     |████████████████████████████████| 62 kB 1.1 MB/s \n",
            "\u001b[?25hRequirement already satisfied: numpy>=1.15 in /usr/local/lib/python3.7/dist-packages (from yfinance) (1.21.6)\n",
            "Requirement already satisfied: pytz>=2017.3 in /usr/local/lib/python3.7/dist-packages (from pandas>=0.24.0->yfinance) (2022.6)\n",
            "Requirement already satisfied: python-dateutil>=2.7.3 in /usr/local/lib/python3.7/dist-packages (from pandas>=0.24.0->yfinance) (2.8.2)\n",
            "Requirement already satisfied: six>=1.5 in /usr/local/lib/python3.7/dist-packages (from python-dateutil>=2.7.3->pandas>=0.24.0->yfinance) (1.15.0)\n",
            "Requirement already satisfied: idna<4,>=2.5 in /usr/local/lib/python3.7/dist-packages (from requests>=2.26->yfinance) (2.10)\n",
            "Requirement already satisfied: urllib3<1.27,>=1.21.1 in /usr/local/lib/python3.7/dist-packages (from requests>=2.26->yfinance) (1.24.3)\n",
            "Requirement already satisfied: charset-normalizer<3,>=2 in /usr/local/lib/python3.7/dist-packages (from requests>=2.26->yfinance) (2.1.1)\n",
            "Requirement already satisfied: certifi>=2017.4.17 in /usr/local/lib/python3.7/dist-packages (from requests>=2.26->yfinance) (2022.9.24)\n",
            "Installing collected packages: requests, yfinance\n",
            "  Attempting uninstall: requests\n",
            "    Found existing installation: requests 2.23.0\n",
            "    Uninstalling requests-2.23.0:\n",
            "      Successfully uninstalled requests-2.23.0\n",
            "Successfully installed requests-2.28.1 yfinance-0.1.85\n",
            "Looking in indexes: https://pypi.org/simple, https://us-python.pkg.dev/colab-wheels/public/simple/\n",
            "Collecting statsmodels==0.11.0\n",
            "  Downloading statsmodels-0.11.0-cp37-cp37m-manylinux1_x86_64.whl (8.7 MB)\n",
            "\u001b[K     |████████████████████████████████| 8.7 MB 5.1 MB/s \n",
            "\u001b[?25hRequirement already satisfied: scipy>=1.0 in /usr/local/lib/python3.7/dist-packages (from statsmodels==0.11.0) (1.7.3)\n",
            "Requirement already satisfied: patsy>=0.5 in /usr/local/lib/python3.7/dist-packages (from statsmodels==0.11.0) (0.5.3)\n",
            "Requirement already satisfied: pandas>=0.21 in /usr/local/lib/python3.7/dist-packages (from statsmodels==0.11.0) (1.3.5)\n",
            "Requirement already satisfied: numpy>=1.14 in /usr/local/lib/python3.7/dist-packages (from statsmodels==0.11.0) (1.21.6)\n",
            "Requirement already satisfied: pytz>=2017.3 in /usr/local/lib/python3.7/dist-packages (from pandas>=0.21->statsmodels==0.11.0) (2022.6)\n",
            "Requirement already satisfied: python-dateutil>=2.7.3 in /usr/local/lib/python3.7/dist-packages (from pandas>=0.21->statsmodels==0.11.0) (2.8.2)\n",
            "Requirement already satisfied: six in /usr/local/lib/python3.7/dist-packages (from patsy>=0.5->statsmodels==0.11.0) (1.15.0)\n",
            "Installing collected packages: statsmodels\n",
            "  Attempting uninstall: statsmodels\n",
            "    Found existing installation: statsmodels 0.12.2\n",
            "    Uninstalling statsmodels-0.12.2:\n",
            "      Successfully uninstalled statsmodels-0.12.2\n",
            "\u001b[31mERROR: pip's dependency resolver does not currently take into account all the packages that are installed. This behaviour is the source of the following dependency conflicts.\n",
            "plotnine 0.8.0 requires statsmodels>=0.12.1, but you have statsmodels 0.11.0 which is incompatible.\u001b[0m\n",
            "Successfully installed statsmodels-0.11.0\n"
          ]
        }
      ],
      "source": [
        "!pip install yfinance\n",
        "!pip install statsmodels==0.11.0\n",
        "\n",
        "import os, contextlib\n",
        "import pandas as pd\n",
        "import yfinance as yf\n",
        "\n",
        "if not os.path.exists(\"stocks data\"):\n",
        "    os.mkdir(\"stocks data\")\n",
        "    \n",
        "url = \"https://en.wikipedia.org/wiki/NASDAQ-100#Components\"\n",
        "html = pd.read_html(url, header=0)\n",
        "series = html[4][\"Ticker\"]\n",
        "symbols = series.to_list()\n",
        "\n",
        "with open(os.devnull, \"w\") as devnull:\n",
        "    with contextlib.redirect_stdout(devnull):\n",
        "        for i, symbol in enumerate(symbols):\n",
        "            data = yf.download(symbol, period=\"max\")[\"Close\"]\n",
        "            data.to_csv(\"/content/stocks data/{}.csv\".format(symbol))\n",
        "\n"
      ]
    },
    {
      "cell_type": "code",
      "source": [
        "!pip install sklearn"
      ],
      "metadata": {
        "colab": {
          "base_uri": "https://localhost:8080/"
        },
        "id": "MXe11MjYWay2",
        "outputId": "1d970612-abc2-4086-bff3-a299b1d68510"
      },
      "execution_count": 2,
      "outputs": [
        {
          "output_type": "stream",
          "name": "stdout",
          "text": [
            "Looking in indexes: https://pypi.org/simple, https://us-python.pkg.dev/colab-wheels/public/simple/\n",
            "Collecting sklearn\n",
            "  Downloading sklearn-0.0.post1.tar.gz (3.6 kB)\n",
            "Building wheels for collected packages: sklearn\n",
            "  Building wheel for sklearn (setup.py) ... \u001b[?25l\u001b[?25hdone\n",
            "  Created wheel for sklearn: filename=sklearn-0.0.post1-py3-none-any.whl size=2344 sha256=b7e06a27a6fe4e0b8e7512a2df774229216a7925afa060d205e849f0d6851256\n",
            "  Stored in directory: /root/.cache/pip/wheels/42/56/cc/4a8bf86613aafd5b7f1b310477667c1fca5c51c3ae4124a003\n",
            "Successfully built sklearn\n",
            "Installing collected packages: sklearn\n",
            "Successfully installed sklearn-0.0.post1\n"
          ]
        }
      ]
    },
    {
      "cell_type": "code",
      "source": [
        "import numpy as np\n",
        "import pandas as pd\n",
        "import matplotlib as plt\n",
        "import yfinance as yf\n",
        "import plotly.express as px\n",
        "from datetime import datetime\n",
        "from statsmodels.tsa.stattools import acf , pacf\n",
        "from statsmodels.graphics.tsaplots import plot_acf\n",
        "import matplotlib.pyplot as plt\n",
        "import lightgbm as lgb\n",
        "from sklearn.metrics import mean_squared_error\n",
        "\n",
        "final_forecasts = {}\n",
        "p = 2\n",
        "q = 1\n",
        "prediction_length = 5\n",
        "d = {}\n",
        "valid_size = 0.15\n",
        "\n",
        "for symbol in symbols:\n",
        "    stock = yf.download(symbol, period=\"MAX\", Interval=\"1d\", verbose=False)\n",
        "    # closing_prices = stock.Close.dropna()\n",
        "    # original_cp = closing_prices\n",
        "    # assert closing_prices.isnull().sum() == 0\n",
        "    # d_counter = 0\n",
        "    # while not stationarity_test(closing_prices):\n",
        "    #     closing_prices = closing_prices.diff(1).bfill()\n",
        "    #     d_counter += 1\n",
        "    # d[symbol] = d_counter\n",
        "\n",
        "    df = stock\n",
        "    valid_split_idx = int(df.shape[0] * (1-(valid_size)))\n",
        "\n",
        "    train_df  = df[:valid_split_idx].copy()\n",
        "    valid_df  = df[valid_split_idx:-5].copy()\n",
        "    test_df   = df[-5:].copy()\n",
        "    y_train = train_df['Close'][5:].copy()\n",
        "    X_train = train_df.drop(['Close'], 1)[:-5]\n",
        "\n",
        "    y_valid = valid_df['Close'].copy()\n",
        "    X_valid = valid_df.drop(['Close'], 1)\n",
        "\n",
        "    y_test  = test_df['Close'].copy()\n",
        "    X_test  = test_df.drop(['Close'], 1)\n",
        "    eval_set = [(X_train, y_train), (X_valid, y_valid)]\n",
        "\n",
        "    # create dataset for lightgbm\n",
        "    lgb_train = lgb.Dataset(X_train, y_train)\n",
        "    lgb_eval = lgb.Dataset(X_test, y_test, reference=lgb_train)\n",
        "\n",
        "    # specify your configurations as a dict\n",
        "    params = {\n",
        "    'boosting_type': 'gbdt',\n",
        "    'objective': 'regression',\n",
        "    'metric': {'l2', 'l1'},\n",
        "    'num_leaves': 31,\n",
        "    'learning_rate': 0.05,\n",
        "    'feature_fraction': 0.9,\n",
        "    'bagging_fraction': 0.8,\n",
        "    'bagging_freq': 5,\n",
        "    'verbose': 0\n",
        "    }\n",
        "    # train\n",
        "    gbm = lgb.train(params,\n",
        "                lgb_train,\n",
        "                num_boost_round=20,\n",
        "                valid_sets=lgb_eval,\n",
        "                callbacks=[lgb.early_stopping(stopping_rounds=5)])\n",
        "    # predict\n",
        "    y_pred = gbm.predict(X_test, num_iteration=gbm.best_iteration)[:5]\n",
        "\n",
        "    # eval\n",
        "    rmse_test = mean_squared_error(y_test, y_pred) ** 0.5\n",
        "    print(f'The RMSE of prediction is: {rmse_test}')\n",
        "\n",
        "    final_forecasts[symbol] = y_pred\n",
        "\n",
        "\n",
        "\n",
        "\n",
        "\n",
        "\n",
        "\n",
        "\n",
        "\n",
        "\n",
        "\n",
        "\n",
        "\n",
        "\n"
      ],
      "metadata": {
        "colab": {
          "base_uri": "https://localhost:8080/"
        },
        "id": "ufVjBgU9ReDp",
        "outputId": "dd0d63e9-2ab9-4697-f05d-2738e5df5391"
      },
      "execution_count": 3,
      "outputs": [
        {
          "output_type": "stream",
          "name": "stdout",
          "text": [
            "\r[*********************100%***********************]  1 of 1 completed\n",
            "[1]\tvalid_0's l2: 3204.93\tvalid_0's l1: 56.6112\n",
            "Training until validation scores don't improve for 5 rounds.\n",
            "[2]\tvalid_0's l2: 2878.78\tvalid_0's l1: 53.6532\n",
            "[3]\tvalid_0's l2: 2585.14\tvalid_0's l1: 50.8432\n",
            "[4]\tvalid_0's l2: 2320.81\tvalid_0's l1: 48.1736\n",
            "[5]\tvalid_0's l2: 2082.9\tvalid_0's l1: 45.6376\n",
            "[6]\tvalid_0's l2: 1873.34\tvalid_0's l1: 43.2808\n",
            "[7]\tvalid_0's l2: 1682.34\tvalid_0's l1: 41.015\n",
            "[8]\tvalid_0's l2: 1510.4\tvalid_0's l1: 38.8624\n"
          ]
        },
        {
          "output_type": "stream",
          "name": "stderr",
          "text": [
            "/usr/local/lib/python3.7/dist-packages/ipykernel_launcher.py:38: FutureWarning: In a future version of pandas all arguments of DataFrame.drop except for the argument 'labels' will be keyword-only\n",
            "/usr/local/lib/python3.7/dist-packages/ipykernel_launcher.py:41: FutureWarning: In a future version of pandas all arguments of DataFrame.drop except for the argument 'labels' will be keyword-only\n",
            "/usr/local/lib/python3.7/dist-packages/ipykernel_launcher.py:44: FutureWarning: In a future version of pandas all arguments of DataFrame.drop except for the argument 'labels' will be keyword-only\n"
          ]
        },
        {
          "output_type": "stream",
          "name": "stdout",
          "text": [
            "[9]\tvalid_0's l2: 1355.64\tvalid_0's l1: 36.8175\n",
            "[10]\tvalid_0's l2: 1216.36\tvalid_0's l1: 34.8748\n",
            "[11]\tvalid_0's l2: 1089.96\tvalid_0's l1: 33.0128\n",
            "[12]\tvalid_0's l2: 980.778\tvalid_0's l1: 31.3157\n",
            "[13]\tvalid_0's l2: 878.295\tvalid_0's l1: 29.6342\n",
            "[14]\tvalid_0's l2: 786.174\tvalid_0's l1: 28.0369\n",
            "[15]\tvalid_0's l2: 703.386\tvalid_0's l1: 26.5194\n",
            "[16]\tvalid_0's l2: 628.537\tvalid_0's l1: 25.0685\n",
            "[17]\tvalid_0's l2: 562.935\tvalid_0's l1: 23.7242\n",
            "[18]\tvalid_0's l2: 503.964\tvalid_0's l1: 22.447\n",
            "[19]\tvalid_0's l2: 449.578\tvalid_0's l1: 21.201\n",
            "[20]\tvalid_0's l2: 400.788\tvalid_0's l1: 20.0173\n",
            "Did not meet early stopping. Best iteration is:\n",
            "[20]\tvalid_0's l2: 400.788\tvalid_0's l1: 20.0173\n",
            "The RMSE of prediction is: 20.01969239397605\n",
            "[*********************100%***********************]  1 of 1 completed\n",
            "[1]\tvalid_0's l2: 69765.1\tvalid_0's l1: 264.035\n",
            "Training until validation scores don't improve for 5 rounds.\n",
            "[2]\tvalid_0's l2: 66973.8\tvalid_0's l1: 258.695\n",
            "[3]\tvalid_0's l2: 64454.1\tvalid_0's l1: 253.778\n",
            "[4]\tvalid_0's l2: 62023.2\tvalid_0's l1: 248.943\n",
            "[5]\tvalid_0's l2: 59833.5\tvalid_0's l1: 244.505\n",
            "[6]\tvalid_0's l2: 57727.4\tvalid_0's l1: 240.16\n",
            "[7]\tvalid_0's l2: 55833.3\tvalid_0's l1: 236.183\n",
            "[8]\tvalid_0's l2: 54058.4\tvalid_0's l1: 232.396\n",
            "[9]\tvalid_0's l2: 52334\tvalid_0's l1: 228.656\n",
            "[10]\tvalid_0's l2: 50721.8\tvalid_0's l1: 225.103\n",
            "[11]\tvalid_0's l2: 49270.8\tvalid_0's l1: 221.856\n",
            "[12]\tvalid_0's l2: 47860.9\tvalid_0's l1: 218.655\n",
            "[13]\tvalid_0's l2: 46589\tvalid_0's l1: 215.728\n",
            "[14]\tvalid_0's l2: 45348.7\tvalid_0's l1: 212.833\n",
            "[15]\tvalid_0's l2: 44182.2\tvalid_0's l1: 210.075\n",
            "[16]\tvalid_0's l2: 43082.7\tvalid_0's l1: 207.442\n",
            "[17]\tvalid_0's l2: 42097\tvalid_0's l1: 205.052\n",
            "[18]\tvalid_0's l2: 41171.2\tvalid_0's l1: 202.782\n",
            "[19]\tvalid_0's l2: 40256.2\tvalid_0's l1: 200.513\n",
            "[20]\tvalid_0's l2: 39396.5\tvalid_0's l1: 198.358\n",
            "Did not meet early stopping. Best iteration is:\n",
            "[20]\tvalid_0's l2: 39396.5\tvalid_0's l1: 198.358\n",
            "The RMSE of prediction is: 198.48560267378028\n"
          ]
        },
        {
          "output_type": "stream",
          "name": "stderr",
          "text": [
            "/usr/local/lib/python3.7/dist-packages/ipykernel_launcher.py:38: FutureWarning: In a future version of pandas all arguments of DataFrame.drop except for the argument 'labels' will be keyword-only\n",
            "/usr/local/lib/python3.7/dist-packages/ipykernel_launcher.py:41: FutureWarning: In a future version of pandas all arguments of DataFrame.drop except for the argument 'labels' will be keyword-only\n",
            "/usr/local/lib/python3.7/dist-packages/ipykernel_launcher.py:44: FutureWarning: In a future version of pandas all arguments of DataFrame.drop except for the argument 'labels' will be keyword-only\n"
          ]
        },
        {
          "output_type": "stream",
          "name": "stdout",
          "text": [
            "\r[*********************100%***********************]  1 of 1 completed\n",
            "[1]\tvalid_0's l2: 44510\tvalid_0's l1: 210.95\n",
            "Training until validation scores don't improve for 5 rounds.\n",
            "[2]\tvalid_0's l2: 43274.1\tvalid_0's l1: 208\n",
            "[3]\tvalid_0's l2: 42113.1\tvalid_0's l1: 205.19\n",
            "[4]\tvalid_0's l2: 41024.8\tvalid_0's l1: 202.521\n",
            "[5]\tvalid_0's l2: 40020.9\tvalid_0's l1: 200.027\n",
            "[6]\tvalid_0's l2: 39061.8\tvalid_0's l1: 197.615\n",
            "[7]\tvalid_0's l2: 38153.8\tvalid_0's l1: 195.304\n",
            "[8]\tvalid_0's l2: 37284.1\tvalid_0's l1: 193.065\n",
            "[9]\tvalid_0's l2: 36501.9\tvalid_0's l1: 191.028\n"
          ]
        },
        {
          "output_type": "stream",
          "name": "stderr",
          "text": [
            "/usr/local/lib/python3.7/dist-packages/ipykernel_launcher.py:38: FutureWarning: In a future version of pandas all arguments of DataFrame.drop except for the argument 'labels' will be keyword-only\n",
            "/usr/local/lib/python3.7/dist-packages/ipykernel_launcher.py:41: FutureWarning: In a future version of pandas all arguments of DataFrame.drop except for the argument 'labels' will be keyword-only\n",
            "/usr/local/lib/python3.7/dist-packages/ipykernel_launcher.py:44: FutureWarning: In a future version of pandas all arguments of DataFrame.drop except for the argument 'labels' will be keyword-only\n"
          ]
        },
        {
          "output_type": "stream",
          "name": "stdout",
          "text": [
            "[10]\tvalid_0's l2: 35732.1\tvalid_0's l1: 189.003\n",
            "[11]\tvalid_0's l2: 35006.1\tvalid_0's l1: 187.072\n",
            "[12]\tvalid_0's l2: 34340.5\tvalid_0's l1: 185.285\n",
            "[13]\tvalid_0's l2: 33697.1\tvalid_0's l1: 183.54\n",
            "[14]\tvalid_0's l2: 33107.2\tvalid_0's l1: 181.926\n",
            "[15]\tvalid_0's l2: 32536\tvalid_0's l1: 180.349\n",
            "[16]\tvalid_0's l2: 31999\tvalid_0's l1: 178.854\n",
            "[17]\tvalid_0's l2: 31519.4\tvalid_0's l1: 177.508\n",
            "[18]\tvalid_0's l2: 31067.1\tvalid_0's l1: 176.23\n",
            "[19]\tvalid_0's l2: 30614.4\tvalid_0's l1: 174.941\n",
            "[20]\tvalid_0's l2: 30187.5\tvalid_0's l1: 173.716\n",
            "Did not meet early stopping. Best iteration is:\n",
            "[20]\tvalid_0's l2: 30187.5\tvalid_0's l1: 173.716\n",
            "The RMSE of prediction is: 173.74554809514876\n",
            "[*********************100%***********************]  1 of 1 completed\n",
            "[1]\tvalid_0's l2: 3428.46\tvalid_0's l1: 58.5121\n",
            "Training until validation scores don't improve for 5 rounds.\n",
            "[2]\tvalid_0's l2: 3111.93\tvalid_0's l1: 55.7416\n",
            "[3]\tvalid_0's l2: 2828.47\tvalid_0's l1: 53.1382\n",
            "[4]\tvalid_0's l2: 2571.73\tvalid_0's l1: 50.6649\n",
            "[5]\tvalid_0's l2: 2341.36\tvalid_0's l1: 48.3381\n",
            "[6]\tvalid_0's l2: 2153.87\tvalid_0's l1: 46.358\n",
            "[7]\tvalid_0's l2: 1983\tvalid_0's l1: 44.477\n",
            "[8]\tvalid_0's l2: 1827.24\tvalid_0's l1: 42.6901\n",
            "[9]\tvalid_0's l2: 1685.18\tvalid_0's l1: 40.9925\n",
            "[10]\tvalid_0's l2: 1555.56\tvalid_0's l1: 39.3798\n",
            "[11]\tvalid_0's l2: 1413.26\tvalid_0's l1: 37.5294\n",
            "[12]\tvalid_0's l2: 1286.49\tvalid_0's l1: 35.8007\n",
            "[13]\tvalid_0's l2: 1169.61\tvalid_0's l1: 34.1293\n",
            "[14]\tvalid_0's l2: 1068.06\tvalid_0's l1: 32.6077\n",
            "[15]\tvalid_0's l2: 973.376\tvalid_0's l1: 31.122\n",
            "[16]\tvalid_0's l2: 889.659\tvalid_0's l1: 29.7466\n",
            "[17]\tvalid_0's l2: 812.579\tvalid_0's l1: 28.4215\n",
            "[18]\tvalid_0's l2: 742.607\tvalid_0's l1: 27.1626\n",
            "[19]\tvalid_0's l2: 679.069\tvalid_0's l1: 25.9667\n",
            "[20]\tvalid_0's l2: 621.357\tvalid_0's l1: 24.8306\n",
            "Did not meet early stopping. Best iteration is:\n",
            "[20]\tvalid_0's l2: 621.357\tvalid_0's l1: 24.8306\n",
            "The RMSE of prediction is: 24.927042513628294\n"
          ]
        },
        {
          "output_type": "stream",
          "name": "stderr",
          "text": [
            "/usr/local/lib/python3.7/dist-packages/ipykernel_launcher.py:38: FutureWarning: In a future version of pandas all arguments of DataFrame.drop except for the argument 'labels' will be keyword-only\n",
            "/usr/local/lib/python3.7/dist-packages/ipykernel_launcher.py:41: FutureWarning: In a future version of pandas all arguments of DataFrame.drop except for the argument 'labels' will be keyword-only\n",
            "/usr/local/lib/python3.7/dist-packages/ipykernel_launcher.py:44: FutureWarning: In a future version of pandas all arguments of DataFrame.drop except for the argument 'labels' will be keyword-only\n"
          ]
        },
        {
          "output_type": "stream",
          "name": "stdout",
          "text": [
            "\r[*********************100%***********************]  1 of 1 completed\n",
            "[1]\tvalid_0's l2: 13860.7\tvalid_0's l1: 117.698\n",
            "Training until validation scores don't improve for 5 rounds.\n",
            "[2]\tvalid_0's l2: 12531.2\tvalid_0's l1: 111.907\n",
            "[3]\tvalid_0's l2: 11333\tvalid_0's l1: 106.419\n",
            "[4]\tvalid_0's l2: 10245.6\tvalid_0's l1: 101.181\n",
            "[5]\tvalid_0's l2: 9267.29\tvalid_0's l1: 96.225\n",
            "[6]\tvalid_0's l2: 8189.36\tvalid_0's l1: 90.4401\n",
            "[7]\tvalid_0's l2: 7350.78\tvalid_0's l1: 85.6786\n",
            "[8]\tvalid_0's l2: 6489.69\tvalid_0's l1: 80.4839\n",
            "[9]\tvalid_0's l2: 5817.27\tvalid_0's l1: 76.1921\n",
            "[10]\tvalid_0's l2: 5212.59\tvalid_0's l1: 72.1149\n",
            "[11]\tvalid_0's l2: 4693.23\tvalid_0's l1: 68.4194\n",
            "[12]\tvalid_0's l2: 4214.56\tvalid_0's l1: 64.8308\n",
            "[13]\tvalid_0's l2: 3790.49\tvalid_0's l1: 61.4733\n",
            "[14]\tvalid_0's l2: 3374.11\tvalid_0's l1: 57.9878\n",
            "[15]\tvalid_0's l2: 3036.34\tvalid_0's l1: 54.9983\n",
            "[16]\tvalid_0's l2: 2702.22\tvalid_0's l1: 51.8719\n",
            "[17]\tvalid_0's l2: 2439.33\tvalid_0's l1: 49.2728\n",
            "[18]\tvalid_0's l2: 2194.35\tvalid_0's l1: 46.7207\n",
            "[19]\tvalid_0's l2: 1953.65\tvalid_0's l1: 44.0695\n",
            "[20]\tvalid_0's l2: 1756.11\tvalid_0's l1: 41.7683\n",
            "Did not meet early stopping. Best iteration is:\n",
            "[20]\tvalid_0's l2: 1756.11\tvalid_0's l1: 41.7683\n",
            "The RMSE of prediction is: 41.90601671410085\n"
          ]
        },
        {
          "output_type": "stream",
          "name": "stderr",
          "text": [
            "/usr/local/lib/python3.7/dist-packages/ipykernel_launcher.py:38: FutureWarning: In a future version of pandas all arguments of DataFrame.drop except for the argument 'labels' will be keyword-only\n",
            "/usr/local/lib/python3.7/dist-packages/ipykernel_launcher.py:41: FutureWarning: In a future version of pandas all arguments of DataFrame.drop except for the argument 'labels' will be keyword-only\n",
            "/usr/local/lib/python3.7/dist-packages/ipykernel_launcher.py:44: FutureWarning: In a future version of pandas all arguments of DataFrame.drop except for the argument 'labels' will be keyword-only\n"
          ]
        },
        {
          "output_type": "stream",
          "name": "stdout",
          "text": [
            "\r[*********************100%***********************]  1 of 1 completed\n",
            "[1]\tvalid_0's l2: 3527.52\tvalid_0's l1: 59.3612\n",
            "Training until validation scores don't improve for 5 rounds.\n",
            "[2]\tvalid_0's l2: 3262.31\tvalid_0's l1: 57.0837\n",
            "[3]\tvalid_0's l2: 3020.45\tvalid_0's l1: 54.9243\n",
            "[4]\tvalid_0's l2: 2799.32\tvalid_0's l1: 52.873\n",
            "[5]\tvalid_0's l2: 2597.04\tvalid_0's l1: 50.9242\n",
            "[6]\tvalid_0's l2: 2416.95\tvalid_0's l1: 49.1242\n",
            "[7]\tvalid_0's l2: 2251.88\tvalid_0's l1: 47.4142\n",
            "[8]\tvalid_0's l2: 2100.47\tvalid_0's l1: 45.7898\n",
            "[9]\tvalid_0's l2: 1954.56\tvalid_0's l1: 44.1678\n",
            "[10]\tvalid_0's l2: 1820.83\tvalid_0's l1: 42.627\n",
            "[11]\tvalid_0's l2: 1699.71\tvalid_0's l1: 41.1819\n",
            "[12]\tvalid_0's l2: 1588.07\tvalid_0's l1: 39.8034\n",
            "[13]\tvalid_0's l2: 1485.93\tvalid_0's l1: 38.4989\n",
            "[14]\tvalid_0's l2: 1392.05\tvalid_0's l1: 37.2596\n",
            "[15]\tvalid_0's l2: 1305.27\tvalid_0's l1: 36.0764\n",
            "[16]\tvalid_0's l2: 1225.64\tvalid_0's l1: 34.9552\n",
            "[17]\tvalid_0's l2: 1151.99\tvalid_0's l1: 33.8854\n",
            "[18]\tvalid_0's l2: 1084.15\tvalid_0's l1: 32.8691\n",
            "[19]\tvalid_0's l2: 1021.61\tvalid_0's l1: 31.9037\n",
            "[20]\tvalid_0's l2: 963.928\tvalid_0's l1: 30.9864\n",
            "Did not meet early stopping. Best iteration is:\n",
            "[20]\tvalid_0's l2: 963.928\tvalid_0's l1: 30.9864\n",
            "The RMSE of prediction is: 31.047181878412893\n"
          ]
        },
        {
          "output_type": "stream",
          "name": "stderr",
          "text": [
            "/usr/local/lib/python3.7/dist-packages/ipykernel_launcher.py:38: FutureWarning: In a future version of pandas all arguments of DataFrame.drop except for the argument 'labels' will be keyword-only\n",
            "/usr/local/lib/python3.7/dist-packages/ipykernel_launcher.py:41: FutureWarning: In a future version of pandas all arguments of DataFrame.drop except for the argument 'labels' will be keyword-only\n",
            "/usr/local/lib/python3.7/dist-packages/ipykernel_launcher.py:44: FutureWarning: In a future version of pandas all arguments of DataFrame.drop except for the argument 'labels' will be keyword-only\n"
          ]
        },
        {
          "output_type": "stream",
          "name": "stdout",
          "text": [
            "\r[*********************100%***********************]  1 of 1 completed\n",
            "[1]\tvalid_0's l2: 3569.44\tvalid_0's l1: 59.7131\n",
            "Training until validation scores don't improve for 5 rounds.\n",
            "[2]\tvalid_0's l2: 3301.56\tvalid_0's l1: 57.4263\n",
            "[3]\tvalid_0's l2: 3056.77\tvalid_0's l1: 55.2538\n",
            "[4]\tvalid_0's l2: 2832.95\tvalid_0's l1: 53.1899\n",
            "[5]\tvalid_0's l2: 2628.22\tvalid_0's l1: 51.2292\n",
            "[6]\tvalid_0's l2: 2438.57\tvalid_0's l1: 49.3435\n",
            "[7]\tvalid_0's l2: 2263.72\tvalid_0's l1: 47.5387\n",
            "[8]\tvalid_0's l2: 2103.64\tvalid_0's l1: 45.8242\n",
            "[9]\tvalid_0's l2: 1957.02\tvalid_0's l1: 44.1954\n",
            "[10]\tvalid_0's l2: 1822.64\tvalid_0's l1: 42.648\n",
            "[11]\tvalid_0's l2: 1701.79\tvalid_0's l1: 41.2068\n",
            "[12]\tvalid_0's l2: 1591.22\tvalid_0's l1: 39.8427\n",
            "[13]\tvalid_0's l2: 1489.14\tvalid_0's l1: 38.5403\n",
            "[14]\tvalid_0's l2: 1398.41\tvalid_0's l1: 37.3446\n",
            "[15]\tvalid_0's l2: 1314.95\tvalid_0's l1: 36.21\n",
            "[16]\tvalid_0's l2: 1237.75\tvalid_0's l1: 35.1278\n",
            "[17]\tvalid_0's l2: 1166.64\tvalid_0's l1: 34.1006\n",
            "[18]\tvalid_0's l2: 1101.03\tvalid_0's l1: 33.1247\n",
            "[19]\tvalid_0's l2: 1040.47\tvalid_0's l1: 32.1976\n",
            "[20]\tvalid_0's l2: 984.536\tvalid_0's l1: 31.3169\n",
            "Did not meet early stopping. Best iteration is:\n",
            "[20]\tvalid_0's l2: 984.536\tvalid_0's l1: 31.3169\n",
            "The RMSE of prediction is: 31.377317113475055\n"
          ]
        },
        {
          "output_type": "stream",
          "name": "stderr",
          "text": [
            "/usr/local/lib/python3.7/dist-packages/ipykernel_launcher.py:38: FutureWarning: In a future version of pandas all arguments of DataFrame.drop except for the argument 'labels' will be keyword-only\n",
            "/usr/local/lib/python3.7/dist-packages/ipykernel_launcher.py:41: FutureWarning: In a future version of pandas all arguments of DataFrame.drop except for the argument 'labels' will be keyword-only\n",
            "/usr/local/lib/python3.7/dist-packages/ipykernel_launcher.py:44: FutureWarning: In a future version of pandas all arguments of DataFrame.drop except for the argument 'labels' will be keyword-only\n"
          ]
        },
        {
          "output_type": "stream",
          "name": "stdout",
          "text": [
            "\r[*********************100%***********************]  1 of 1 completed\n",
            "[1]\tvalid_0's l2: 5290.95\tvalid_0's l1: 72.72\n",
            "Training until validation scores don't improve for 5 rounds.\n",
            "[2]\tvalid_0's l2: 4752.05\tvalid_0's l1: 68.9185\n",
            "[3]\tvalid_0's l2: 4292.93\tvalid_0's l1: 65.5041\n",
            "[4]\tvalid_0's l2: 3878.36\tvalid_0's l1: 62.2603\n",
            "[5]\tvalid_0's l2: 3504.02\tvalid_0's l1: 59.1788\n",
            "[6]\tvalid_0's l2: 3161.39\tvalid_0's l1: 56.2102\n",
            "[7]\tvalid_0's l2: 2838.56\tvalid_0's l1: 53.2635\n",
            "[8]\tvalid_0's l2: 2562\tvalid_0's l1: 50.6009\n",
            "[9]\tvalid_0's l2: 2310.84\tvalid_0's l1: 48.0547\n",
            "[10]\tvalid_0's l2: 2084.3\tvalid_0's l1: 45.6359\n",
            "[11]\tvalid_0's l2: 1886.34\tvalid_0's l1: 43.4127\n",
            "[12]\tvalid_0's l2: 1707.43\tvalid_0's l1: 41.3007\n",
            "[13]\tvalid_0's l2: 1546.17\tvalid_0's l1: 39.2997\n",
            "[14]\tvalid_0's l2: 1395.97\tvalid_0's l1: 37.34\n",
            "[15]\tvalid_0's l2: 1264.45\tvalid_0's l1: 35.5349\n",
            "[16]\tvalid_0's l2: 1141.09\tvalid_0's l1: 33.7545\n",
            "[17]\tvalid_0's l2: 1029.77\tvalid_0's l1: 32.0632\n",
            "[18]\tvalid_0's l2: 929.319\tvalid_0's l1: 30.4565\n",
            "[19]\tvalid_0's l2: 839.211\tvalid_0's l1: 28.9375\n",
            "[20]\tvalid_0's l2: 757.851\tvalid_0's l1: 27.4928\n",
            "Did not meet early stopping. Best iteration is:\n",
            "[20]\tvalid_0's l2: 757.851\tvalid_0's l1: 27.4928\n",
            "The RMSE of prediction is: 27.52909771271547\n"
          ]
        },
        {
          "output_type": "stream",
          "name": "stderr",
          "text": [
            "/usr/local/lib/python3.7/dist-packages/ipykernel_launcher.py:38: FutureWarning: In a future version of pandas all arguments of DataFrame.drop except for the argument 'labels' will be keyword-only\n",
            "/usr/local/lib/python3.7/dist-packages/ipykernel_launcher.py:41: FutureWarning: In a future version of pandas all arguments of DataFrame.drop except for the argument 'labels' will be keyword-only\n",
            "/usr/local/lib/python3.7/dist-packages/ipykernel_launcher.py:44: FutureWarning: In a future version of pandas all arguments of DataFrame.drop except for the argument 'labels' will be keyword-only\n"
          ]
        },
        {
          "output_type": "stream",
          "name": "stdout",
          "text": [
            "\r[*********************100%***********************]  1 of 1 completed\n",
            "[1]\tvalid_0's l2: 2512.16\tvalid_0's l1: 50.0967\n",
            "Training until validation scores don't improve for 5 rounds.\n",
            "[2]\tvalid_0's l2: 2364.68\tvalid_0's l1: 48.6026\n",
            "[3]\tvalid_0's l2: 2241.5\tvalid_0's l1: 47.3183\n",
            "[4]\tvalid_0's l2: 2127.53\tvalid_0's l1: 46.0983\n",
            "[5]\tvalid_0's l2: 2022.01\tvalid_0's l1: 44.9393\n",
            "[6]\tvalid_0's l2: 1915.65\tvalid_0's l1: 43.7399\n",
            "[7]\tvalid_0's l2: 1817.05\tvalid_0's l1: 42.5978\n",
            "[8]\tvalid_0's l2: 1725.79\tvalid_0's l1: 41.5128\n",
            "[9]\tvalid_0's l2: 1641.28\tvalid_0's l1: 40.4821\n",
            "[10]\tvalid_0's l2: 1562.96\tvalid_0's l1: 39.503\n",
            "[11]\tvalid_0's l2: 1490.2\tvalid_0's l1: 38.571\n",
            "[12]\tvalid_0's l2: 1422.77\tvalid_0's l1: 37.6869\n",
            "[13]\tvalid_0's l2: 1360.05\tvalid_0's l1: 36.8453\n",
            "[14]\tvalid_0's l2: 1301.77\tvalid_0's l1: 36.0458\n",
            "[15]\tvalid_0's l2: 1247.59\tvalid_0's l1: 35.2862\n",
            "[16]\tvalid_0's l2: 1195.26\tvalid_0's l1: 34.5366\n",
            "[17]\tvalid_0's l2: 1146.86\tvalid_0's l1: 33.8287\n",
            "[18]\tvalid_0's l2: 1101.81\tvalid_0's l1: 33.1562\n",
            "[19]\tvalid_0's l2: 1059.53\tvalid_0's l1: 32.5124\n",
            "[20]\tvalid_0's l2: 1020.14\tvalid_0's l1: 31.9008\n",
            "Did not meet early stopping. Best iteration is:\n",
            "[20]\tvalid_0's l2: 1020.14\tvalid_0's l1: 31.9008\n",
            "The RMSE of prediction is: 31.939590825857746\n"
          ]
        },
        {
          "output_type": "stream",
          "name": "stderr",
          "text": [
            "/usr/local/lib/python3.7/dist-packages/ipykernel_launcher.py:38: FutureWarning: In a future version of pandas all arguments of DataFrame.drop except for the argument 'labels' will be keyword-only\n",
            "/usr/local/lib/python3.7/dist-packages/ipykernel_launcher.py:41: FutureWarning: In a future version of pandas all arguments of DataFrame.drop except for the argument 'labels' will be keyword-only\n",
            "/usr/local/lib/python3.7/dist-packages/ipykernel_launcher.py:44: FutureWarning: In a future version of pandas all arguments of DataFrame.drop except for the argument 'labels' will be keyword-only\n"
          ]
        },
        {
          "output_type": "stream",
          "name": "stdout",
          "text": [
            "\r[*********************100%***********************]  1 of 1 completed\n",
            "[1]\tvalid_0's l2: 3148.8\tvalid_0's l1: 56.1101\n",
            "Training until validation scores don't improve for 5 rounds.\n",
            "[2]\tvalid_0's l2: 3050.2\tvalid_0's l1: 55.2244\n",
            "[3]\tvalid_0's l2: 2961.87\tvalid_0's l1: 54.4188\n",
            "[4]\tvalid_0's l2: 2879.15\tvalid_0's l1: 53.6534\n",
            "[5]\tvalid_0's l2: 2801.66\tvalid_0's l1: 52.9263\n",
            "[6]\tvalid_0's l2: 2729.26\tvalid_0's l1: 52.2379\n",
            "[7]\tvalid_0's l2: 2658.82\tvalid_0's l1: 51.5593\n",
            "[8]\tvalid_0's l2: 2592.16\tvalid_0's l1: 50.9087\n",
            "[9]\tvalid_0's l2: 2532.37\tvalid_0's l1: 50.318\n",
            "[10]\tvalid_0's l2: 2473.49\tvalid_0's l1: 49.7295\n",
            "[11]\tvalid_0's l2: 2418.46\tvalid_0's l1: 49.1731\n",
            "[12]\tvalid_0's l2: 2365.84\tvalid_0's l1: 48.6351\n",
            "[13]\tvalid_0's l2: 2319.16\tvalid_0's l1: 48.1529\n",
            "[14]\tvalid_0's l2: 2275.26\tvalid_0's l1: 47.6948\n",
            "[15]\tvalid_0's l2: 2232.21\tvalid_0's l1: 47.2414\n",
            "[16]\tvalid_0's l2: 2188.83\tvalid_0's l1: 46.7799\n",
            "[17]\tvalid_0's l2: 2148\tvalid_0's l1: 46.3415\n",
            "[18]\tvalid_0's l2: 2109.57\tvalid_0's l1: 45.925\n",
            "[19]\tvalid_0's l2: 2076.7\tvalid_0's l1: 45.5657\n",
            "[20]\tvalid_0's l2: 2044.02\tvalid_0's l1: 45.2057\n",
            "Did not meet early stopping. Best iteration is:\n",
            "[20]\tvalid_0's l2: 2044.02\tvalid_0's l1: 45.2057\n",
            "The RMSE of prediction is: 45.21079411295461\n"
          ]
        },
        {
          "output_type": "stream",
          "name": "stderr",
          "text": [
            "/usr/local/lib/python3.7/dist-packages/ipykernel_launcher.py:38: FutureWarning: In a future version of pandas all arguments of DataFrame.drop except for the argument 'labels' will be keyword-only\n",
            "/usr/local/lib/python3.7/dist-packages/ipykernel_launcher.py:41: FutureWarning: In a future version of pandas all arguments of DataFrame.drop except for the argument 'labels' will be keyword-only\n",
            "/usr/local/lib/python3.7/dist-packages/ipykernel_launcher.py:44: FutureWarning: In a future version of pandas all arguments of DataFrame.drop except for the argument 'labels' will be keyword-only\n"
          ]
        },
        {
          "output_type": "stream",
          "name": "stdout",
          "text": [
            "\r[*********************100%***********************]  1 of 1 completed\n",
            "[1]\tvalid_0's l2: 52592.4\tvalid_0's l1: 229.083\n",
            "Training until validation scores don't improve for 5 rounds.\n",
            "[2]\tvalid_0's l2: 49847.9\tvalid_0's l1: 223.012\n",
            "[3]\tvalid_0's l2: 47314.7\tvalid_0's l1: 217.258\n",
            "[4]\tvalid_0's l2: 44969.5\tvalid_0's l1: 211.792\n",
            "[5]\tvalid_0's l2: 42796.9\tvalid_0's l1: 206.599\n",
            "[6]\tvalid_0's l2: 40787.7\tvalid_0's l1: 201.678\n",
            "[7]\tvalid_0's l2: 38926.1\tvalid_0's l1: 197.009\n",
            "[8]\tvalid_0's l2: 37197.9\tvalid_0's l1: 192.573\n",
            "[9]\tvalid_0's l2: 35592.6\tvalid_0's l1: 188.359\n",
            "[10]\tvalid_0's l2: 34096.8\tvalid_0's l1: 184.345\n",
            "[11]\tvalid_0's l2: 32703.6\tvalid_0's l1: 180.527\n",
            "[12]\tvalid_0's l2: 31403.9\tvalid_0's l1: 176.891\n",
            "[13]\tvalid_0's l2: 30196.2\tvalid_0's l1: 173.444\n",
            "[14]\tvalid_0's l2: 29070.9\tvalid_0's l1: 170.169\n",
            "[15]\tvalid_0's l2: 28018.6\tvalid_0's l1: 167.048\n",
            "[16]\tvalid_0's l2: 27048.4\tvalid_0's l1: 164.118\n",
            "[17]\tvalid_0's l2: 26133.7\tvalid_0's l1: 161.308\n",
            "[18]\tvalid_0's l2: 25279.5\tvalid_0's l1: 158.638\n",
            "[19]\tvalid_0's l2: 24481.1\tvalid_0's l1: 156.101\n",
            "[20]\tvalid_0's l2: 23734.6\tvalid_0's l1: 153.691\n",
            "Did not meet early stopping. Best iteration is:\n",
            "[20]\tvalid_0's l2: 23734.6\tvalid_0's l1: 153.691\n",
            "The RMSE of prediction is: 154.06045968361565\n"
          ]
        },
        {
          "output_type": "stream",
          "name": "stderr",
          "text": [
            "/usr/local/lib/python3.7/dist-packages/ipykernel_launcher.py:38: FutureWarning: In a future version of pandas all arguments of DataFrame.drop except for the argument 'labels' will be keyword-only\n",
            "/usr/local/lib/python3.7/dist-packages/ipykernel_launcher.py:41: FutureWarning: In a future version of pandas all arguments of DataFrame.drop except for the argument 'labels' will be keyword-only\n",
            "/usr/local/lib/python3.7/dist-packages/ipykernel_launcher.py:44: FutureWarning: In a future version of pandas all arguments of DataFrame.drop except for the argument 'labels' will be keyword-only\n"
          ]
        },
        {
          "output_type": "stream",
          "name": "stdout",
          "text": [
            "\r[*********************100%***********************]  1 of 1 completed\n",
            "[1]\tvalid_0's l2: 14706.4\tvalid_0's l1: 121.183\n",
            "Training until validation scores don't improve for 5 rounds.\n",
            "[2]\tvalid_0's l2: 13907.6\tvalid_0's l1: 117.841\n",
            "[3]\tvalid_0's l2: 13167.2\tvalid_0's l1: 114.656\n",
            "[4]\tvalid_0's l2: 12488.8\tvalid_0's l1: 111.659\n",
            "[5]\tvalid_0's l2: 11854.6\tvalid_0's l1: 108.782\n",
            "[6]\tvalid_0's l2: 11359.9\tvalid_0's l1: 106.484\n",
            "[7]\tvalid_0's l2: 10899.7\tvalid_0's l1: 104.301\n",
            "[8]\tvalid_0's l2: 10421.1\tvalid_0's l1: 101.981\n",
            "[9]\tvalid_0's l2: 10024.7\tvalid_0's l1: 100.018\n",
            "[10]\tvalid_0's l2: 9589.38\tvalid_0's l1: 97.8176\n",
            "[11]\tvalid_0's l2: 9182.77\tvalid_0's l1: 95.7166\n",
            "[12]\tvalid_0's l2: 8801.68\tvalid_0's l1: 93.7047\n",
            "[13]\tvalid_0's l2: 8449.75\tvalid_0's l1: 91.8077\n",
            "[14]\tvalid_0's l2: 8122.08\tvalid_0's l1: 90.0054\n",
            "[15]\tvalid_0's l2: 7813.75\tvalid_0's l1: 88.276\n",
            "[16]\tvalid_0's l2: 7525.83\tvalid_0's l1: 86.6298\n",
            "[17]\tvalid_0's l2: 7257.32\tvalid_0's l1: 85.066\n",
            "[18]\tvalid_0's l2: 7006.77\tvalid_0's l1: 83.5803\n",
            "[19]\tvalid_0's l2: 6772.83\tvalid_0's l1: 82.1689\n",
            "[20]\tvalid_0's l2: 6557.39\tvalid_0's l1: 80.8473\n",
            "Did not meet early stopping. Best iteration is:\n",
            "[20]\tvalid_0's l2: 6557.39\tvalid_0's l1: 80.8473\n",
            "The RMSE of prediction is: 80.97774331653474\n"
          ]
        },
        {
          "output_type": "stream",
          "name": "stderr",
          "text": [
            "/usr/local/lib/python3.7/dist-packages/ipykernel_launcher.py:38: FutureWarning: In a future version of pandas all arguments of DataFrame.drop except for the argument 'labels' will be keyword-only\n",
            "/usr/local/lib/python3.7/dist-packages/ipykernel_launcher.py:41: FutureWarning: In a future version of pandas all arguments of DataFrame.drop except for the argument 'labels' will be keyword-only\n",
            "/usr/local/lib/python3.7/dist-packages/ipykernel_launcher.py:44: FutureWarning: In a future version of pandas all arguments of DataFrame.drop except for the argument 'labels' will be keyword-only\n"
          ]
        },
        {
          "output_type": "stream",
          "name": "stdout",
          "text": [
            "\r[*********************100%***********************]  1 of 1 completed\n",
            "[1]\tvalid_0's l2: 29228.4\tvalid_0's l1: 170.842\n",
            "Training until validation scores don't improve for 5 rounds.\n",
            "[2]\tvalid_0's l2: 27043.4\tvalid_0's l1: 164.323\n",
            "[3]\tvalid_0's l2: 25046.3\tvalid_0's l1: 158.13\n",
            "[4]\tvalid_0's l2: 23220.2\tvalid_0's l1: 152.246\n",
            "[5]\tvalid_0's l2: 21526.9\tvalid_0's l1: 146.579\n",
            "[6]\tvalid_0's l2: 20006.1\tvalid_0's l1: 141.297\n",
            "[7]\tvalid_0's l2: 18613.7\tvalid_0's l1: 136.28\n",
            "[8]\tvalid_0's l2: 17337.5\tvalid_0's l1: 131.515\n",
            "[9]\tvalid_0's l2: 16166.3\tvalid_0's l1: 126.984\n",
            "[10]\tvalid_0's l2: 15092.3\tvalid_0's l1: 122.682\n",
            "[11]\tvalid_0's l2: 14086\tvalid_0's l1: 118.51\n",
            "[12]\tvalid_0's l2: 13164.2\tvalid_0's l1: 114.555\n",
            "[13]\tvalid_0's l2: 12315.6\tvalid_0's l1: 110.789\n",
            "[14]\tvalid_0's l2: 11535.7\tvalid_0's l1: 107.211\n",
            "[15]\tvalid_0's l2: 10818.5\tvalid_0's l1: 103.813\n",
            "[16]\tvalid_0's l2: 10183.1\tvalid_0's l1: 100.706\n",
            "[17]\tvalid_0's l2: 9601.96\tvalid_0's l1: 97.7782\n",
            "[18]\tvalid_0's l2: 9065.81\tvalid_0's l1: 94.997\n",
            "[19]\tvalid_0's l2: 8565.39\tvalid_0's l1: 92.3256\n",
            "[20]\tvalid_0's l2: 8102.33\tvalid_0's l1: 89.7828\n",
            "Did not meet early stopping. Best iteration is:\n",
            "[20]\tvalid_0's l2: 8102.33\tvalid_0's l1: 89.7828\n",
            "The RMSE of prediction is: 90.01294766914592\n"
          ]
        },
        {
          "output_type": "stream",
          "name": "stderr",
          "text": [
            "/usr/local/lib/python3.7/dist-packages/ipykernel_launcher.py:38: FutureWarning: In a future version of pandas all arguments of DataFrame.drop except for the argument 'labels' will be keyword-only\n",
            "/usr/local/lib/python3.7/dist-packages/ipykernel_launcher.py:41: FutureWarning: In a future version of pandas all arguments of DataFrame.drop except for the argument 'labels' will be keyword-only\n",
            "/usr/local/lib/python3.7/dist-packages/ipykernel_launcher.py:44: FutureWarning: In a future version of pandas all arguments of DataFrame.drop except for the argument 'labels' will be keyword-only\n"
          ]
        },
        {
          "output_type": "stream",
          "name": "stdout",
          "text": [
            "\r[*********************100%***********************]  1 of 1 completed\n",
            "[1]\tvalid_0's l2: 17541.5\tvalid_0's l1: 132.434\n",
            "Training until validation scores don't improve for 5 rounds.\n",
            "[2]\tvalid_0's l2: 17198.7\tvalid_0's l1: 131.133\n",
            "[3]\tvalid_0's l2: 16876.3\tvalid_0's l1: 129.898\n",
            "[4]\tvalid_0's l2: 16572.9\tvalid_0's l1: 128.725\n",
            "[5]\tvalid_0's l2: 16285.8\tvalid_0's l1: 127.605\n",
            "[6]\tvalid_0's l2: 16016.5\tvalid_0's l1: 126.546\n",
            "[7]\tvalid_0's l2: 15762.7\tvalid_0's l1: 125.539\n",
            "[8]\tvalid_0's l2: 15523.7\tvalid_0's l1: 124.583\n",
            "[9]\tvalid_0's l2: 15298.1\tvalid_0's l1: 123.674\n",
            "[10]\tvalid_0's l2: 15085.3\tvalid_0's l1: 122.811\n",
            "[11]\tvalid_0's l2: 14882.8\tvalid_0's l1: 121.984\n",
            "[12]\tvalid_0's l2: 14693.5\tvalid_0's l1: 121.206\n",
            "[13]\tvalid_0's l2: 14513.2\tvalid_0's l1: 120.459\n",
            "[14]\tvalid_0's l2: 14344.3\tvalid_0's l1: 119.756\n",
            "[15]\tvalid_0's l2: 14184.9\tvalid_0's l1: 119.089\n",
            "[16]\tvalid_0's l2: 14029.9\tvalid_0's l1: 118.436\n",
            "[17]\tvalid_0's l2: 13886.6\tvalid_0's l1: 117.83\n",
            "[18]\tvalid_0's l2: 13751.1\tvalid_0's l1: 117.254\n",
            "[19]\tvalid_0's l2: 13620\tvalid_0's l1: 116.693\n",
            "[20]\tvalid_0's l2: 13495.9\tvalid_0's l1: 116.16\n",
            "Did not meet early stopping. Best iteration is:\n",
            "[20]\tvalid_0's l2: 13495.9\tvalid_0's l1: 116.16\n",
            "The RMSE of prediction is: 116.17200954331416\n"
          ]
        },
        {
          "output_type": "stream",
          "name": "stderr",
          "text": [
            "/usr/local/lib/python3.7/dist-packages/ipykernel_launcher.py:38: FutureWarning: In a future version of pandas all arguments of DataFrame.drop except for the argument 'labels' will be keyword-only\n",
            "/usr/local/lib/python3.7/dist-packages/ipykernel_launcher.py:41: FutureWarning: In a future version of pandas all arguments of DataFrame.drop except for the argument 'labels' will be keyword-only\n",
            "/usr/local/lib/python3.7/dist-packages/ipykernel_launcher.py:44: FutureWarning: In a future version of pandas all arguments of DataFrame.drop except for the argument 'labels' will be keyword-only\n"
          ]
        },
        {
          "output_type": "stream",
          "name": "stdout",
          "text": [
            "\r[*********************100%***********************]  1 of 1 completed\n",
            "[1]\tvalid_0's l2: 6641.75\tvalid_0's l1: 81.4079\n",
            "Training until validation scores don't improve for 5 rounds.\n",
            "[2]\tvalid_0's l2: 6355.39\tvalid_0's l1: 79.6297\n",
            "[3]\tvalid_0's l2: 6089.21\tvalid_0's l1: 77.9404\n",
            "[4]\tvalid_0's l2: 5841.63\tvalid_0's l1: 76.3356\n",
            "[5]\tvalid_0's l2: 5611.2\tvalid_0's l1: 74.811\n",
            "[6]\tvalid_0's l2: 5408.2\tvalid_0's l1: 73.4418\n",
            "[7]\tvalid_0's l2: 5218.83\tvalid_0's l1: 72.141\n",
            "[8]\tvalid_0's l2: 5031.41\tvalid_0's l1: 70.8301\n",
            "[9]\tvalid_0's l2: 4866.71\tvalid_0's l1: 69.6577\n",
            "[10]\tvalid_0's l2: 4703.15\tvalid_0's l1: 68.4737\n",
            "[11]\tvalid_0's l2: 4561.42\tvalid_0's l1: 67.4308\n",
            "[12]\tvalid_0's l2: 4427.75\tvalid_0's l1: 66.4322\n",
            "[13]\tvalid_0's l2: 4303.66\tvalid_0's l1: 65.4916\n",
            "[14]\tvalid_0's l2: 4187.41\tvalid_0's l1: 64.598\n",
            "[15]\tvalid_0's l2: 4068.65\tvalid_0's l1: 63.6721\n",
            "[16]\tvalid_0's l2: 3958.06\tvalid_0's l1: 62.7977\n",
            "[17]\tvalid_0's l2: 3854.42\tvalid_0's l1: 61.967\n",
            "[18]\tvalid_0's l2: 3757.24\tvalid_0's l1: 61.1779\n",
            "[19]\tvalid_0's l2: 3666.07\tvalid_0's l1: 60.4282\n",
            "[20]\tvalid_0's l2: 3585.97\tvalid_0's l1: 59.7618\n",
            "Did not meet early stopping. Best iteration is:\n",
            "[20]\tvalid_0's l2: 3585.97\tvalid_0's l1: 59.7618\n",
            "The RMSE of prediction is: 59.883004100523465\n"
          ]
        },
        {
          "output_type": "stream",
          "name": "stderr",
          "text": [
            "/usr/local/lib/python3.7/dist-packages/ipykernel_launcher.py:38: FutureWarning: In a future version of pandas all arguments of DataFrame.drop except for the argument 'labels' will be keyword-only\n",
            "/usr/local/lib/python3.7/dist-packages/ipykernel_launcher.py:41: FutureWarning: In a future version of pandas all arguments of DataFrame.drop except for the argument 'labels' will be keyword-only\n",
            "/usr/local/lib/python3.7/dist-packages/ipykernel_launcher.py:44: FutureWarning: In a future version of pandas all arguments of DataFrame.drop except for the argument 'labels' will be keyword-only\n"
          ]
        },
        {
          "output_type": "stream",
          "name": "stdout",
          "text": [
            "\r[*********************100%***********************]  1 of 1 completed\n",
            "[1]\tvalid_0's l2: 179620\tvalid_0's l1: 423.262\n",
            "Training until validation scores don't improve for 5 rounds.\n",
            "[2]\tvalid_0's l2: 173113\tvalid_0's l1: 415.505\n",
            "[3]\tvalid_0's l2: 167043\tvalid_0's l1: 408.135\n",
            "[4]\tvalid_0's l2: 161378\tvalid_0's l1: 401.134\n",
            "[5]\tvalid_0's l2: 156086\tvalid_0's l1: 394.483\n",
            "[6]\tvalid_0's l2: 151220\tvalid_0's l1: 388.267\n",
            "[7]\tvalid_0's l2: 146678\tvalid_0's l1: 382.373\n",
            "[8]\tvalid_0's l2: 142419\tvalid_0's l1: 376.762\n",
            "[9]\tvalid_0's l2: 138430\tvalid_0's l1: 371.431\n",
            "[10]\tvalid_0's l2: 134770\tvalid_0's l1: 366.471\n",
            "[11]\tvalid_0's l2: 131244\tvalid_0's l1: 361.629\n",
            "[12]\tvalid_0's l2: 127932\tvalid_0's l1: 357.019\n",
            "[13]\tvalid_0's l2: 124830\tvalid_0's l1: 352.648\n",
            "[14]\tvalid_0's l2: 121918\tvalid_0's l1: 348.496\n",
            "[15]\tvalid_0's l2: 119177\tvalid_0's l1: 344.54\n",
            "[16]\tvalid_0's l2: 116620\tvalid_0's l1: 340.809\n",
            "[17]\tvalid_0's l2: 114217\tvalid_0's l1: 337.265\n",
            "[18]\tvalid_0's l2: 111957\tvalid_0's l1: 333.898\n",
            "[19]\tvalid_0's l2: 109831\tvalid_0's l1: 330.699\n",
            "[20]\tvalid_0's l2: 107830\tvalid_0's l1: 327.66\n",
            "Did not meet early stopping. Best iteration is:\n",
            "[20]\tvalid_0's l2: 107830\tvalid_0's l1: 327.66\n",
            "The RMSE of prediction is: 328.3749645091315\n"
          ]
        },
        {
          "output_type": "stream",
          "name": "stderr",
          "text": [
            "/usr/local/lib/python3.7/dist-packages/ipykernel_launcher.py:38: FutureWarning: In a future version of pandas all arguments of DataFrame.drop except for the argument 'labels' will be keyword-only\n",
            "/usr/local/lib/python3.7/dist-packages/ipykernel_launcher.py:41: FutureWarning: In a future version of pandas all arguments of DataFrame.drop except for the argument 'labels' will be keyword-only\n",
            "/usr/local/lib/python3.7/dist-packages/ipykernel_launcher.py:44: FutureWarning: In a future version of pandas all arguments of DataFrame.drop except for the argument 'labels' will be keyword-only\n"
          ]
        },
        {
          "output_type": "stream",
          "name": "stdout",
          "text": [
            "\r[*********************100%***********************]  1 of 1 completed\n",
            "[1]\tvalid_0's l2: 1448.21\tvalid_0's l1: 38.0523\n",
            "Training until validation scores don't improve for 5 rounds.\n",
            "[2]\tvalid_0's l2: 1394.79\tvalid_0's l1: 37.3437\n",
            "[3]\tvalid_0's l2: 1345.93\tvalid_0's l1: 36.6836\n",
            "[4]\tvalid_0's l2: 1300.31\tvalid_0's l1: 36.0565\n",
            "[5]\tvalid_0's l2: 1257.26\tvalid_0's l1: 35.4545\n",
            "[6]\tvalid_0's l2: 1216\tvalid_0's l1: 34.8678\n",
            "[7]\tvalid_0's l2: 1178.05\tvalid_0's l1: 34.3193\n",
            "[8]\tvalid_0's l2: 1141.96\tvalid_0's l1: 33.7893\n",
            "[9]\tvalid_0's l2: 1108.19\tvalid_0's l1: 33.2859\n",
            "[10]\tvalid_0's l2: 1077.37\tvalid_0's l1: 32.8197\n",
            "[11]\tvalid_0's l2: 1047.63\tvalid_0's l1: 32.3634\n",
            "[12]\tvalid_0's l2: 1018.94\tvalid_0's l1: 31.9172\n",
            "[13]\tvalid_0's l2: 992.806\tvalid_0's l1: 31.505\n",
            "[14]\tvalid_0's l2: 968.29\tvalid_0's l1: 31.1135\n",
            "[15]\tvalid_0's l2: 945.991\tvalid_0's l1: 30.7531\n",
            "[16]\tvalid_0's l2: 924.283\tvalid_0's l1: 30.3981\n",
            "[17]\tvalid_0's l2: 903.895\tvalid_0's l1: 30.0609\n",
            "[18]\tvalid_0's l2: 885.004\tvalid_0's l1: 29.745\n",
            "[19]\tvalid_0's l2: 866.978\tvalid_0's l1: 29.4404\n",
            "[20]\tvalid_0's l2: 850.024\tvalid_0's l1: 29.1511\n",
            "Did not meet early stopping. Best iteration is:\n",
            "[20]\tvalid_0's l2: 850.024\tvalid_0's l1: 29.1511\n",
            "The RMSE of prediction is: 29.155173770284204\n"
          ]
        },
        {
          "output_type": "stream",
          "name": "stderr",
          "text": [
            "/usr/local/lib/python3.7/dist-packages/ipykernel_launcher.py:38: FutureWarning: In a future version of pandas all arguments of DataFrame.drop except for the argument 'labels' will be keyword-only\n",
            "/usr/local/lib/python3.7/dist-packages/ipykernel_launcher.py:41: FutureWarning: In a future version of pandas all arguments of DataFrame.drop except for the argument 'labels' will be keyword-only\n",
            "/usr/local/lib/python3.7/dist-packages/ipykernel_launcher.py:44: FutureWarning: In a future version of pandas all arguments of DataFrame.drop except for the argument 'labels' will be keyword-only\n"
          ]
        },
        {
          "output_type": "stream",
          "name": "stdout",
          "text": [
            "\r[*********************100%***********************]  1 of 1 completed\n",
            "[1]\tvalid_0's l2: 764.699\tvalid_0's l1: 19.216\n",
            "Training until validation scores don't improve for 5 rounds.\n",
            "[2]\tvalid_0's l2: 684.629\tvalid_0's l1: 18.023\n",
            "[3]\tvalid_0's l2: 608.895\tvalid_0's l1: 16.8472\n",
            "[4]\tvalid_0's l2: 542.667\tvalid_0's l1: 15.7453\n",
            "[5]\tvalid_0's l2: 482.019\tvalid_0's l1: 14.69\n",
            "[6]\tvalid_0's l2: 432.625\tvalid_0's l1: 13.779\n",
            "[7]\tvalid_0's l2: 382.41\tvalid_0's l1: 12.8008\n",
            "[8]\tvalid_0's l2: 336.789\tvalid_0's l1: 11.834\n",
            "[9]\tvalid_0's l2: 297.408\tvalid_0's l1: 11.0029\n",
            "[10]\tvalid_0's l2: 262.568\tvalid_0's l1: 10.2293\n",
            "[11]\tvalid_0's l2: 229.998\tvalid_0's l1: 9.44714\n",
            "[12]\tvalid_0's l2: 204.674\tvalid_0's l1: 8.66947\n",
            "[13]\tvalid_0's l2: 178.881\tvalid_0's l1: 7.98393\n",
            "[14]\tvalid_0's l2: 159.367\tvalid_0's l1: 7.38409\n",
            "[15]\tvalid_0's l2: 138.823\tvalid_0's l1: 6.75796\n",
            "[16]\tvalid_0's l2: 123.152\tvalid_0's l1: 6.26133\n",
            "[17]\tvalid_0's l2: 107.867\tvalid_0's l1: 5.75881\n",
            "[18]\tvalid_0's l2: 94.2211\tvalid_0's l1: 5.23477\n",
            "[19]\tvalid_0's l2: 81.9736\tvalid_0's l1: 4.7171\n",
            "[20]\tvalid_0's l2: 72.3438\tvalid_0's l1: 4.31315\n",
            "Did not meet early stopping. Best iteration is:\n",
            "[20]\tvalid_0's l2: 72.3438\tvalid_0's l1: 4.31315\n",
            "The RMSE of prediction is: 8.505515784334218\n"
          ]
        },
        {
          "output_type": "stream",
          "name": "stderr",
          "text": [
            "/usr/local/lib/python3.7/dist-packages/ipykernel_launcher.py:38: FutureWarning: In a future version of pandas all arguments of DataFrame.drop except for the argument 'labels' will be keyword-only\n",
            "/usr/local/lib/python3.7/dist-packages/ipykernel_launcher.py:41: FutureWarning: In a future version of pandas all arguments of DataFrame.drop except for the argument 'labels' will be keyword-only\n",
            "/usr/local/lib/python3.7/dist-packages/ipykernel_launcher.py:44: FutureWarning: In a future version of pandas all arguments of DataFrame.drop except for the argument 'labels' will be keyword-only\n"
          ]
        },
        {
          "output_type": "stream",
          "name": "stdout",
          "text": [
            "\r[*********************100%***********************]  1 of 1 completed\n",
            "[1]\tvalid_0's l2: 29513.7\tvalid_0's l1: 171.785\n",
            "Training until validation scores don't improve for 5 rounds.\n",
            "[2]\tvalid_0's l2: 28481\tvalid_0's l1: 168.752\n",
            "[3]\tvalid_0's l2: 27516.9\tvalid_0's l1: 165.871\n",
            "[4]\tvalid_0's l2: 26610.9\tvalid_0's l1: 163.117\n",
            "[5]\tvalid_0's l2: 25745.5\tvalid_0's l1: 160.443\n",
            "[6]\tvalid_0's l2: 24958\tvalid_0's l1: 157.97\n",
            "[7]\tvalid_0's l2: 24199.4\tvalid_0's l1: 155.55\n",
            "[8]\tvalid_0's l2: 23510.5\tvalid_0's l1: 153.32\n",
            "[9]\tvalid_0's l2: 22865.2\tvalid_0's l1: 151.201\n",
            "[10]\tvalid_0's l2: 22260.6\tvalid_0's l1: 149.188\n",
            "[11]\tvalid_0's l2: 21675.5\tvalid_0's l1: 147.214\n",
            "[12]\tvalid_0's l2: 21126.5\tvalid_0's l1: 145.337\n",
            "[13]\tvalid_0's l2: 20611.5\tvalid_0's l1: 143.554\n",
            "[14]\tvalid_0's l2: 20128.1\tvalid_0's l1: 141.861\n",
            "[15]\tvalid_0's l2: 19674.2\tvalid_0's l1: 140.252\n",
            "[16]\tvalid_0's l2: 19260.1\tvalid_0's l1: 138.768\n",
            "[17]\tvalid_0's l2: 18870.8\tvalid_0's l1: 137.358\n",
            "[18]\tvalid_0's l2: 18504.6\tvalid_0's l1: 136.018\n",
            "[19]\tvalid_0's l2: 18149.2\tvalid_0's l1: 134.706\n",
            "[20]\tvalid_0's l2: 17823.7\tvalid_0's l1: 133.492\n",
            "Did not meet early stopping. Best iteration is:\n",
            "[20]\tvalid_0's l2: 17823.7\tvalid_0's l1: 133.492\n",
            "The RMSE of prediction is: 133.50554688635327\n"
          ]
        },
        {
          "output_type": "stream",
          "name": "stderr",
          "text": [
            "/usr/local/lib/python3.7/dist-packages/ipykernel_launcher.py:38: FutureWarning: In a future version of pandas all arguments of DataFrame.drop except for the argument 'labels' will be keyword-only\n",
            "/usr/local/lib/python3.7/dist-packages/ipykernel_launcher.py:41: FutureWarning: In a future version of pandas all arguments of DataFrame.drop except for the argument 'labels' will be keyword-only\n",
            "/usr/local/lib/python3.7/dist-packages/ipykernel_launcher.py:44: FutureWarning: In a future version of pandas all arguments of DataFrame.drop except for the argument 'labels' will be keyword-only\n"
          ]
        },
        {
          "output_type": "stream",
          "name": "stdout",
          "text": [
            "\r[*********************100%***********************]  1 of 1 completed\n",
            "[1]\tvalid_0's l2: 981.828\tvalid_0's l1: 31.1959\n",
            "Training until validation scores don't improve for 5 rounds.\n",
            "[2]\tvalid_0's l2: 899.44\tvalid_0's l1: 29.8463\n",
            "[3]\tvalid_0's l2: 818.644\tvalid_0's l1: 28.4772\n",
            "[4]\tvalid_0's l2: 742.598\tvalid_0's l1: 27.1228\n",
            "[5]\tvalid_0's l2: 671.282\tvalid_0's l1: 25.8024\n",
            "[6]\tvalid_0's l2: 610.559\tvalid_0's l1: 24.6073\n",
            "[7]\tvalid_0's l2: 553.492\tvalid_0's l1: 23.4418\n",
            "[8]\tvalid_0's l2: 506.952\tvalid_0's l1: 22.4272\n",
            "[9]\tvalid_0's l2: 465.188\tvalid_0's l1: 21.476\n",
            "[10]\tvalid_0's l2: 428.24\tvalid_0's l1: 20.6115\n",
            "[11]\tvalid_0's l2: 391.945\tvalid_0's l1: 19.7183\n",
            "[12]\tvalid_0's l2: 354.265\tvalid_0's l1: 18.7562\n",
            "[13]\tvalid_0's l2: 321.7\tvalid_0's l1: 17.8824\n",
            "[14]\tvalid_0's l2: 292.25\tvalid_0's l1: 17.0522\n",
            "[15]\tvalid_0's l2: 264.808\tvalid_0's l1: 16.238\n",
            "[16]\tvalid_0's l2: 242.151\tvalid_0's l1: 15.5247\n",
            "[17]\tvalid_0's l2: 221.957\tvalid_0's l1: 14.8601\n",
            "[18]\tvalid_0's l2: 203.591\tvalid_0's l1: 14.2287\n",
            "[19]\tvalid_0's l2: 187.201\tvalid_0's l1: 13.6406\n",
            "[20]\tvalid_0's l2: 171.666\tvalid_0's l1: 13.0587\n",
            "Did not meet early stopping. Best iteration is:\n",
            "[20]\tvalid_0's l2: 171.666\tvalid_0's l1: 13.0587\n",
            "The RMSE of prediction is: 13.102134704270668\n"
          ]
        },
        {
          "output_type": "stream",
          "name": "stderr",
          "text": [
            "/usr/local/lib/python3.7/dist-packages/ipykernel_launcher.py:38: FutureWarning: In a future version of pandas all arguments of DataFrame.drop except for the argument 'labels' will be keyword-only\n",
            "/usr/local/lib/python3.7/dist-packages/ipykernel_launcher.py:41: FutureWarning: In a future version of pandas all arguments of DataFrame.drop except for the argument 'labels' will be keyword-only\n",
            "/usr/local/lib/python3.7/dist-packages/ipykernel_launcher.py:44: FutureWarning: In a future version of pandas all arguments of DataFrame.drop except for the argument 'labels' will be keyword-only\n"
          ]
        },
        {
          "output_type": "stream",
          "name": "stdout",
          "text": [
            "\r[*********************100%***********************]  1 of 1 completed\n",
            "[1]\tvalid_0's l2: 34398.9\tvalid_0's l1: 185.46\n",
            "Training until validation scores don't improve for 5 rounds.\n",
            "[2]\tvalid_0's l2: 30946.2\tvalid_0's l1: 175.905\n",
            "[3]\tvalid_0's l2: 27907\tvalid_0's l1: 167.045\n",
            "[4]\tvalid_0's l2: 25157.1\tvalid_0's l1: 158.601\n",
            "[5]\tvalid_0's l2: 22671\tvalid_0's l1: 150.559\n",
            "[6]\tvalid_0's l2: 20454.2\tvalid_0's l1: 143.01\n",
            "[7]\tvalid_0's l2: 18424.7\tvalid_0's l1: 135.73\n",
            "[8]\tvalid_0's l2: 16595\tvalid_0's l1: 128.815\n",
            "[9]\tvalid_0's l2: 14945.4\tvalid_0's l1: 122.245\n",
            "[10]\tvalid_0's l2: 13458.3\tvalid_0's l1: 116.004\n",
            "[11]\tvalid_0's l2: 12133.7\tvalid_0's l1: 110.147\n",
            "[12]\tvalid_0's l2: 10917.1\tvalid_0's l1: 104.479\n",
            "[13]\tvalid_0's l2: 9827.9\tvalid_0's l1: 99.1291\n",
            "[14]\tvalid_0's l2: 8854.63\tvalid_0's l1: 94.092\n",
            "[15]\tvalid_0's l2: 7967.9\tvalid_0's l1: 89.2566\n",
            "[16]\tvalid_0's l2: 7174.74\tvalid_0's l1: 84.6974\n",
            "[17]\tvalid_0's l2: 6463.03\tvalid_0's l1: 80.3862\n",
            "[18]\tvalid_0's l2: 5821.41\tvalid_0's l1: 76.2905\n",
            "[19]\tvalid_0's l2: 5243.11\tvalid_0's l1: 72.4013\n",
            "[20]\tvalid_0's l2: 4736.15\tvalid_0's l1: 68.8094\n",
            "Did not meet early stopping. Best iteration is:\n",
            "[20]\tvalid_0's l2: 4736.15\tvalid_0's l1: 68.8094\n",
            "The RMSE of prediction is: 68.81967671333075\n"
          ]
        },
        {
          "output_type": "stream",
          "name": "stderr",
          "text": [
            "/usr/local/lib/python3.7/dist-packages/ipykernel_launcher.py:38: FutureWarning: In a future version of pandas all arguments of DataFrame.drop except for the argument 'labels' will be keyword-only\n",
            "/usr/local/lib/python3.7/dist-packages/ipykernel_launcher.py:41: FutureWarning: In a future version of pandas all arguments of DataFrame.drop except for the argument 'labels' will be keyword-only\n",
            "/usr/local/lib/python3.7/dist-packages/ipykernel_launcher.py:44: FutureWarning: In a future version of pandas all arguments of DataFrame.drop except for the argument 'labels' will be keyword-only\n"
          ]
        },
        {
          "output_type": "stream",
          "name": "stdout",
          "text": [
            "\r[*********************100%***********************]  1 of 1 completed\n",
            "[1]\tvalid_0's l2: 1.48431e+06\tvalid_0's l1: 1218.19\n",
            "Training until validation scores don't improve for 5 rounds.\n",
            "[2]\tvalid_0's l2: 1.33886e+06\tvalid_0's l1: 1156.96\n",
            "[3]\tvalid_0's l2: 1.2075e+06\tvalid_0's l1: 1098.72\n",
            "[4]\tvalid_0's l2: 1.08899e+06\tvalid_0's l1: 1043.4\n",
            "[5]\tvalid_0's l2: 982073\tvalid_0's l1: 990.841\n",
            "[6]\tvalid_0's l2: 886177\tvalid_0's l1: 941.207\n",
            "[7]\tvalid_0's l2: 798818\tvalid_0's l1: 893.611\n",
            "[8]\tvalid_0's l2: 719763\tvalid_0's l1: 848.238\n",
            "[9]\tvalid_0's l2: 648495\tvalid_0's l1: 805.146\n",
            "[10]\tvalid_0's l2: 584194\tvalid_0's l1: 764.184\n",
            "[11]\tvalid_0's l2: 525933\tvalid_0's l1: 725.074\n",
            "[12]\tvalid_0's l2: 473746\tvalid_0's l1: 688.147\n",
            "[13]\tvalid_0's l2: 426185\tvalid_0's l1: 652.685\n",
            "[14]\tvalid_0's l2: 383503\tvalid_0's l1: 619.135\n",
            "[15]\tvalid_0's l2: 345236\tvalid_0's l1: 587.418\n",
            "[16]\tvalid_0's l2: 311209\tvalid_0's l1: 557.703\n",
            "[17]\tvalid_0's l2: 280399\tvalid_0's l1: 529.361\n",
            "[18]\tvalid_0's l2: 252572\tvalid_0's l1: 502.39\n",
            "[19]\tvalid_0's l2: 227396\tvalid_0's l1: 476.676\n",
            "[20]\tvalid_0's l2: 204528\tvalid_0's l1: 452.053\n",
            "Did not meet early stopping. Best iteration is:\n",
            "[20]\tvalid_0's l2: 204528\tvalid_0's l1: 452.053\n",
            "The RMSE of prediction is: 452.2472795143488\n"
          ]
        },
        {
          "output_type": "stream",
          "name": "stderr",
          "text": [
            "/usr/local/lib/python3.7/dist-packages/ipykernel_launcher.py:38: FutureWarning: In a future version of pandas all arguments of DataFrame.drop except for the argument 'labels' will be keyword-only\n",
            "/usr/local/lib/python3.7/dist-packages/ipykernel_launcher.py:41: FutureWarning: In a future version of pandas all arguments of DataFrame.drop except for the argument 'labels' will be keyword-only\n",
            "/usr/local/lib/python3.7/dist-packages/ipykernel_launcher.py:44: FutureWarning: In a future version of pandas all arguments of DataFrame.drop except for the argument 'labels' will be keyword-only\n"
          ]
        },
        {
          "output_type": "stream",
          "name": "stdout",
          "text": [
            "\r[*********************100%***********************]  1 of 1 completed\n",
            "[1]\tvalid_0's l2: 102946\tvalid_0's l1: 320.594\n",
            "Training until validation scores don't improve for 5 rounds.\n",
            "[2]\tvalid_0's l2: 96110.8\tvalid_0's l1: 309.75\n",
            "[3]\tvalid_0's l2: 89820.3\tvalid_0's l1: 299.424\n",
            "[4]\tvalid_0's l2: 83921.7\tvalid_0's l1: 289.406\n",
            "[5]\tvalid_0's l2: 78516\tvalid_0's l1: 279.911\n",
            "[6]\tvalid_0's l2: 73592.2\tvalid_0's l1: 270.973\n",
            "[7]\tvalid_0's l2: 69062.5\tvalid_0's l1: 262.482\n",
            "[8]\tvalid_0's l2: 64892.9\tvalid_0's l1: 254.416\n",
            "[9]\tvalid_0's l2: 61052.4\tvalid_0's l1: 246.752\n",
            "[10]\tvalid_0's l2: 57581.5\tvalid_0's l1: 239.616\n",
            "[11]\tvalid_0's l2: 54332.9\tvalid_0's l1: 232.739\n",
            "[12]\tvalid_0's l2: 51308.7\tvalid_0's l1: 226.148\n",
            "[13]\tvalid_0's l2: 48538.1\tvalid_0's l1: 219.937\n",
            "[14]\tvalid_0's l2: 45977.5\tvalid_0's l1: 214.037\n",
            "[15]\tvalid_0's l2: 43609.5\tvalid_0's l1: 208.432\n",
            "[16]\tvalid_0's l2: 41416.9\tvalid_0's l1: 203.104\n",
            "[17]\tvalid_0's l2: 39386.5\tvalid_0's l1: 198.043\n",
            "[18]\tvalid_0's l2: 37505.1\tvalid_0's l1: 193.234\n",
            "[19]\tvalid_0's l2: 35760.6\tvalid_0's l1: 188.666\n",
            "[20]\tvalid_0's l2: 34141.9\tvalid_0's l1: 184.327\n",
            "Did not meet early stopping. Best iteration is:\n",
            "[20]\tvalid_0's l2: 34141.9\tvalid_0's l1: 184.327\n",
            "The RMSE of prediction is: 184.77522630160306\n"
          ]
        },
        {
          "output_type": "stream",
          "name": "stderr",
          "text": [
            "/usr/local/lib/python3.7/dist-packages/ipykernel_launcher.py:38: FutureWarning: In a future version of pandas all arguments of DataFrame.drop except for the argument 'labels' will be keyword-only\n",
            "/usr/local/lib/python3.7/dist-packages/ipykernel_launcher.py:41: FutureWarning: In a future version of pandas all arguments of DataFrame.drop except for the argument 'labels' will be keyword-only\n",
            "/usr/local/lib/python3.7/dist-packages/ipykernel_launcher.py:44: FutureWarning: In a future version of pandas all arguments of DataFrame.drop except for the argument 'labels' will be keyword-only\n"
          ]
        },
        {
          "output_type": "stream",
          "name": "stdout",
          "text": [
            "\r[*********************100%***********************]  1 of 1 completed\n",
            "[1]\tvalid_0's l2: 17274.3\tvalid_0's l1: 131.405\n",
            "Training until validation scores don't improve for 5 rounds.\n",
            "[2]\tvalid_0's l2: 17004.4\tvalid_0's l1: 130.374\n",
            "[3]\tvalid_0's l2: 16749.9\tvalid_0's l1: 129.394\n",
            "[4]\tvalid_0's l2: 16509.9\tvalid_0's l1: 128.464\n",
            "[5]\tvalid_0's l2: 16290.2\tvalid_0's l1: 127.606\n",
            "[6]\tvalid_0's l2: 16076.5\tvalid_0's l1: 126.766\n",
            "[7]\tvalid_0's l2: 15880.5\tvalid_0's l1: 125.99\n",
            "[8]\tvalid_0's l2: 15689.6\tvalid_0's l1: 125.23\n",
            "[9]\tvalid_0's l2: 15509.3\tvalid_0's l1: 124.509\n",
            "[10]\tvalid_0's l2: 15336.6\tvalid_0's l1: 123.813\n",
            "[11]\tvalid_0's l2: 15181.1\tvalid_0's l1: 123.183\n",
            "[12]\tvalid_0's l2: 15034\tvalid_0's l1: 122.585\n",
            "[13]\tvalid_0's l2: 14888\tvalid_0's l1: 121.988\n",
            "[14]\tvalid_0's l2: 14753.5\tvalid_0's l1: 121.435\n",
            "[15]\tvalid_0's l2: 14622.9\tvalid_0's l1: 120.896\n",
            "[16]\tvalid_0's l2: 14505.4\tvalid_0's l1: 120.41\n",
            "[17]\tvalid_0's l2: 14394.7\tvalid_0's l1: 119.949\n",
            "[18]\tvalid_0's l2: 14280.5\tvalid_0's l1: 119.472\n",
            "[19]\tvalid_0's l2: 14172.4\tvalid_0's l1: 119.019\n",
            "[20]\tvalid_0's l2: 14077.7\tvalid_0's l1: 118.62\n",
            "Did not meet early stopping. Best iteration is:\n",
            "[20]\tvalid_0's l2: 14077.7\tvalid_0's l1: 118.62\n",
            "The RMSE of prediction is: 118.64962284091294\n"
          ]
        },
        {
          "output_type": "stream",
          "name": "stderr",
          "text": [
            "/usr/local/lib/python3.7/dist-packages/ipykernel_launcher.py:38: FutureWarning: In a future version of pandas all arguments of DataFrame.drop except for the argument 'labels' will be keyword-only\n",
            "/usr/local/lib/python3.7/dist-packages/ipykernel_launcher.py:41: FutureWarning: In a future version of pandas all arguments of DataFrame.drop except for the argument 'labels' will be keyword-only\n",
            "/usr/local/lib/python3.7/dist-packages/ipykernel_launcher.py:44: FutureWarning: In a future version of pandas all arguments of DataFrame.drop except for the argument 'labels' will be keyword-only\n"
          ]
        },
        {
          "output_type": "stream",
          "name": "stdout",
          "text": [
            "\r[*********************100%***********************]  1 of 1 completed\n",
            "[1]\tvalid_0's l2: 15641.5\tvalid_0's l1: 125.02\n",
            "Training until validation scores don't improve for 5 rounds.\n",
            "[2]\tvalid_0's l2: 14099.3\tvalid_0's l1: 118.699\n",
            "[3]\tvalid_0's l2: 12709.1\tvalid_0's l1: 112.697\n",
            "[4]\tvalid_0's l2: 11439.2\tvalid_0's l1: 106.92\n",
            "[5]\tvalid_0's l2: 10287.4\tvalid_0's l1: 101.395\n",
            "[6]\tvalid_0's l2: 9258.02\tvalid_0's l1: 96.1887\n",
            "[7]\tvalid_0's l2: 8340.64\tvalid_0's l1: 91.2986\n",
            "[8]\tvalid_0's l2: 7544.66\tvalid_0's l1: 86.8316\n",
            "[9]\tvalid_0's l2: 6795.34\tvalid_0's l1: 82.4053\n",
            "[10]\tvalid_0's l2: 6131.92\tvalid_0's l1: 78.2836\n",
            "[11]\tvalid_0's l2: 5529.92\tvalid_0's l1: 74.3394\n",
            "[12]\tvalid_0's l2: 4977.89\tvalid_0's l1: 70.529\n",
            "[13]\tvalid_0's l2: 4488.63\tvalid_0's l1: 66.9708\n",
            "[14]\tvalid_0's l2: 4037.65\tvalid_0's l1: 63.5147\n",
            "[15]\tvalid_0's l2: 3640.04\tvalid_0's l1: 60.3034\n",
            "[16]\tvalid_0's l2: 3275.29\tvalid_0's l1: 57.1991\n",
            "[17]\tvalid_0's l2: 2972.81\tvalid_0's l1: 54.491\n",
            "[18]\tvalid_0's l2: 2695.22\tvalid_0's l1: 51.8813\n",
            "[19]\tvalid_0's l2: 2429.37\tvalid_0's l1: 49.2523\n",
            "[20]\tvalid_0's l2: 2195.08\tvalid_0's l1: 46.8135\n",
            "Did not meet early stopping. Best iteration is:\n",
            "[20]\tvalid_0's l2: 2195.08\tvalid_0's l1: 46.8135\n",
            "The RMSE of prediction is: 46.85165867223342\n"
          ]
        },
        {
          "output_type": "stream",
          "name": "stderr",
          "text": [
            "/usr/local/lib/python3.7/dist-packages/ipykernel_launcher.py:38: FutureWarning: In a future version of pandas all arguments of DataFrame.drop except for the argument 'labels' will be keyword-only\n",
            "/usr/local/lib/python3.7/dist-packages/ipykernel_launcher.py:41: FutureWarning: In a future version of pandas all arguments of DataFrame.drop except for the argument 'labels' will be keyword-only\n",
            "/usr/local/lib/python3.7/dist-packages/ipykernel_launcher.py:44: FutureWarning: In a future version of pandas all arguments of DataFrame.drop except for the argument 'labels' will be keyword-only\n"
          ]
        },
        {
          "output_type": "stream",
          "name": "stdout",
          "text": [
            "\r[*********************100%***********************]  1 of 1 completed\n",
            "[1]\tvalid_0's l2: 148460\tvalid_0's l1: 385.233\n",
            "Training until validation scores don't improve for 5 rounds.\n",
            "[2]\tvalid_0's l2: 145314\tvalid_0's l1: 381.128\n",
            "[3]\tvalid_0's l2: 142357\tvalid_0's l1: 377.228\n",
            "[4]\tvalid_0's l2: 139575\tvalid_0's l1: 373.523\n",
            "[5]\tvalid_0's l2: 136958\tvalid_0's l1: 370.003\n",
            "[6]\tvalid_0's l2: 134468\tvalid_0's l1: 366.622\n",
            "[7]\tvalid_0's l2: 132156\tvalid_0's l1: 363.456\n",
            "[8]\tvalid_0's l2: 129906\tvalid_0's l1: 360.347\n",
            "[9]\tvalid_0's l2: 127786\tvalid_0's l1: 357.393\n",
            "[10]\tvalid_0's l2: 125853\tvalid_0's l1: 354.678\n",
            "[11]\tvalid_0's l2: 123974\tvalid_0's l1: 352.02\n",
            "[12]\tvalid_0's l2: 122202\tvalid_0's l1: 349.494\n",
            "[13]\tvalid_0's l2: 120530\tvalid_0's l1: 347.094\n",
            "[14]\tvalid_0's l2: 118993\tvalid_0's l1: 344.873\n",
            "[15]\tvalid_0's l2: 117502\tvalid_0's l1: 342.704\n",
            "[16]\tvalid_0's l2: 116096\tvalid_0's l1: 340.647\n",
            "[17]\tvalid_0's l2: 114769\tvalid_0's l1: 338.693\n",
            "[18]\tvalid_0's l2: 113515\tvalid_0's l1: 336.836\n",
            "[19]\tvalid_0's l2: 112297\tvalid_0's l1: 335.023\n",
            "[20]\tvalid_0's l2: 111145\tvalid_0's l1: 333.301\n",
            "Did not meet early stopping. Best iteration is:\n",
            "[20]\tvalid_0's l2: 111145\tvalid_0's l1: 333.301\n",
            "The RMSE of prediction is: 333.3848583085196\n"
          ]
        },
        {
          "output_type": "stream",
          "name": "stderr",
          "text": [
            "/usr/local/lib/python3.7/dist-packages/ipykernel_launcher.py:38: FutureWarning: In a future version of pandas all arguments of DataFrame.drop except for the argument 'labels' will be keyword-only\n",
            "/usr/local/lib/python3.7/dist-packages/ipykernel_launcher.py:41: FutureWarning: In a future version of pandas all arguments of DataFrame.drop except for the argument 'labels' will be keyword-only\n",
            "/usr/local/lib/python3.7/dist-packages/ipykernel_launcher.py:44: FutureWarning: In a future version of pandas all arguments of DataFrame.drop except for the argument 'labels' will be keyword-only\n"
          ]
        },
        {
          "output_type": "stream",
          "name": "stdout",
          "text": [
            "\r[*********************100%***********************]  1 of 1 completed\n",
            "[1]\tvalid_0's l2: 583.063\tvalid_0's l1: 24.1444\n",
            "Training until validation scores don't improve for 5 rounds.\n",
            "[2]\tvalid_0's l2: 520.92\tvalid_0's l1: 22.8212\n",
            "[3]\tvalid_0's l2: 445.021\tvalid_0's l1: 21.0929\n",
            "[4]\tvalid_0's l2: 378.451\tvalid_0's l1: 19.4509\n",
            "[5]\tvalid_0's l2: 320.204\tvalid_0's l1: 17.8911\n",
            "[6]\tvalid_0's l2: 282.509\tvalid_0's l1: 16.8047\n",
            "[7]\tvalid_0's l2: 239.666\tvalid_0's l1: 15.4775\n",
            "[8]\tvalid_0's l2: 194.174\tvalid_0's l1: 13.9306\n",
            "[9]\tvalid_0's l2: 160.072\tvalid_0's l1: 12.6475\n",
            "[10]\tvalid_0's l2: 132.622\tvalid_0's l1: 11.5113\n",
            "[11]\tvalid_0's l2: 102.437\tvalid_0's l1: 10.1156\n",
            "[12]\tvalid_0's l2: 86.704\tvalid_0's l1: 9.30547\n",
            "[13]\tvalid_0's l2: 66.3525\tvalid_0's l1: 8.13881\n",
            "[14]\tvalid_0's l2: 49.5399\tvalid_0's l1: 7.03049\n",
            "[15]\tvalid_0's l2: 38.556\tvalid_0's l1: 6.20031\n",
            "[16]\tvalid_0's l2: 30.9367\tvalid_0's l1: 5.55199\n",
            "[17]\tvalid_0's l2: 24.4132\tvalid_0's l1: 4.92961\n",
            "[18]\tvalid_0's l2: 17.8236\tvalid_0's l1: 4.20849\n",
            "[19]\tvalid_0's l2: 13.4198\tvalid_0's l1: 3.64796\n",
            "[20]\tvalid_0's l2: 9.16934\tvalid_0's l1: 3.00951\n",
            "Did not meet early stopping. Best iteration is:\n",
            "[20]\tvalid_0's l2: 9.16934\tvalid_0's l1: 3.00951\n",
            "The RMSE of prediction is: 3.0280915135235174\n"
          ]
        },
        {
          "output_type": "stream",
          "name": "stderr",
          "text": [
            "/usr/local/lib/python3.7/dist-packages/ipykernel_launcher.py:38: FutureWarning: In a future version of pandas all arguments of DataFrame.drop except for the argument 'labels' will be keyword-only\n",
            "/usr/local/lib/python3.7/dist-packages/ipykernel_launcher.py:41: FutureWarning: In a future version of pandas all arguments of DataFrame.drop except for the argument 'labels' will be keyword-only\n",
            "/usr/local/lib/python3.7/dist-packages/ipykernel_launcher.py:44: FutureWarning: In a future version of pandas all arguments of DataFrame.drop except for the argument 'labels' will be keyword-only\n"
          ]
        },
        {
          "output_type": "stream",
          "name": "stdout",
          "text": [
            "\r[*********************100%***********************]  1 of 1 completed\n",
            "[1]\tvalid_0's l2: 616.668\tvalid_0's l1: 24.8231\n",
            "Training until validation scores don't improve for 5 rounds.\n",
            "[2]\tvalid_0's l2: 547.695\tvalid_0's l1: 23.394\n",
            "[3]\tvalid_0's l2: 486.521\tvalid_0's l1: 22.0503\n",
            "[4]\tvalid_0's l2: 436.385\tvalid_0's l1: 20.8826\n",
            "[5]\tvalid_0's l2: 386.636\tvalid_0's l1: 19.6564\n",
            "[6]\tvalid_0's l2: 346.261\tvalid_0's l1: 18.601\n",
            "[7]\tvalid_0's l2: 307.295\tvalid_0's l1: 17.5242\n",
            "[8]\tvalid_0's l2: 273.072\tvalid_0's l1: 16.5208\n",
            "[9]\tvalid_0's l2: 241.217\tvalid_0's l1: 15.5282\n",
            "[10]\tvalid_0's l2: 215.277\tvalid_0's l1: 14.6692\n",
            "[11]\tvalid_0's l2: 189.815\tvalid_0's l1: 13.775\n",
            "[12]\tvalid_0's l2: 169.119\tvalid_0's l1: 13.0021\n",
            "[13]\tvalid_0's l2: 148.766\tvalid_0's l1: 12.1952\n",
            "[14]\tvalid_0's l2: 130.641\tvalid_0's l1: 11.4285\n",
            "[15]\tvalid_0's l2: 114.29\tvalid_0's l1: 10.6895\n",
            "[16]\tvalid_0's l2: 99.7964\tvalid_0's l1: 9.98902\n",
            "[17]\tvalid_0's l2: 87.6811\tvalid_0's l1: 9.36297\n",
            "[18]\tvalid_0's l2: 76.8976\tvalid_0's l1: 8.76823\n",
            "[19]\tvalid_0's l2: 67.0831\tvalid_0's l1: 8.18966\n",
            "[20]\tvalid_0's l2: 58.0624\tvalid_0's l1: 7.61908\n",
            "Did not meet early stopping. Best iteration is:\n",
            "[20]\tvalid_0's l2: 58.0624\tvalid_0's l1: 7.61908\n",
            "The RMSE of prediction is: 7.619869002799744\n"
          ]
        },
        {
          "output_type": "stream",
          "name": "stderr",
          "text": [
            "/usr/local/lib/python3.7/dist-packages/ipykernel_launcher.py:38: FutureWarning: In a future version of pandas all arguments of DataFrame.drop except for the argument 'labels' will be keyword-only\n",
            "/usr/local/lib/python3.7/dist-packages/ipykernel_launcher.py:41: FutureWarning: In a future version of pandas all arguments of DataFrame.drop except for the argument 'labels' will be keyword-only\n",
            "/usr/local/lib/python3.7/dist-packages/ipykernel_launcher.py:44: FutureWarning: In a future version of pandas all arguments of DataFrame.drop except for the argument 'labels' will be keyword-only\n"
          ]
        },
        {
          "output_type": "stream",
          "name": "stdout",
          "text": [
            "\r[*********************100%***********************]  1 of 1 completed\n",
            "[1]\tvalid_0's l2: 501.977\tvalid_0's l1: 22.3987\n",
            "Training until validation scores don't improve for 5 rounds.\n",
            "[2]\tvalid_0's l2: 453.932\tvalid_0's l1: 21.2992\n",
            "[3]\tvalid_0's l2: 410.391\tvalid_0's l1: 20.2513\n",
            "[4]\tvalid_0's l2: 371.061\tvalid_0's l1: 19.2558\n",
            "[5]\tvalid_0's l2: 335.632\tvalid_0's l1: 18.3127\n",
            "[6]\tvalid_0's l2: 303.584\tvalid_0's l1: 17.4157\n",
            "[7]\tvalid_0's l2: 274.815\tvalid_0's l1: 16.5692\n",
            "[8]\tvalid_0's l2: 248.635\tvalid_0's l1: 15.7594\n",
            "[9]\tvalid_0's l2: 224.979\tvalid_0's l1: 14.9901\n",
            "[10]\tvalid_0's l2: 203.782\tvalid_0's l1: 14.2655\n",
            "[11]\tvalid_0's l2: 184.455\tvalid_0's l1: 13.5712\n",
            "[12]\tvalid_0's l2: 166.933\tvalid_0's l1: 12.9095\n",
            "[13]\tvalid_0's l2: 151.142\tvalid_0's l1: 12.2827\n",
            "[14]\tvalid_0's l2: 136.868\tvalid_0's l1: 11.6872\n",
            "[15]\tvalid_0's l2: 123.966\tvalid_0's l1: 11.1215\n",
            "[16]\tvalid_0's l2: 112.282\tvalid_0's l1: 10.5832\n",
            "[17]\tvalid_0's l2: 101.719\tvalid_0's l1: 10.0719\n",
            "[18]\tvalid_0's l2: 92.1689\tvalid_0's l1: 9.58604\n",
            "[19]\tvalid_0's l2: 83.5449\tvalid_0's l1: 9.12556\n",
            "[20]\tvalid_0's l2: 75.7451\tvalid_0's l1: 8.68811\n",
            "Did not meet early stopping. Best iteration is:\n",
            "[20]\tvalid_0's l2: 75.7451\tvalid_0's l1: 8.68811\n",
            "The RMSE of prediction is: 8.703167435191512\n"
          ]
        },
        {
          "output_type": "stream",
          "name": "stderr",
          "text": [
            "/usr/local/lib/python3.7/dist-packages/ipykernel_launcher.py:38: FutureWarning: In a future version of pandas all arguments of DataFrame.drop except for the argument 'labels' will be keyword-only\n",
            "/usr/local/lib/python3.7/dist-packages/ipykernel_launcher.py:41: FutureWarning: In a future version of pandas all arguments of DataFrame.drop except for the argument 'labels' will be keyword-only\n",
            "/usr/local/lib/python3.7/dist-packages/ipykernel_launcher.py:44: FutureWarning: In a future version of pandas all arguments of DataFrame.drop except for the argument 'labels' will be keyword-only\n"
          ]
        },
        {
          "output_type": "stream",
          "name": "stdout",
          "text": [
            "\r[*********************100%***********************]  1 of 1 completed\n",
            "[1]\tvalid_0's l2: 817.852\tvalid_0's l1: 28.4111\n",
            "Training until validation scores don't improve for 5 rounds.\n",
            "[2]\tvalid_0's l2: 762.191\tvalid_0's l1: 27.4141\n",
            "[3]\tvalid_0's l2: 709.572\tvalid_0's l1: 26.437\n",
            "[4]\tvalid_0's l2: 661.352\tvalid_0's l1: 25.5087\n",
            "[5]\tvalid_0's l2: 617.14\tvalid_0's l1: 24.6268\n",
            "[6]\tvalid_0's l2: 578.078\tvalid_0's l1: 23.8206\n",
            "[7]\tvalid_0's l2: 543.17\tvalid_0's l1: 23.0762\n",
            "[8]\tvalid_0's l2: 510.067\tvalid_0's l1: 22.3474\n",
            "[9]\tvalid_0's l2: 479.603\tvalid_0's l1: 21.6551\n",
            "[10]\tvalid_0's l2: 451.55\tvalid_0's l1: 20.9974\n",
            "[11]\tvalid_0's l2: 425.02\tvalid_0's l1: 20.3559\n",
            "[12]\tvalid_0's l2: 402.488\tvalid_0's l1: 19.7947\n",
            "[13]\tvalid_0's l2: 379.809\tvalid_0's l1: 19.2133\n",
            "[14]\tvalid_0's l2: 358.889\tvalid_0's l1: 18.6609\n",
            "[15]\tvalid_0's l2: 341.48\tvalid_0's l1: 18.1885\n",
            "[16]\tvalid_0's l2: 322.854\tvalid_0's l1: 17.669\n",
            "[17]\tvalid_0's l2: 305.66\tvalid_0's l1: 17.1756\n",
            "[18]\tvalid_0's l2: 289.776\tvalid_0's l1: 16.7068\n",
            "[19]\tvalid_0's l2: 274.329\tvalid_0's l1: 16.2379\n",
            "[20]\tvalid_0's l2: 260.061\tvalid_0's l1: 15.7925\n",
            "Did not meet early stopping. Best iteration is:\n",
            "[20]\tvalid_0's l2: 260.061\tvalid_0's l1: 15.7925\n",
            "The RMSE of prediction is: 16.126399710960808\n"
          ]
        },
        {
          "output_type": "stream",
          "name": "stderr",
          "text": [
            "/usr/local/lib/python3.7/dist-packages/ipykernel_launcher.py:38: FutureWarning: In a future version of pandas all arguments of DataFrame.drop except for the argument 'labels' will be keyword-only\n",
            "/usr/local/lib/python3.7/dist-packages/ipykernel_launcher.py:41: FutureWarning: In a future version of pandas all arguments of DataFrame.drop except for the argument 'labels' will be keyword-only\n",
            "/usr/local/lib/python3.7/dist-packages/ipykernel_launcher.py:44: FutureWarning: In a future version of pandas all arguments of DataFrame.drop except for the argument 'labels' will be keyword-only\n"
          ]
        },
        {
          "output_type": "stream",
          "name": "stdout",
          "text": [
            "\r[*********************100%***********************]  1 of 1 completed\n",
            "[1]\tvalid_0's l2: 2583.06\tvalid_0's l1: 50.8206\n",
            "Training until validation scores don't improve for 5 rounds.\n",
            "[2]\tvalid_0's l2: 2473.27\tvalid_0's l1: 49.7287\n",
            "[3]\tvalid_0's l2: 2371.17\tvalid_0's l1: 48.6914\n",
            "[4]\tvalid_0's l2: 2276.17\tvalid_0's l1: 47.7059\n",
            "[5]\tvalid_0's l2: 2187.72\tvalid_0's l1: 46.7697\n",
            "[6]\tvalid_0's l2: 2102.2\tvalid_0's l1: 45.8464\n",
            "[7]\tvalid_0's l2: 2022.54\tvalid_0's l1: 44.9691\n",
            "[8]\tvalid_0's l2: 1948.28\tvalid_0's l1: 44.1358\n",
            "[9]\tvalid_0's l2: 1882.04\tvalid_0's l1: 43.3788\n",
            "[10]\tvalid_0's l2: 1817.26\tvalid_0's l1: 42.6256\n",
            "[11]\tvalid_0's l2: 1756.13\tvalid_0's l1: 41.9024\n",
            "[12]\tvalid_0's l2: 1701.41\tvalid_0's l1: 41.2444\n",
            "[13]\tvalid_0's l2: 1647.93\tvalid_0's l1: 40.5908\n",
            "[14]\tvalid_0's l2: 1600.25\tvalid_0's l1: 39.9992\n",
            "[15]\tvalid_0's l2: 1553.33\tvalid_0's l1: 39.4083\n",
            "[16]\tvalid_0's l2: 1511.17\tvalid_0's l1: 38.8698\n",
            "[17]\tvalid_0's l2: 1471.68\tvalid_0's l1: 38.3584\n",
            "[18]\tvalid_0's l2: 1434.65\tvalid_0's l1: 37.8726\n",
            "[19]\tvalid_0's l2: 1398.4\tvalid_0's l1: 37.391\n",
            "[20]\tvalid_0's l2: 1365.75\tvalid_0's l1: 36.9518\n",
            "Did not meet early stopping. Best iteration is:\n",
            "[20]\tvalid_0's l2: 1365.75\tvalid_0's l1: 36.9518\n",
            "The RMSE of prediction is: 36.95603327077736\n"
          ]
        },
        {
          "output_type": "stream",
          "name": "stderr",
          "text": [
            "/usr/local/lib/python3.7/dist-packages/ipykernel_launcher.py:38: FutureWarning: In a future version of pandas all arguments of DataFrame.drop except for the argument 'labels' will be keyword-only\n",
            "/usr/local/lib/python3.7/dist-packages/ipykernel_launcher.py:41: FutureWarning: In a future version of pandas all arguments of DataFrame.drop except for the argument 'labels' will be keyword-only\n",
            "/usr/local/lib/python3.7/dist-packages/ipykernel_launcher.py:44: FutureWarning: In a future version of pandas all arguments of DataFrame.drop except for the argument 'labels' will be keyword-only\n"
          ]
        },
        {
          "output_type": "stream",
          "name": "stdout",
          "text": [
            "\r[*********************100%***********************]  1 of 1 completed\n",
            "[1]\tvalid_0's l2: 188820\tvalid_0's l1: 434.528\n",
            "Training until validation scores don't improve for 5 rounds.\n",
            "[2]\tvalid_0's l2: 183811\tvalid_0's l1: 428.725\n",
            "[3]\tvalid_0's l2: 179001\tvalid_0's l1: 423.078\n",
            "[4]\tvalid_0's l2: 174490\tvalid_0's l1: 417.713\n",
            "[5]\tvalid_0's l2: 170258\tvalid_0's l1: 412.617\n",
            "[6]\tvalid_0's l2: 166284\tvalid_0's l1: 407.772\n",
            "[7]\tvalid_0's l2: 162552\tvalid_0's l1: 403.17\n",
            "[8]\tvalid_0's l2: 159047\tvalid_0's l1: 398.799\n",
            "[9]\tvalid_0's l2: 155752\tvalid_0's l1: 394.646\n",
            "[10]\tvalid_0's l2: 152653\tvalid_0's l1: 390.701\n",
            "[11]\tvalid_0's l2: 149795\tvalid_0's l1: 387.026\n",
            "[12]\tvalid_0's l2: 147036\tvalid_0's l1: 383.445\n",
            "[13]\tvalid_0's l2: 144438\tvalid_0's l1: 380.043\n",
            "[14]\tvalid_0's l2: 141992\tvalid_0's l1: 376.811\n",
            "[15]\tvalid_0's l2: 139685\tvalid_0's l1: 373.737\n",
            "[16]\tvalid_0's l2: 137595\tvalid_0's l1: 370.931\n",
            "[17]\tvalid_0's l2: 135580\tvalid_0's l1: 368.204\n",
            "[18]\tvalid_0's l2: 133679\tvalid_0's l1: 365.613\n",
            "[19]\tvalid_0's l2: 131924\tvalid_0's l1: 363.206\n",
            "[20]\tvalid_0's l2: 130229\tvalid_0's l1: 360.865\n",
            "Did not meet early stopping. Best iteration is:\n",
            "[20]\tvalid_0's l2: 130229\tvalid_0's l1: 360.865\n",
            "The RMSE of prediction is: 360.87285160235484\n"
          ]
        },
        {
          "output_type": "stream",
          "name": "stderr",
          "text": [
            "/usr/local/lib/python3.7/dist-packages/ipykernel_launcher.py:38: FutureWarning: In a future version of pandas all arguments of DataFrame.drop except for the argument 'labels' will be keyword-only\n",
            "/usr/local/lib/python3.7/dist-packages/ipykernel_launcher.py:41: FutureWarning: In a future version of pandas all arguments of DataFrame.drop except for the argument 'labels' will be keyword-only\n",
            "/usr/local/lib/python3.7/dist-packages/ipykernel_launcher.py:44: FutureWarning: In a future version of pandas all arguments of DataFrame.drop except for the argument 'labels' will be keyword-only\n"
          ]
        },
        {
          "output_type": "stream",
          "name": "stdout",
          "text": [
            "\r[*********************100%***********************]  1 of 1 completed\n",
            "[1]\tvalid_0's l2: 535.212\tvalid_0's l1: 22.1831\n",
            "Training until validation scores don't improve for 5 rounds.\n",
            "[2]\tvalid_0's l2: 499.657\tvalid_0's l1: 21.4187\n",
            "[3]\tvalid_0's l2: 468.148\tvalid_0's l1: 20.7154\n",
            "[4]\tvalid_0's l2: 437.775\tvalid_0's l1: 20.0059\n",
            "[5]\tvalid_0's l2: 411.282\tvalid_0's l1: 19.3806\n",
            "[6]\tvalid_0's l2: 384.164\tvalid_0's l1: 18.7103\n",
            "[7]\tvalid_0's l2: 358.72\tvalid_0's l1: 18.0655\n",
            "[8]\tvalid_0's l2: 335.365\tvalid_0's l1: 17.453\n",
            "[9]\tvalid_0's l2: 313.821\tvalid_0's l1: 16.8641\n",
            "[10]\tvalid_0's l2: 294.103\tvalid_0's l1: 16.3106\n",
            "[11]\tvalid_0's l2: 273.997\tvalid_0's l1: 15.7329\n",
            "[12]\tvalid_0's l2: 257.088\tvalid_0's l1: 15.2277\n",
            "[13]\tvalid_0's l2: 240.132\tvalid_0's l1: 14.7065\n",
            "[14]\tvalid_0's l2: 224.568\tvalid_0's l1: 14.2112\n",
            "[15]\tvalid_0's l2: 210.226\tvalid_0's l1: 13.7363\n",
            "[16]\tvalid_0's l2: 200.656\tvalid_0's l1: 13.4081\n",
            "[17]\tvalid_0's l2: 192.019\tvalid_0's l1: 13.104\n",
            "[18]\tvalid_0's l2: 183.998\tvalid_0's l1: 12.8152\n",
            "[19]\tvalid_0's l2: 176.361\tvalid_0's l1: 12.5339\n",
            "[20]\tvalid_0's l2: 168.707\tvalid_0's l1: 12.2428\n",
            "Did not meet early stopping. Best iteration is:\n",
            "[20]\tvalid_0's l2: 168.707\tvalid_0's l1: 12.2428\n",
            "The RMSE of prediction is: 12.988741675197776\n"
          ]
        },
        {
          "output_type": "stream",
          "name": "stderr",
          "text": [
            "/usr/local/lib/python3.7/dist-packages/ipykernel_launcher.py:38: FutureWarning: In a future version of pandas all arguments of DataFrame.drop except for the argument 'labels' will be keyword-only\n",
            "/usr/local/lib/python3.7/dist-packages/ipykernel_launcher.py:41: FutureWarning: In a future version of pandas all arguments of DataFrame.drop except for the argument 'labels' will be keyword-only\n",
            "/usr/local/lib/python3.7/dist-packages/ipykernel_launcher.py:44: FutureWarning: In a future version of pandas all arguments of DataFrame.drop except for the argument 'labels' will be keyword-only\n"
          ]
        },
        {
          "output_type": "stream",
          "name": "stdout",
          "text": [
            "\r[*********************100%***********************]  1 of 1 completed\n",
            "[1]\tvalid_0's l2: 678.438\tvalid_0's l1: 26.0443\n",
            "Training until validation scores don't improve for 5 rounds.\n",
            "[2]\tvalid_0's l2: 656.751\tvalid_0's l1: 25.6246\n",
            "[3]\tvalid_0's l2: 636.477\tvalid_0's l1: 25.2259\n",
            "[4]\tvalid_0's l2: 617.204\tvalid_0's l1: 24.8409\n",
            "[5]\tvalid_0's l2: 599.446\tvalid_0's l1: 24.4809\n",
            "[6]\tvalid_0's l2: 582.943\tvalid_0's l1: 24.1415\n",
            "[7]\tvalid_0's l2: 567.479\tvalid_0's l1: 23.819\n",
            "[8]\tvalid_0's l2: 552.571\tvalid_0's l1: 23.504\n",
            "[9]\tvalid_0's l2: 538.964\tvalid_0's l1: 23.2127\n",
            "[10]\tvalid_0's l2: 526.025\tvalid_0's l1: 22.9323\n",
            "[11]\tvalid_0's l2: 513.675\tvalid_0's l1: 22.6615\n",
            "[12]\tvalid_0's l2: 502.007\tvalid_0's l1: 22.4026\n",
            "[13]\tvalid_0's l2: 491.265\tvalid_0's l1: 22.1615\n",
            "[14]\tvalid_0's l2: 481.015\tvalid_0's l1: 21.929\n",
            "[15]\tvalid_0's l2: 471.312\tvalid_0's l1: 21.7067\n",
            "[16]\tvalid_0's l2: 462.235\tvalid_0's l1: 21.4966\n",
            "[17]\tvalid_0's l2: 453.821\tvalid_0's l1: 21.3\n",
            "[18]\tvalid_0's l2: 445.899\tvalid_0's l1: 21.1132\n",
            "[19]\tvalid_0's l2: 438.312\tvalid_0's l1: 20.9327\n",
            "[20]\tvalid_0's l2: 431.28\tvalid_0's l1: 20.7641\n",
            "Did not meet early stopping. Best iteration is:\n",
            "[20]\tvalid_0's l2: 431.28\tvalid_0's l1: 20.7641\n",
            "The RMSE of prediction is: 20.767273395279627\n"
          ]
        },
        {
          "output_type": "stream",
          "name": "stderr",
          "text": [
            "/usr/local/lib/python3.7/dist-packages/ipykernel_launcher.py:38: FutureWarning: In a future version of pandas all arguments of DataFrame.drop except for the argument 'labels' will be keyword-only\n",
            "/usr/local/lib/python3.7/dist-packages/ipykernel_launcher.py:41: FutureWarning: In a future version of pandas all arguments of DataFrame.drop except for the argument 'labels' will be keyword-only\n",
            "/usr/local/lib/python3.7/dist-packages/ipykernel_launcher.py:44: FutureWarning: In a future version of pandas all arguments of DataFrame.drop except for the argument 'labels' will be keyword-only\n"
          ]
        },
        {
          "output_type": "stream",
          "name": "stdout",
          "text": [
            "\r[*********************100%***********************]  1 of 1 completed\n",
            "[1]\tvalid_0's l2: 628.797\tvalid_0's l1: 24.9644\n",
            "Training until validation scores don't improve for 5 rounds.\n",
            "[2]\tvalid_0's l2: 580.353\tvalid_0's l1: 23.9745\n",
            "[3]\tvalid_0's l2: 536.655\tvalid_0's l1: 23.0605\n",
            "[4]\tvalid_0's l2: 496.986\tvalid_0's l1: 22.1837\n",
            "[5]\tvalid_0's l2: 460.412\tvalid_0's l1: 21.3573\n",
            "[6]\tvalid_0's l2: 427.44\tvalid_0's l1: 20.5867\n",
            "[7]\tvalid_0's l2: 390.771\tvalid_0's l1: 19.676\n",
            "[8]\tvalid_0's l2: 362.872\tvalid_0's l1: 18.9676\n",
            "[9]\tvalid_0's l2: 332.353\tvalid_0's l1: 18.1453\n",
            "[10]\tvalid_0's l2: 304.613\tvalid_0's l1: 17.3641\n",
            "[11]\tvalid_0's l2: 282.992\tvalid_0's l1: 16.7386\n",
            "[12]\tvalid_0's l2: 265.434\tvalid_0's l1: 16.2056\n",
            "[13]\tvalid_0's l2: 247.178\tvalid_0's l1: 15.64\n",
            "[14]\tvalid_0's l2: 230.447\tvalid_0's l1: 15.1026\n",
            "[15]\tvalid_0's l2: 215.14\tvalid_0's l1: 14.5952\n",
            "[16]\tvalid_0's l2: 204.354\tvalid_0's l1: 14.2209\n",
            "[17]\tvalid_0's l2: 194.172\tvalid_0's l1: 13.8583\n",
            "[18]\tvalid_0's l2: 179.079\tvalid_0's l1: 13.3218\n",
            "[19]\tvalid_0's l2: 168.101\tvalid_0's l1: 12.9098\n",
            "[20]\tvalid_0's l2: 157.908\tvalid_0's l1: 12.5137\n",
            "Did not meet early stopping. Best iteration is:\n",
            "[20]\tvalid_0's l2: 157.908\tvalid_0's l1: 12.5137\n",
            "The RMSE of prediction is: 12.5661354034588\n"
          ]
        },
        {
          "output_type": "stream",
          "name": "stderr",
          "text": [
            "/usr/local/lib/python3.7/dist-packages/ipykernel_launcher.py:38: FutureWarning: In a future version of pandas all arguments of DataFrame.drop except for the argument 'labels' will be keyword-only\n",
            "/usr/local/lib/python3.7/dist-packages/ipykernel_launcher.py:41: FutureWarning: In a future version of pandas all arguments of DataFrame.drop except for the argument 'labels' will be keyword-only\n",
            "/usr/local/lib/python3.7/dist-packages/ipykernel_launcher.py:44: FutureWarning: In a future version of pandas all arguments of DataFrame.drop except for the argument 'labels' will be keyword-only\n"
          ]
        },
        {
          "output_type": "stream",
          "name": "stdout",
          "text": [
            "\r[*********************100%***********************]  1 of 1 completed\n",
            "[1]\tvalid_0's l2: 10072.1\tvalid_0's l1: 100.353\n",
            "Training until validation scores don't improve for 5 rounds.\n",
            "[2]\tvalid_0's l2: 9576.11\tvalid_0's l1: 97.8508\n",
            "[3]\tvalid_0's l2: 9111.21\tvalid_0's l1: 95.4456\n",
            "[4]\tvalid_0's l2: 8680.27\tvalid_0's l1: 93.1608\n",
            "[5]\tvalid_0's l2: 8280.55\tvalid_0's l1: 90.9901\n",
            "[6]\tvalid_0's l2: 7882.62\tvalid_0's l1: 88.7766\n",
            "[7]\tvalid_0's l2: 7532.08\tvalid_0's l1: 86.7798\n",
            "[8]\tvalid_0's l2: 7188.44\tvalid_0's l1: 84.7768\n",
            "[9]\tvalid_0's l2: 6869.42\tvalid_0's l1: 82.8738\n",
            "[10]\tvalid_0's l2: 6573.05\tvalid_0's l1: 81.0661\n",
            "[11]\tvalid_0's l2: 6316.49\tvalid_0's l1: 79.4679\n",
            "[12]\tvalid_0's l2: 6077.49\tvalid_0's l1: 77.9496\n",
            "[13]\tvalid_0's l2: 5854.71\tvalid_0's l1: 76.5073\n",
            "[14]\tvalid_0's l2: 5637.75\tvalid_0's l1: 75.076\n",
            "[15]\tvalid_0's l2: 5435.44\tvalid_0's l1: 73.7163\n",
            "[16]\tvalid_0's l2: 5257.91\tvalid_0's l1: 72.5022\n",
            "[17]\tvalid_0's l2: 5091.98\tvalid_0's l1: 71.3487\n",
            "[18]\tvalid_0's l2: 4936.82\tvalid_0's l1: 70.253\n",
            "[19]\tvalid_0's l2: 4791.64\tvalid_0's l1: 69.212\n",
            "[20]\tvalid_0's l2: 4655.73\tvalid_0's l1: 68.2231\n",
            "Did not meet early stopping. Best iteration is:\n",
            "[20]\tvalid_0's l2: 4655.73\tvalid_0's l1: 68.2231\n",
            "The RMSE of prediction is: 68.23290745948114\n"
          ]
        },
        {
          "output_type": "stream",
          "name": "stderr",
          "text": [
            "/usr/local/lib/python3.7/dist-packages/ipykernel_launcher.py:38: FutureWarning: In a future version of pandas all arguments of DataFrame.drop except for the argument 'labels' will be keyword-only\n",
            "/usr/local/lib/python3.7/dist-packages/ipykernel_launcher.py:41: FutureWarning: In a future version of pandas all arguments of DataFrame.drop except for the argument 'labels' will be keyword-only\n",
            "/usr/local/lib/python3.7/dist-packages/ipykernel_launcher.py:44: FutureWarning: In a future version of pandas all arguments of DataFrame.drop except for the argument 'labels' will be keyword-only\n"
          ]
        },
        {
          "output_type": "stream",
          "name": "stdout",
          "text": [
            "\r[*********************100%***********************]  1 of 1 completed\n",
            "[1]\tvalid_0's l2: 7788.17\tvalid_0's l1: 88.2448\n",
            "Training until validation scores don't improve for 5 rounds.\n",
            "[2]\tvalid_0's l2: 7031.73\tvalid_0's l1: 83.8493\n",
            "[3]\tvalid_0's l2: 6352.57\tvalid_0's l1: 79.6967\n",
            "[4]\tvalid_0's l2: 5739.31\tvalid_0's l1: 75.7517\n",
            "[5]\tvalid_0's l2: 5185.01\tvalid_0's l1: 72\n",
            "[6]\tvalid_0's l2: 4684.94\tvalid_0's l1: 68.4395\n",
            "[7]\tvalid_0's l2: 4229.47\tvalid_0's l1: 65.0267\n",
            "[8]\tvalid_0's l2: 3822.12\tvalid_0's l1: 61.8151\n",
            "[9]\tvalid_0's l2: 3451.3\tvalid_0's l1: 58.739\n",
            "[10]\tvalid_0's l2: 3116.56\tvalid_0's l1: 55.8166\n",
            "[11]\tvalid_0's l2: 2815.85\tvalid_0's l1: 53.0549\n",
            "[12]\tvalid_0's l2: 2542.56\tvalid_0's l1: 50.4136\n",
            "[13]\tvalid_0's l2: 2297.32\tvalid_0's l1: 47.9199\n",
            "[14]\tvalid_0's l2: 2075.89\tvalid_0's l1: 45.5511\n",
            "[15]\tvalid_0's l2: 1874.55\tvalid_0's l1: 43.2847\n",
            "[16]\tvalid_0's l2: 1694.72\tvalid_0's l1: 41.1552\n",
            "[17]\tvalid_0's l2: 1533.06\tvalid_0's l1: 39.1423\n",
            "[18]\tvalid_0's l2: 1384.83\tvalid_0's l1: 37.2007\n",
            "[19]\tvalid_0's l2: 1251.15\tvalid_0's l1: 35.358\n",
            "[20]\tvalid_0's l2: 1131.41\tvalid_0's l1: 33.6223\n",
            "Did not meet early stopping. Best iteration is:\n",
            "[20]\tvalid_0's l2: 1131.41\tvalid_0's l1: 33.6223\n",
            "The RMSE of prediction is: 33.63639273650496\n"
          ]
        },
        {
          "output_type": "stream",
          "name": "stderr",
          "text": [
            "/usr/local/lib/python3.7/dist-packages/ipykernel_launcher.py:38: FutureWarning: In a future version of pandas all arguments of DataFrame.drop except for the argument 'labels' will be keyword-only\n",
            "/usr/local/lib/python3.7/dist-packages/ipykernel_launcher.py:41: FutureWarning: In a future version of pandas all arguments of DataFrame.drop except for the argument 'labels' will be keyword-only\n",
            "/usr/local/lib/python3.7/dist-packages/ipykernel_launcher.py:44: FutureWarning: In a future version of pandas all arguments of DataFrame.drop except for the argument 'labels' will be keyword-only\n"
          ]
        },
        {
          "output_type": "stream",
          "name": "stdout",
          "text": [
            "\r[*********************100%***********************]  1 of 1 completed\n",
            "[1]\tvalid_0's l2: 15898.1\tvalid_0's l1: 126.064\n",
            "Training until validation scores don't improve for 5 rounds.\n",
            "[2]\tvalid_0's l2: 14923.1\tvalid_0's l1: 122.135\n",
            "[3]\tvalid_0's l2: 14041\tvalid_0's l1: 118.468\n",
            "[4]\tvalid_0's l2: 13212.9\tvalid_0's l1: 114.92\n",
            "[5]\tvalid_0's l2: 12449.6\tvalid_0's l1: 111.549\n",
            "[6]\tvalid_0's l2: 11762.9\tvalid_0's l1: 108.428\n",
            "[7]\tvalid_0's l2: 11122.5\tvalid_0's l1: 105.432\n",
            "[8]\tvalid_0's l2: 10530.8\tvalid_0's l1: 102.586\n",
            "[9]\tvalid_0's l2: 9983.66\tvalid_0's l1: 99.8831\n",
            "[10]\tvalid_0's l2: 9485.27\tvalid_0's l1: 97.3562\n",
            "[11]\tvalid_0's l2: 9005.58\tvalid_0's l1: 94.8607\n",
            "[12]\tvalid_0's l2: 8563.85\tvalid_0's l1: 92.5031\n",
            "[13]\tvalid_0's l2: 8151.94\tvalid_0's l1: 90.2491\n",
            "[14]\tvalid_0's l2: 7770.03\tvalid_0's l1: 88.1079\n",
            "[15]\tvalid_0's l2: 7415.72\tvalid_0's l1: 86.0737\n",
            "[16]\tvalid_0's l2: 7091.62\tvalid_0's l1: 84.17\n",
            "[17]\tvalid_0's l2: 6790.45\tvalid_0's l1: 82.3615\n",
            "[18]\tvalid_0's l2: 6510.39\tvalid_0's l1: 80.6434\n",
            "[19]\tvalid_0's l2: 6255.41\tvalid_0's l1: 79.0467\n",
            "[20]\tvalid_0's l2: 6017.91\tvalid_0's l1: 77.5298\n",
            "Did not meet early stopping. Best iteration is:\n",
            "[20]\tvalid_0's l2: 6017.91\tvalid_0's l1: 77.5298\n",
            "The RMSE of prediction is: 77.57518410492648\n"
          ]
        },
        {
          "output_type": "stream",
          "name": "stderr",
          "text": [
            "/usr/local/lib/python3.7/dist-packages/ipykernel_launcher.py:38: FutureWarning: In a future version of pandas all arguments of DataFrame.drop except for the argument 'labels' will be keyword-only\n",
            "/usr/local/lib/python3.7/dist-packages/ipykernel_launcher.py:41: FutureWarning: In a future version of pandas all arguments of DataFrame.drop except for the argument 'labels' will be keyword-only\n",
            "/usr/local/lib/python3.7/dist-packages/ipykernel_launcher.py:44: FutureWarning: In a future version of pandas all arguments of DataFrame.drop except for the argument 'labels' will be keyword-only\n"
          ]
        },
        {
          "output_type": "stream",
          "name": "stdout",
          "text": [
            "\r[*********************100%***********************]  1 of 1 completed\n",
            "[1]\tvalid_0's l2: 517.156\tvalid_0's l1: 22.7254\n",
            "Training until validation scores don't improve for 5 rounds.\n",
            "[2]\tvalid_0's l2: 466.663\tvalid_0's l1: 21.5859\n",
            "[3]\tvalid_0's l2: 421.493\tvalid_0's l1: 20.515\n",
            "[4]\tvalid_0's l2: 380.715\tvalid_0's l1: 19.4977\n",
            "[5]\tvalid_0's l2: 343.901\tvalid_0's l1: 18.5312\n",
            "[6]\tvalid_0's l2: 310.45\tvalid_0's l1: 17.6055\n",
            "[7]\tvalid_0's l2: 280.259\tvalid_0's l1: 16.7261\n",
            "[8]\tvalid_0's l2: 252.941\tvalid_0's l1: 15.8885\n",
            "[9]\tvalid_0's l2: 228.35\tvalid_0's l1: 15.0948\n",
            "[10]\tvalid_0's l2: 206.155\tvalid_0's l1: 14.3408\n",
            "[11]\tvalid_0's l2: 185.002\tvalid_0's l1: 13.5844\n",
            "[12]\tvalid_0's l2: 168.033\tvalid_0's l1: 12.9448\n",
            "[13]\tvalid_0's l2: 150.84\tvalid_0's l1: 12.2639\n",
            "[14]\tvalid_0's l2: 135.326\tvalid_0's l1: 11.6152\n",
            "[15]\tvalid_0's l2: 122.457\tvalid_0's l1: 11.0473\n",
            "[16]\tvalid_0's l2: 109.678\tvalid_0's l1: 10.4538\n",
            "[17]\tvalid_0's l2: 98.9894\tvalid_0's l1: 9.92944\n",
            "[18]\tvalid_0's l2: 89.3447\tvalid_0's l1: 9.43128\n",
            "[19]\tvalid_0's l2: 80.7358\tvalid_0's l1: 8.96327\n",
            "[20]\tvalid_0's l2: 72.9992\tvalid_0's l1: 8.52077\n",
            "Did not meet early stopping. Best iteration is:\n",
            "[20]\tvalid_0's l2: 72.9992\tvalid_0's l1: 8.52077\n",
            "The RMSE of prediction is: 8.543958862063974\n"
          ]
        },
        {
          "output_type": "stream",
          "name": "stderr",
          "text": [
            "/usr/local/lib/python3.7/dist-packages/ipykernel_launcher.py:38: FutureWarning: In a future version of pandas all arguments of DataFrame.drop except for the argument 'labels' will be keyword-only\n",
            "/usr/local/lib/python3.7/dist-packages/ipykernel_launcher.py:41: FutureWarning: In a future version of pandas all arguments of DataFrame.drop except for the argument 'labels' will be keyword-only\n",
            "/usr/local/lib/python3.7/dist-packages/ipykernel_launcher.py:44: FutureWarning: In a future version of pandas all arguments of DataFrame.drop except for the argument 'labels' will be keyword-only\n"
          ]
        },
        {
          "output_type": "stream",
          "name": "stdout",
          "text": [
            "\r[*********************100%***********************]  1 of 1 completed\n",
            "[1]\tvalid_0's l2: 9281.81\tvalid_0's l1: 96.316\n",
            "Training until validation scores don't improve for 5 rounds.\n",
            "[2]\tvalid_0's l2: 8496.62\tvalid_0's l1: 92.1498\n",
            "[3]\tvalid_0's l2: 7782.85\tvalid_0's l1: 88.1919\n",
            "[4]\tvalid_0's l2: 7120.62\tvalid_0's l1: 84.3539\n",
            "[5]\tvalid_0's l2: 6530.75\tvalid_0's l1: 80.7819\n",
            "[6]\tvalid_0's l2: 5984.18\tvalid_0's l1: 77.325\n",
            "[7]\tvalid_0's l2: 5496.46\tvalid_0's l1: 74.1042\n",
            "[8]\tvalid_0's l2: 5043.35\tvalid_0's l1: 70.9811\n",
            "[9]\tvalid_0's l2: 4634.94\tvalid_0's l1: 68.0434\n",
            "[10]\tvalid_0's l2: 4259.12\tvalid_0's l1: 65.2234\n",
            "[11]\tvalid_0's l2: 3914.45\tvalid_0's l1: 62.5253\n",
            "[12]\tvalid_0's l2: 3599.28\tvalid_0's l1: 59.952\n",
            "[13]\tvalid_0's l2: 3313.2\tvalid_0's l1: 57.5167\n",
            "[14]\tvalid_0's l2: 3052.42\tvalid_0's l1: 55.2031\n",
            "[15]\tvalid_0's l2: 2813.43\tvalid_0's l1: 52.9943\n",
            "[16]\tvalid_0's l2: 2596.17\tvalid_0's l1: 50.9033\n",
            "[17]\tvalid_0's l2: 2397.5\tvalid_0's l1: 48.9129\n",
            "[18]\tvalid_0's l2: 2216.1\tvalid_0's l1: 47.022\n",
            "[19]\tvalid_0's l2: 2050.4\tvalid_0's l1: 45.2257\n",
            "[20]\tvalid_0's l2: 1900.89\tvalid_0's l1: 43.5415\n",
            "Did not meet early stopping. Best iteration is:\n",
            "[20]\tvalid_0's l2: 1900.89\tvalid_0's l1: 43.5415\n",
            "The RMSE of prediction is: 43.59922984774665\n"
          ]
        },
        {
          "output_type": "stream",
          "name": "stderr",
          "text": [
            "/usr/local/lib/python3.7/dist-packages/ipykernel_launcher.py:38: FutureWarning: In a future version of pandas all arguments of DataFrame.drop except for the argument 'labels' will be keyword-only\n",
            "/usr/local/lib/python3.7/dist-packages/ipykernel_launcher.py:41: FutureWarning: In a future version of pandas all arguments of DataFrame.drop except for the argument 'labels' will be keyword-only\n",
            "/usr/local/lib/python3.7/dist-packages/ipykernel_launcher.py:44: FutureWarning: In a future version of pandas all arguments of DataFrame.drop except for the argument 'labels' will be keyword-only\n"
          ]
        },
        {
          "output_type": "stream",
          "name": "stdout",
          "text": [
            "\r[*********************100%***********************]  1 of 1 completed\n",
            "[1]\tvalid_0's l2: 424.66\tvalid_0's l1: 20.6039\n",
            "Training until validation scores don't improve for 5 rounds.\n",
            "[2]\tvalid_0's l2: 382.332\tvalid_0's l1: 19.5498\n",
            "[3]\tvalid_0's l2: 345.214\tvalid_0's l1: 18.5765\n",
            "[4]\tvalid_0's l2: 312.21\tvalid_0's l1: 17.6656\n",
            "[5]\tvalid_0's l2: 281.869\tvalid_0's l1: 16.7854\n",
            "[6]\tvalid_0's l2: 253.791\tvalid_0's l1: 15.9271\n",
            "[7]\tvalid_0's l2: 228.698\tvalid_0's l1: 15.1188\n",
            "[8]\tvalid_0's l2: 206.414\tvalid_0's l1: 14.3635\n",
            "[9]\tvalid_0's l2: 185.817\tvalid_0's l1: 13.6276\n",
            "[10]\tvalid_0's l2: 167.252\tvalid_0's l1: 12.9286\n",
            "[11]\tvalid_0's l2: 151.18\tvalid_0's l1: 12.2917\n",
            "[12]\tvalid_0's l2: 135.838\tvalid_0's l1: 11.6509\n",
            "[13]\tvalid_0's l2: 122.436\tvalid_0's l1: 11.061\n",
            "[14]\tvalid_0's l2: 110.438\tvalid_0's l1: 10.5049\n",
            "[15]\tvalid_0's l2: 87.9402\tvalid_0's l1: 9.37315\n",
            "[16]\tvalid_0's l2: 79.0254\tvalid_0's l1: 8.88488\n",
            "[17]\tvalid_0's l2: 70.4884\tvalid_0's l1: 8.39072\n",
            "[18]\tvalid_0's l2: 62.8307\tvalid_0's l1: 7.92126\n",
            "[19]\tvalid_0's l2: 56.3179\tvalid_0's l1: 7.49891\n",
            "[20]\tvalid_0's l2: 49.8533\tvalid_0's l1: 7.05472\n",
            "Did not meet early stopping. Best iteration is:\n",
            "[20]\tvalid_0's l2: 49.8533\tvalid_0's l1: 7.05472\n",
            "The RMSE of prediction is: 7.060685612805571\n"
          ]
        },
        {
          "output_type": "stream",
          "name": "stderr",
          "text": [
            "/usr/local/lib/python3.7/dist-packages/ipykernel_launcher.py:38: FutureWarning: In a future version of pandas all arguments of DataFrame.drop except for the argument 'labels' will be keyword-only\n",
            "/usr/local/lib/python3.7/dist-packages/ipykernel_launcher.py:41: FutureWarning: In a future version of pandas all arguments of DataFrame.drop except for the argument 'labels' will be keyword-only\n",
            "/usr/local/lib/python3.7/dist-packages/ipykernel_launcher.py:44: FutureWarning: In a future version of pandas all arguments of DataFrame.drop except for the argument 'labels' will be keyword-only\n"
          ]
        },
        {
          "output_type": "stream",
          "name": "stdout",
          "text": [
            "\r[*********************100%***********************]  1 of 1 completed\n",
            "[1]\tvalid_0's l2: 1615.15\tvalid_0's l1: 40.1849\n",
            "Training until validation scores don't improve for 5 rounds.\n",
            "[2]\tvalid_0's l2: 1549.3\tvalid_0's l1: 39.357\n",
            "[3]\tvalid_0's l2: 1487.63\tvalid_0's l1: 38.5657\n",
            "[4]\tvalid_0's l2: 1430.21\tvalid_0's l1: 37.8138\n",
            "[5]\tvalid_0's l2: 1376.71\tvalid_0's l1: 37.0996\n",
            "[6]\tvalid_0's l2: 1327\tvalid_0's l1: 36.4236\n",
            "[7]\tvalid_0's l2: 1281.12\tvalid_0's l1: 35.7882\n",
            "[8]\tvalid_0's l2: 1238.17\tvalid_0's l1: 35.183\n",
            "[9]\tvalid_0's l2: 1197.87\tvalid_0's l1: 34.6055\n",
            "[10]\tvalid_0's l2: 1160.4\tvalid_0's l1: 34.0599\n",
            "[11]\tvalid_0's l2: 1124.07\tvalid_0's l1: 33.5223\n",
            "[12]\tvalid_0's l2: 1090.08\tvalid_0's l1: 33.0115\n",
            "[13]\tvalid_0's l2: 1059.08\tvalid_0's l1: 32.5386\n",
            "[14]\tvalid_0's l2: 1029.24\tvalid_0's l1: 32.0768\n",
            "[15]\tvalid_0's l2: 1001.23\tvalid_0's l1: 31.6371\n",
            "[16]\tvalid_0's l2: 975.804\tvalid_0's l1: 31.2327\n",
            "[17]\tvalid_0's l2: 951.017\tvalid_0's l1: 30.8333\n",
            "[18]\tvalid_0's l2: 928.412\tvalid_0's l1: 30.4645\n",
            "[19]\tvalid_0's l2: 906.983\tvalid_0's l1: 30.1108\n",
            "[20]\tvalid_0's l2: 887.088\tvalid_0's l1: 29.7786\n",
            "Did not meet early stopping. Best iteration is:\n",
            "[20]\tvalid_0's l2: 887.088\tvalid_0's l1: 29.7786\n",
            "The RMSE of prediction is: 29.784017352496857\n"
          ]
        },
        {
          "output_type": "stream",
          "name": "stderr",
          "text": [
            "/usr/local/lib/python3.7/dist-packages/ipykernel_launcher.py:38: FutureWarning: In a future version of pandas all arguments of DataFrame.drop except for the argument 'labels' will be keyword-only\n",
            "/usr/local/lib/python3.7/dist-packages/ipykernel_launcher.py:41: FutureWarning: In a future version of pandas all arguments of DataFrame.drop except for the argument 'labels' will be keyword-only\n",
            "/usr/local/lib/python3.7/dist-packages/ipykernel_launcher.py:44: FutureWarning: In a future version of pandas all arguments of DataFrame.drop except for the argument 'labels' will be keyword-only\n"
          ]
        },
        {
          "output_type": "stream",
          "name": "stdout",
          "text": [
            "\r[*********************100%***********************]  1 of 1 completed\n",
            "[1]\tvalid_0's l2: 6777.84\tvalid_0's l1: 82.3141\n",
            "Training until validation scores don't improve for 5 rounds.\n",
            "[2]\tvalid_0's l2: 6409.25\tvalid_0's l1: 80.0438\n",
            "[3]\tvalid_0's l2: 6055.49\tvalid_0's l1: 77.8026\n",
            "[4]\tvalid_0's l2: 5739.49\tvalid_0's l1: 75.7446\n",
            "[5]\tvalid_0's l2: 5436.64\tvalid_0's l1: 73.7184\n",
            "[6]\tvalid_0's l2: 5154.17\tvalid_0's l1: 71.777\n",
            "[7]\tvalid_0's l2: 4892.81\tvalid_0's l1: 69.9326\n",
            "[8]\tvalid_0's l2: 4650.82\tvalid_0's l1: 68.1805\n",
            "[9]\tvalid_0's l2: 4426.61\tvalid_0's l1: 66.5159\n",
            "[10]\tvalid_0's l2: 4218.74\tvalid_0's l1: 64.9346\n",
            "[11]\tvalid_0's l2: 4026.64\tvalid_0's l1: 63.4382\n",
            "[12]\tvalid_0's l2: 3848.3\tvalid_0's l1: 62.0166\n",
            "[13]\tvalid_0's l2: 3682.61\tvalid_0's l1: 60.6661\n",
            "[14]\tvalid_0's l2: 3528.59\tvalid_0's l1: 59.3831\n",
            "[15]\tvalid_0's l2: 3385.32\tvalid_0's l1: 58.1642\n",
            "[16]\tvalid_0's l2: 3256.7\tvalid_0's l1: 57.0478\n",
            "[17]\tvalid_0's l2: 3136.81\tvalid_0's l1: 55.9873\n",
            "[18]\tvalid_0's l2: 3025.01\tvalid_0's l1: 54.9797\n",
            "[19]\tvalid_0's l2: 2918.64\tvalid_0's l1: 54.0037\n",
            "[20]\tvalid_0's l2: 2819.45\tvalid_0's l1: 53.0774\n",
            "Did not meet early stopping. Best iteration is:\n",
            "[20]\tvalid_0's l2: 2819.45\tvalid_0's l1: 53.0774\n",
            "The RMSE of prediction is: 53.09853980518395\n"
          ]
        },
        {
          "output_type": "stream",
          "name": "stderr",
          "text": [
            "/usr/local/lib/python3.7/dist-packages/ipykernel_launcher.py:38: FutureWarning: In a future version of pandas all arguments of DataFrame.drop except for the argument 'labels' will be keyword-only\n",
            "/usr/local/lib/python3.7/dist-packages/ipykernel_launcher.py:41: FutureWarning: In a future version of pandas all arguments of DataFrame.drop except for the argument 'labels' will be keyword-only\n",
            "/usr/local/lib/python3.7/dist-packages/ipykernel_launcher.py:44: FutureWarning: In a future version of pandas all arguments of DataFrame.drop except for the argument 'labels' will be keyword-only\n"
          ]
        },
        {
          "output_type": "stream",
          "name": "stdout",
          "text": [
            "\r[*********************100%***********************]  1 of 1 completed\n",
            "[1]\tvalid_0's l2: 1511.55\tvalid_0's l1: 38.84\n",
            "Training until validation scores don't improve for 5 rounds.\n",
            "[2]\tvalid_0's l2: 1442.82\tvalid_0's l1: 37.9449\n",
            "[3]\tvalid_0's l2: 1379.85\tvalid_0's l1: 37.1058\n",
            "[4]\tvalid_0's l2: 1321.38\tvalid_0's l1: 36.3094\n",
            "[5]\tvalid_0's l2: 1266.01\tvalid_0's l1: 35.5388\n",
            "[6]\tvalid_0's l2: 1214.72\tvalid_0's l1: 34.8097\n",
            "[7]\tvalid_0's l2: 1167.42\tvalid_0's l1: 34.1234\n",
            "[8]\tvalid_0's l2: 1122.65\tvalid_0's l1: 33.4611\n",
            "[9]\tvalid_0's l2: 1081.18\tvalid_0's l1: 32.8355\n",
            "[10]\tvalid_0's l2: 1042.94\tvalid_0's l1: 32.248\n",
            "[11]\tvalid_0's l2: 1007.7\tvalid_0's l1: 31.6968\n",
            "[12]\tvalid_0's l2: 974.635\tvalid_0's l1: 31.171\n",
            "[13]\tvalid_0's l2: 944.007\tvalid_0's l1: 30.6757\n",
            "[14]\tvalid_0's l2: 915.364\tvalid_0's l1: 30.2053\n",
            "[15]\tvalid_0's l2: 888.372\tvalid_0's l1: 29.7551\n",
            "[16]\tvalid_0's l2: 862.248\tvalid_0's l1: 29.3126\n",
            "[17]\tvalid_0's l2: 838.598\tvalid_0's l1: 28.9064\n",
            "[18]\tvalid_0's l2: 815.94\tvalid_0's l1: 28.5112\n",
            "[19]\tvalid_0's l2: 795.205\tvalid_0's l1: 28.1452\n",
            "[20]\tvalid_0's l2: 775.297\tvalid_0's l1: 27.7887\n",
            "Did not meet early stopping. Best iteration is:\n",
            "[20]\tvalid_0's l2: 775.297\tvalid_0's l1: 27.7887\n",
            "The RMSE of prediction is: 27.844152854947023\n"
          ]
        },
        {
          "output_type": "stream",
          "name": "stderr",
          "text": [
            "/usr/local/lib/python3.7/dist-packages/ipykernel_launcher.py:38: FutureWarning: In a future version of pandas all arguments of DataFrame.drop except for the argument 'labels' will be keyword-only\n",
            "/usr/local/lib/python3.7/dist-packages/ipykernel_launcher.py:41: FutureWarning: In a future version of pandas all arguments of DataFrame.drop except for the argument 'labels' will be keyword-only\n",
            "/usr/local/lib/python3.7/dist-packages/ipykernel_launcher.py:44: FutureWarning: In a future version of pandas all arguments of DataFrame.drop except for the argument 'labels' will be keyword-only\n"
          ]
        },
        {
          "output_type": "stream",
          "name": "stdout",
          "text": [
            "\r[*********************100%***********************]  1 of 1 completed\n",
            "[1]\tvalid_0's l2: 2998.72\tvalid_0's l1: 54.7512\n",
            "Training until validation scores don't improve for 5 rounds.\n",
            "[2]\tvalid_0's l2: 2709.91\tvalid_0's l1: 52.0477\n",
            "[3]\tvalid_0's l2: 2454.69\tvalid_0's l1: 49.537\n",
            "[4]\tvalid_0's l2: 2224.81\tvalid_0's l1: 47.161\n",
            "[5]\tvalid_0's l2: 2016.13\tvalid_0's l1: 44.8952\n",
            "[6]\tvalid_0's l2: 1822.54\tvalid_0's l1: 42.6856\n",
            "[7]\tvalid_0's l2: 1647.68\tvalid_0's l1: 40.5864\n",
            "[8]\tvalid_0's l2: 1488.42\tvalid_0's l1: 38.5748\n",
            "[9]\tvalid_0's l2: 1345.81\tvalid_0's l1: 36.6804\n",
            "[10]\tvalid_0's l2: 1216.14\tvalid_0's l1: 34.8687\n",
            "[11]\tvalid_0's l2: 1101.16\tvalid_0's l1: 33.1795\n",
            "[12]\tvalid_0's l2: 995.892\tvalid_0's l1: 31.554\n",
            "[13]\tvalid_0's l2: 902.059\tvalid_0's l1: 30.0308\n",
            "[14]\tvalid_0's l2: 817.634\tvalid_0's l1: 28.5908\n",
            "[15]\tvalid_0's l2: 739.147\tvalid_0's l1: 27.1842\n",
            "[16]\tvalid_0's l2: 670.3\tvalid_0's l1: 25.887\n",
            "[17]\tvalid_0's l2: 605.99\tvalid_0's l1: 24.6138\n",
            "[18]\tvalid_0's l2: 548.22\tvalid_0's l1: 23.4112\n",
            "[19]\tvalid_0's l2: 495.869\tvalid_0's l1: 22.2649\n",
            "[20]\tvalid_0's l2: 448.693\tvalid_0's l1: 21.1791\n",
            "Did not meet early stopping. Best iteration is:\n",
            "[20]\tvalid_0's l2: 448.693\tvalid_0's l1: 21.1791\n",
            "The RMSE of prediction is: 21.18237764464698\n"
          ]
        },
        {
          "output_type": "stream",
          "name": "stderr",
          "text": [
            "/usr/local/lib/python3.7/dist-packages/ipykernel_launcher.py:38: FutureWarning: In a future version of pandas all arguments of DataFrame.drop except for the argument 'labels' will be keyword-only\n",
            "/usr/local/lib/python3.7/dist-packages/ipykernel_launcher.py:41: FutureWarning: In a future version of pandas all arguments of DataFrame.drop except for the argument 'labels' will be keyword-only\n",
            "/usr/local/lib/python3.7/dist-packages/ipykernel_launcher.py:44: FutureWarning: In a future version of pandas all arguments of DataFrame.drop except for the argument 'labels' will be keyword-only\n"
          ]
        },
        {
          "output_type": "stream",
          "name": "stdout",
          "text": [
            "\r[*********************100%***********************]  1 of 1 completed\n",
            "[1]\tvalid_0's l2: 34546.2\tvalid_0's l1: 185.851\n",
            "Training until validation scores don't improve for 5 rounds.\n",
            "[2]\tvalid_0's l2: 33538.6\tvalid_0's l1: 183.121\n",
            "[3]\tvalid_0's l2: 32595.3\tvalid_0's l1: 180.527\n",
            "[4]\tvalid_0's l2: 31670.9\tvalid_0's l1: 177.948\n",
            "[5]\tvalid_0's l2: 30811\tvalid_0's l1: 175.515\n",
            "[6]\tvalid_0's l2: 30000.7\tvalid_0's l1: 173.192\n",
            "[7]\tvalid_0's l2: 29241\tvalid_0's l1: 170.984\n",
            "[8]\tvalid_0's l2: 28534\tvalid_0's l1: 168.904\n",
            "[9]\tvalid_0's l2: 27864.7\tvalid_0's l1: 166.911\n",
            "[10]\tvalid_0's l2: 27236.2\tvalid_0's l1: 165.018\n",
            "[11]\tvalid_0's l2: 26640\tvalid_0's l1: 163.201\n",
            "[12]\tvalid_0's l2: 26094.7\tvalid_0's l1: 161.522\n",
            "[13]\tvalid_0's l2: 25567\tvalid_0's l1: 159.88\n",
            "[14]\tvalid_0's l2: 25094\tvalid_0's l1: 158.394\n",
            "[15]\tvalid_0's l2: 24628.4\tvalid_0's l1: 156.917\n",
            "[16]\tvalid_0's l2: 24194.7\tvalid_0's l1: 155.529\n",
            "[17]\tvalid_0's l2: 23791.9\tvalid_0's l1: 154.229\n",
            "[18]\tvalid_0's l2: 23412.3\tvalid_0's l1: 152.993\n",
            "[19]\tvalid_0's l2: 23049\tvalid_0's l1: 151.801\n",
            "[20]\tvalid_0's l2: 22706.5\tvalid_0's l1: 150.669\n",
            "Did not meet early stopping. Best iteration is:\n",
            "[20]\tvalid_0's l2: 22706.5\tvalid_0's l1: 150.669\n",
            "The RMSE of prediction is: 150.68691863992802\n"
          ]
        },
        {
          "output_type": "stream",
          "name": "stderr",
          "text": [
            "/usr/local/lib/python3.7/dist-packages/ipykernel_launcher.py:38: FutureWarning: In a future version of pandas all arguments of DataFrame.drop except for the argument 'labels' will be keyword-only\n",
            "/usr/local/lib/python3.7/dist-packages/ipykernel_launcher.py:41: FutureWarning: In a future version of pandas all arguments of DataFrame.drop except for the argument 'labels' will be keyword-only\n",
            "/usr/local/lib/python3.7/dist-packages/ipykernel_launcher.py:44: FutureWarning: In a future version of pandas all arguments of DataFrame.drop except for the argument 'labels' will be keyword-only\n"
          ]
        },
        {
          "output_type": "stream",
          "name": "stdout",
          "text": [
            "\r[*********************100%***********************]  1 of 1 completed\n",
            "[1]\tvalid_0's l2: 116909\tvalid_0's l1: 341.863\n",
            "Training until validation scores don't improve for 5 rounds.\n",
            "[2]\tvalid_0's l2: 112217\tvalid_0's l1: 334.929\n",
            "[3]\tvalid_0's l2: 107848\tvalid_0's l1: 328.343\n",
            "[4]\tvalid_0's l2: 103778\tvalid_0's l1: 322.086\n",
            "[5]\tvalid_0's l2: 99984.3\tvalid_0's l1: 316.141\n",
            "[6]\tvalid_0's l2: 96428.1\tvalid_0's l1: 310.466\n",
            "[7]\tvalid_0's l2: 93119.1\tvalid_0's l1: 305.09\n",
            "[8]\tvalid_0's l2: 90017.7\tvalid_0's l1: 299.964\n",
            "[9]\tvalid_0's l2: 87120.1\tvalid_0's l1: 295.095\n",
            "[10]\tvalid_0's l2: 84409.6\tvalid_0's l1: 290.466\n",
            "[11]\tvalid_0's l2: 81885.5\tvalid_0's l1: 286.088\n",
            "[12]\tvalid_0's l2: 79511.9\tvalid_0's l1: 281.909\n",
            "[13]\tvalid_0's l2: 77298.5\tvalid_0's l1: 277.956\n",
            "[14]\tvalid_0's l2: 75224.7\tvalid_0's l1: 274.2\n",
            "[15]\tvalid_0's l2: 73280.7\tvalid_0's l1: 270.632\n",
            "[16]\tvalid_0's l2: 71474.9\tvalid_0's l1: 267.275\n",
            "[17]\tvalid_0's l2: 69764.9\tvalid_0's l1: 264.057\n",
            "[18]\tvalid_0's l2: 68159.7\tvalid_0's l1: 260.999\n",
            "[19]\tvalid_0's l2: 66666\tvalid_0's l1: 258.122\n",
            "[20]\tvalid_0's l2: 65277.8\tvalid_0's l1: 255.419\n",
            "Did not meet early stopping. Best iteration is:\n",
            "[20]\tvalid_0's l2: 65277.8\tvalid_0's l1: 255.419\n",
            "The RMSE of prediction is: 255.49521043957105\n"
          ]
        },
        {
          "output_type": "stream",
          "name": "stderr",
          "text": [
            "/usr/local/lib/python3.7/dist-packages/ipykernel_launcher.py:38: FutureWarning: In a future version of pandas all arguments of DataFrame.drop except for the argument 'labels' will be keyword-only\n",
            "/usr/local/lib/python3.7/dist-packages/ipykernel_launcher.py:41: FutureWarning: In a future version of pandas all arguments of DataFrame.drop except for the argument 'labels' will be keyword-only\n",
            "/usr/local/lib/python3.7/dist-packages/ipykernel_launcher.py:44: FutureWarning: In a future version of pandas all arguments of DataFrame.drop except for the argument 'labels' will be keyword-only\n"
          ]
        },
        {
          "output_type": "stream",
          "name": "stdout",
          "text": [
            "\r[*********************100%***********************]  1 of 1 completed\n",
            "[1]\tvalid_0's l2: 17233.1\tvalid_0's l1: 131.217\n",
            "Training until validation scores don't improve for 5 rounds.\n",
            "[2]\tvalid_0's l2: 15541.5\tvalid_0's l1: 124.61\n",
            "[3]\tvalid_0's l2: 14010\tvalid_0's l1: 118.314\n",
            "[4]\tvalid_0's l2: 12631.2\tvalid_0's l1: 112.342\n",
            "[5]\tvalid_0's l2: 11387.5\tvalid_0's l1: 106.668\n",
            "[6]\tvalid_0's l2: 10310.7\tvalid_0's l1: 101.493\n",
            "[7]\tvalid_0's l2: 9296.39\tvalid_0's l1: 96.3692\n",
            "[8]\tvalid_0's l2: 8383.27\tvalid_0's l1: 91.5118\n",
            "[9]\tvalid_0's l2: 7592.04\tvalid_0's l1: 87.0789\n",
            "[10]\tvalid_0's l2: 6846.28\tvalid_0's l1: 82.6883\n",
            "[11]\tvalid_0's l2: 6194.43\tvalid_0's l1: 78.6505\n",
            "[12]\tvalid_0's l2: 5631.84\tvalid_0's l1: 74.9821\n",
            "[13]\tvalid_0's l2: 5092.75\tvalid_0's l1: 71.2977\n",
            "[14]\tvalid_0's l2: 4610.62\tvalid_0's l1: 67.8336\n",
            "[15]\tvalid_0's l2: 4162.9\tvalid_0's l1: 64.4507\n",
            "[16]\tvalid_0's l2: 3757.91\tvalid_0's l1: 61.2216\n",
            "[17]\tvalid_0's l2: 3390.7\tvalid_0's l1: 58.1456\n",
            "[18]\tvalid_0's l2: 3061.64\tvalid_0's l1: 55.2357\n",
            "[19]\tvalid_0's l2: 2759.79\tvalid_0's l1: 52.4296\n",
            "[20]\tvalid_0's l2: 2487.47\tvalid_0's l1: 49.7598\n",
            "Did not meet early stopping. Best iteration is:\n",
            "[20]\tvalid_0's l2: 2487.47\tvalid_0's l1: 49.7598\n",
            "The RMSE of prediction is: 49.87458242589964\n"
          ]
        },
        {
          "output_type": "stream",
          "name": "stderr",
          "text": [
            "/usr/local/lib/python3.7/dist-packages/ipykernel_launcher.py:38: FutureWarning: In a future version of pandas all arguments of DataFrame.drop except for the argument 'labels' will be keyword-only\n",
            "/usr/local/lib/python3.7/dist-packages/ipykernel_launcher.py:41: FutureWarning: In a future version of pandas all arguments of DataFrame.drop except for the argument 'labels' will be keyword-only\n",
            "/usr/local/lib/python3.7/dist-packages/ipykernel_launcher.py:44: FutureWarning: In a future version of pandas all arguments of DataFrame.drop except for the argument 'labels' will be keyword-only\n"
          ]
        },
        {
          "output_type": "stream",
          "name": "stdout",
          "text": [
            "\r[*********************100%***********************]  1 of 1 completed\n",
            "[1]\tvalid_0's l2: 154.725\tvalid_0's l1: 12.4309\n",
            "Training until validation scores don't improve for 5 rounds.\n",
            "[2]\tvalid_0's l2: 139.434\tvalid_0's l1: 11.8006\n",
            "[3]\tvalid_0's l2: 125.414\tvalid_0's l1: 11.191\n",
            "[4]\tvalid_0's l2: 113.349\tvalid_0's l1: 10.6385\n",
            "[5]\tvalid_0's l2: 102.072\tvalid_0's l1: 10.0946\n",
            "[6]\tvalid_0's l2: 91.6784\tvalid_0's l1: 9.56642\n",
            "[7]\tvalid_0's l2: 82.4742\tvalid_0's l1: 9.07323\n",
            "[8]\tvalid_0's l2: 74.0371\tvalid_0's l1: 8.59572\n",
            "[9]\tvalid_0's l2: 66.6961\tvalid_0's l1: 8.15753\n",
            "[10]\tvalid_0's l2: 60.0778\tvalid_0's l1: 7.74126\n",
            "[11]\tvalid_0's l2: 54.187\tvalid_0's l1: 7.35096\n",
            "[12]\tvalid_0's l2: 48.7121\tvalid_0's l1: 6.96904\n",
            "[13]\tvalid_0's l2: 43.9276\tvalid_0's l1: 6.61675\n",
            "[14]\tvalid_0's l2: 39.6134\tvalid_0's l1: 6.28209\n",
            "[15]\tvalid_0's l2: 35.6121\tvalid_0's l1: 5.95539\n",
            "[16]\tvalid_0's l2: 32.0266\tvalid_0's l1: 5.64659\n",
            "[17]\tvalid_0's l2: 28.8722\tvalid_0's l1: 5.36017\n",
            "[18]\tvalid_0's l2: 26.0279\tvalid_0's l1: 5.08807\n",
            "[19]\tvalid_0's l2: 23.4633\tvalid_0's l1: 4.82957\n",
            "[20]\tvalid_0's l2: 20.7564\tvalid_0's l1: 4.54069\n",
            "Did not meet early stopping. Best iteration is:\n",
            "[20]\tvalid_0's l2: 20.7564\tvalid_0's l1: 4.54069\n",
            "The RMSE of prediction is: 4.555920133792397\n"
          ]
        },
        {
          "output_type": "stream",
          "name": "stderr",
          "text": [
            "/usr/local/lib/python3.7/dist-packages/ipykernel_launcher.py:38: FutureWarning: In a future version of pandas all arguments of DataFrame.drop except for the argument 'labels' will be keyword-only\n",
            "/usr/local/lib/python3.7/dist-packages/ipykernel_launcher.py:41: FutureWarning: In a future version of pandas all arguments of DataFrame.drop except for the argument 'labels' will be keyword-only\n",
            "/usr/local/lib/python3.7/dist-packages/ipykernel_launcher.py:44: FutureWarning: In a future version of pandas all arguments of DataFrame.drop except for the argument 'labels' will be keyword-only\n"
          ]
        },
        {
          "output_type": "stream",
          "name": "stdout",
          "text": [
            "\r[*********************100%***********************]  1 of 1 completed\n",
            "[1]\tvalid_0's l2: 104168\tvalid_0's l1: 322.67\n",
            "Training until validation scores don't improve for 5 rounds.\n",
            "[2]\tvalid_0's l2: 99828.1\tvalid_0's l1: 315.873\n",
            "[3]\tvalid_0's l2: 95790.5\tvalid_0's l1: 309.416\n",
            "[4]\tvalid_0's l2: 92043.1\tvalid_0's l1: 303.3\n",
            "[5]\tvalid_0's l2: 88541.1\tvalid_0's l1: 297.471\n",
            "[6]\tvalid_0's l2: 85277.8\tvalid_0's l1: 291.934\n",
            "[7]\tvalid_0's l2: 82228.8\tvalid_0's l1: 286.664\n",
            "[8]\tvalid_0's l2: 79379.1\tvalid_0's l1: 281.65\n",
            "[9]\tvalid_0's l2: 76722.1\tvalid_0's l1: 276.893\n",
            "[10]\tvalid_0's l2: 74243.3\tvalid_0's l1: 272.38\n",
            "[11]\tvalid_0's l2: 71920.7\tvalid_0's l1: 268.083\n",
            "[12]\tvalid_0's l2: 69872.5\tvalid_0's l1: 264.235\n",
            "[13]\tvalid_0's l2: 67824.7\tvalid_0's l1: 260.331\n",
            "[14]\tvalid_0's l2: 65907.5\tvalid_0's l1: 256.623\n",
            "[15]\tvalid_0's l2: 64119.8\tvalid_0's l1: 253.116\n",
            "[16]\tvalid_0's l2: 62439.3\tvalid_0's l1: 249.774\n",
            "[17]\tvalid_0's l2: 60952.5\tvalid_0's l1: 246.78\n",
            "[18]\tvalid_0's l2: 59474.6\tvalid_0's l1: 243.767\n",
            "[19]\tvalid_0's l2: 58083.7\tvalid_0's l1: 240.897\n",
            "[20]\tvalid_0's l2: 56777.5\tvalid_0's l1: 238.17\n",
            "Did not meet early stopping. Best iteration is:\n",
            "[20]\tvalid_0's l2: 56777.5\tvalid_0's l1: 238.17\n",
            "The RMSE of prediction is: 238.28028892783746\n"
          ]
        },
        {
          "output_type": "stream",
          "name": "stderr",
          "text": [
            "/usr/local/lib/python3.7/dist-packages/ipykernel_launcher.py:38: FutureWarning: In a future version of pandas all arguments of DataFrame.drop except for the argument 'labels' will be keyword-only\n",
            "/usr/local/lib/python3.7/dist-packages/ipykernel_launcher.py:41: FutureWarning: In a future version of pandas all arguments of DataFrame.drop except for the argument 'labels' will be keyword-only\n",
            "/usr/local/lib/python3.7/dist-packages/ipykernel_launcher.py:44: FutureWarning: In a future version of pandas all arguments of DataFrame.drop except for the argument 'labels' will be keyword-only\n"
          ]
        },
        {
          "output_type": "stream",
          "name": "stdout",
          "text": [
            "\r[*********************100%***********************]  1 of 1 completed\n",
            "[1]\tvalid_0's l2: 35775.2\tvalid_0's l1: 189.122\n",
            "Training until validation scores don't improve for 5 rounds.\n",
            "[2]\tvalid_0's l2: 33316\tvalid_0's l1: 182.505\n",
            "[3]\tvalid_0's l2: 31062.3\tvalid_0's l1: 176.224\n",
            "[4]\tvalid_0's l2: 28974.1\tvalid_0's l1: 170.199\n",
            "[5]\tvalid_0's l2: 27056.8\tvalid_0's l1: 164.471\n",
            "[6]\tvalid_0's l2: 25336.8\tvalid_0's l1: 159.156\n",
            "[7]\tvalid_0's l2: 23752.4\tvalid_0's l1: 154.097\n",
            "[8]\tvalid_0's l2: 22292.4\tvalid_0's l1: 149.284\n",
            "[9]\tvalid_0's l2: 20948.2\tvalid_0's l1: 144.71\n",
            "[10]\tvalid_0's l2: 19672.9\tvalid_0's l1: 140.235\n",
            "[11]\tvalid_0's l2: 18477.7\tvalid_0's l1: 135.906\n",
            "[12]\tvalid_0's l2: 17376.8\tvalid_0's l1: 131.794\n",
            "[13]\tvalid_0's l2: 16369.5\tvalid_0's l1: 127.915\n",
            "[14]\tvalid_0's l2: 15433.5\tvalid_0's l1: 124.203\n",
            "[15]\tvalid_0's l2: 14569.5\tvalid_0's l1: 120.675\n",
            "[16]\tvalid_0's l2: 13795.4\tvalid_0's l1: 117.424\n",
            "[17]\tvalid_0's l2: 13067.4\tvalid_0's l1: 114.283\n",
            "[18]\tvalid_0's l2: 12394.2\tvalid_0's l1: 111.299\n",
            "[19]\tvalid_0's l2: 11769.1\tvalid_0's l1: 108.454\n",
            "[20]\tvalid_0's l2: 11189.4\tvalid_0's l1: 105.748\n",
            "Did not meet early stopping. Best iteration is:\n",
            "[20]\tvalid_0's l2: 11189.4\tvalid_0's l1: 105.748\n",
            "The RMSE of prediction is: 105.77973387032269\n"
          ]
        },
        {
          "output_type": "stream",
          "name": "stderr",
          "text": [
            "/usr/local/lib/python3.7/dist-packages/ipykernel_launcher.py:38: FutureWarning: In a future version of pandas all arguments of DataFrame.drop except for the argument 'labels' will be keyword-only\n",
            "/usr/local/lib/python3.7/dist-packages/ipykernel_launcher.py:41: FutureWarning: In a future version of pandas all arguments of DataFrame.drop except for the argument 'labels' will be keyword-only\n",
            "/usr/local/lib/python3.7/dist-packages/ipykernel_launcher.py:44: FutureWarning: In a future version of pandas all arguments of DataFrame.drop except for the argument 'labels' will be keyword-only\n"
          ]
        },
        {
          "output_type": "stream",
          "name": "stdout",
          "text": [
            "\r[*********************100%***********************]  1 of 1 completed\n",
            "[1]\tvalid_0's l2: 19.2414\tvalid_0's l1: 4.05064\n",
            "Training until validation scores don't improve for 5 rounds.\n",
            "[2]\tvalid_0's l2: 16.6256\tvalid_0's l1: 3.75482\n",
            "[3]\tvalid_0's l2: 14.5946\tvalid_0's l1: 3.51306\n",
            "[4]\tvalid_0's l2: 12.8102\tvalid_0's l1: 3.29383\n",
            "[5]\tvalid_0's l2: 11.1855\tvalid_0's l1: 3.06946\n",
            "[6]\tvalid_0's l2: 10.0063\tvalid_0's l1: 2.89611\n",
            "[7]\tvalid_0's l2: 8.68441\tvalid_0's l1: 2.69459\n",
            "[8]\tvalid_0's l2: 7.62017\tvalid_0's l1: 2.51556\n",
            "[9]\tvalid_0's l2: 6.58748\tvalid_0's l1: 2.33264\n",
            "[10]\tvalid_0's l2: 5.74282\tvalid_0's l1: 2.16631\n",
            "[11]\tvalid_0's l2: 4.95449\tvalid_0's l1: 2.00648\n",
            "[12]\tvalid_0's l2: 4.54824\tvalid_0's l1: 1.91584\n",
            "[13]\tvalid_0's l2: 3.88288\tvalid_0's l1: 1.76349\n",
            "[14]\tvalid_0's l2: 3.31383\tvalid_0's l1: 1.62891\n",
            "[15]\tvalid_0's l2: 2.87864\tvalid_0's l1: 1.50393\n",
            "[16]\tvalid_0's l2: 2.36654\tvalid_0's l1: 1.35651\n",
            "[17]\tvalid_0's l2: 2.10901\tvalid_0's l1: 1.26537\n",
            "[18]\tvalid_0's l2: 1.88692\tvalid_0's l1: 1.18211\n",
            "[19]\tvalid_0's l2: 1.53867\tvalid_0's l1: 1.06385\n",
            "[20]\tvalid_0's l2: 1.24186\tvalid_0's l1: 0.945032\n",
            "Did not meet early stopping. Best iteration is:\n",
            "[20]\tvalid_0's l2: 1.24186\tvalid_0's l1: 0.945032\n",
            "The RMSE of prediction is: 1.1143878822668385\n"
          ]
        },
        {
          "output_type": "stream",
          "name": "stderr",
          "text": [
            "/usr/local/lib/python3.7/dist-packages/ipykernel_launcher.py:38: FutureWarning: In a future version of pandas all arguments of DataFrame.drop except for the argument 'labels' will be keyword-only\n",
            "/usr/local/lib/python3.7/dist-packages/ipykernel_launcher.py:41: FutureWarning: In a future version of pandas all arguments of DataFrame.drop except for the argument 'labels' will be keyword-only\n",
            "/usr/local/lib/python3.7/dist-packages/ipykernel_launcher.py:44: FutureWarning: In a future version of pandas all arguments of DataFrame.drop except for the argument 'labels' will be keyword-only\n"
          ]
        },
        {
          "output_type": "stream",
          "name": "stdout",
          "text": [
            "\r[*********************100%***********************]  1 of 1 completed\n",
            "[1]\tvalid_0's l2: 194.148\tvalid_0's l1: 13.9221\n",
            "Training until validation scores don't improve for 5 rounds.\n",
            "[2]\tvalid_0's l2: 177.917\tvalid_0's l1: 13.3264\n",
            "[3]\tvalid_0's l2: 179.393\tvalid_0's l1: 13.3817\n",
            "[4]\tvalid_0's l2: 163.056\tvalid_0's l1: 12.7567\n",
            "[5]\tvalid_0's l2: 148.26\tvalid_0's l1: 12.1629\n",
            "[6]\tvalid_0's l2: 135.004\tvalid_0's l1: 11.6052\n",
            "[7]\tvalid_0's l2: 139.991\tvalid_0's l1: 11.8181\n",
            "[8]\tvalid_0's l2: 129.508\tvalid_0's l1: 11.3659\n",
            "[9]\tvalid_0's l2: 133.841\tvalid_0's l1: 11.555\n",
            "[10]\tvalid_0's l2: 137.678\tvalid_0's l1: 11.7198\n",
            "[11]\tvalid_0's l2: 128.659\tvalid_0's l1: 11.3285\n",
            "[12]\tvalid_0's l2: 119.413\tvalid_0's l1: 10.9128\n",
            "[13]\tvalid_0's l2: 111.839\tvalid_0's l1: 10.5601\n",
            "[14]\tvalid_0's l2: 104.777\tvalid_0's l1: 10.2202\n",
            "[15]\tvalid_0's l2: 108.508\tvalid_0's l1: 10.4012\n",
            "[16]\tvalid_0's l2: 101.818\tvalid_0's l1: 10.0745\n",
            "[17]\tvalid_0's l2: 95.4583\tvalid_0's l1: 9.75423\n",
            "[18]\tvalid_0's l2: 89.6068\tvalid_0's l1: 9.45002\n",
            "[19]\tvalid_0's l2: 84.2419\tvalid_0's l1: 9.16177\n",
            "[20]\tvalid_0's l2: 79.1431\tvalid_0's l1: 8.88025\n",
            "Did not meet early stopping. Best iteration is:\n",
            "[20]\tvalid_0's l2: 79.1431\tvalid_0's l1: 8.88025\n",
            "The RMSE of prediction is: 8.896239092291612\n"
          ]
        },
        {
          "output_type": "stream",
          "name": "stderr",
          "text": [
            "/usr/local/lib/python3.7/dist-packages/ipykernel_launcher.py:38: FutureWarning: In a future version of pandas all arguments of DataFrame.drop except for the argument 'labels' will be keyword-only\n",
            "/usr/local/lib/python3.7/dist-packages/ipykernel_launcher.py:41: FutureWarning: In a future version of pandas all arguments of DataFrame.drop except for the argument 'labels' will be keyword-only\n",
            "/usr/local/lib/python3.7/dist-packages/ipykernel_launcher.py:44: FutureWarning: In a future version of pandas all arguments of DataFrame.drop except for the argument 'labels' will be keyword-only\n"
          ]
        },
        {
          "output_type": "stream",
          "name": "stdout",
          "text": [
            "\r[*********************100%***********************]  1 of 1 completed\n",
            "[1]\tvalid_0's l2: 91635\tvalid_0's l1: 302.553\n",
            "Training until validation scores don't improve for 5 rounds.\n",
            "[2]\tvalid_0's l2: 90279.6\tvalid_0's l1: 300.305\n",
            "[3]\tvalid_0's l2: 88846.5\tvalid_0's l1: 297.909\n",
            "[4]\tvalid_0's l2: 87622.3\tvalid_0's l1: 295.847\n",
            "[5]\tvalid_0's l2: 86531.9\tvalid_0's l1: 293.998\n",
            "[6]\tvalid_0's l2: 85465.8\tvalid_0's l1: 292.18\n",
            "[7]\tvalid_0's l2: 84459.2\tvalid_0's l1: 290.452\n",
            "[8]\tvalid_0's l2: 83536.1\tvalid_0's l1: 288.859\n",
            "[9]\tvalid_0's l2: 82626.5\tvalid_0's l1: 287.28\n",
            "[10]\tvalid_0's l2: 81784.5\tvalid_0's l1: 285.811\n",
            "[11]\tvalid_0's l2: 80920.6\tvalid_0's l1: 284.295\n",
            "[12]\tvalid_0's l2: 80108.1\tvalid_0's l1: 282.863\n",
            "[13]\tvalid_0's l2: 79327.5\tvalid_0's l1: 281.48\n",
            "[14]\tvalid_0's l2: 78597.5\tvalid_0's l1: 280.18\n",
            "[15]\tvalid_0's l2: 77909.5\tvalid_0's l1: 278.949\n",
            "[16]\tvalid_0's l2: 77208.2\tvalid_0's l1: 277.69\n",
            "[17]\tvalid_0's l2: 76616\tvalid_0's l1: 276.621\n",
            "[18]\tvalid_0's l2: 76080\tvalid_0's l1: 275.651\n",
            "[19]\tvalid_0's l2: 75545.4\tvalid_0's l1: 274.679\n",
            "[20]\tvalid_0's l2: 74992\tvalid_0's l1: 273.67\n",
            "Did not meet early stopping. Best iteration is:\n",
            "[20]\tvalid_0's l2: 74992\tvalid_0's l1: 273.67\n",
            "The RMSE of prediction is: 273.8466832136474\n"
          ]
        },
        {
          "output_type": "stream",
          "name": "stderr",
          "text": [
            "/usr/local/lib/python3.7/dist-packages/ipykernel_launcher.py:38: FutureWarning: In a future version of pandas all arguments of DataFrame.drop except for the argument 'labels' will be keyword-only\n",
            "/usr/local/lib/python3.7/dist-packages/ipykernel_launcher.py:41: FutureWarning: In a future version of pandas all arguments of DataFrame.drop except for the argument 'labels' will be keyword-only\n",
            "/usr/local/lib/python3.7/dist-packages/ipykernel_launcher.py:44: FutureWarning: In a future version of pandas all arguments of DataFrame.drop except for the argument 'labels' will be keyword-only\n"
          ]
        },
        {
          "output_type": "stream",
          "name": "stdout",
          "text": [
            "\r[*********************100%***********************]  1 of 1 completed\n",
            "[1]\tvalid_0's l2: 335.349\tvalid_0's l1: 18.3119\n",
            "Training until validation scores don't improve for 5 rounds.\n",
            "[2]\tvalid_0's l2: 302.723\tvalid_0's l1: 17.3985\n",
            "[3]\tvalid_0's l2: 271.708\tvalid_0's l1: 16.4831\n",
            "[4]\tvalid_0's l2: 244.535\tvalid_0's l1: 15.6371\n",
            "[5]\tvalid_0's l2: 219.388\tvalid_0's l1: 14.8113\n",
            "[6]\tvalid_0's l2: 196.749\tvalid_0's l1: 14.0262\n",
            "[7]\tvalid_0's l2: 176.377\tvalid_0's l1: 13.2801\n",
            "[8]\tvalid_0's l2: 159.761\tvalid_0's l1: 12.639\n",
            "[9]\tvalid_0's l2: 144.015\tvalid_0's l1: 11.9999\n",
            "[10]\tvalid_0's l2: 129.81\tvalid_0's l1: 11.3927\n",
            "[11]\tvalid_0's l2: 116.937\tvalid_0's l1: 10.8129\n",
            "[12]\tvalid_0's l2: 104.643\tvalid_0's l1: 10.2287\n",
            "[13]\tvalid_0's l2: 93.6804\tvalid_0's l1: 9.67784\n",
            "[14]\tvalid_0's l2: 84.3237\tvalid_0's l1: 9.18172\n",
            "[15]\tvalid_0's l2: 75.2882\tvalid_0's l1: 8.67554\n",
            "[16]\tvalid_0's l2: 67.8398\tvalid_0's l1: 8.23508\n",
            "[17]\tvalid_0's l2: 61.1766\tvalid_0's l1: 7.82006\n",
            "[18]\tvalid_0's l2: 55.1001\tvalid_0's l1: 7.42138\n",
            "[19]\tvalid_0's l2: 49.292\tvalid_0's l1: 7.01917\n",
            "[20]\tvalid_0's l2: 43.9919\tvalid_0's l1: 6.63058\n",
            "Did not meet early stopping. Best iteration is:\n",
            "[20]\tvalid_0's l2: 43.9919\tvalid_0's l1: 6.63058\n",
            "The RMSE of prediction is: 6.632641188870076\n"
          ]
        },
        {
          "output_type": "stream",
          "name": "stderr",
          "text": [
            "/usr/local/lib/python3.7/dist-packages/ipykernel_launcher.py:38: FutureWarning: In a future version of pandas all arguments of DataFrame.drop except for the argument 'labels' will be keyword-only\n",
            "/usr/local/lib/python3.7/dist-packages/ipykernel_launcher.py:41: FutureWarning: In a future version of pandas all arguments of DataFrame.drop except for the argument 'labels' will be keyword-only\n",
            "/usr/local/lib/python3.7/dist-packages/ipykernel_launcher.py:44: FutureWarning: In a future version of pandas all arguments of DataFrame.drop except for the argument 'labels' will be keyword-only\n"
          ]
        },
        {
          "output_type": "stream",
          "name": "stdout",
          "text": [
            "\r[*********************100%***********************]  1 of 1 completed\n",
            "[1]\tvalid_0's l2: 157080\tvalid_0's l1: 395.934\n",
            "Training until validation scores don't improve for 5 rounds.\n",
            "[2]\tvalid_0's l2: 153957\tvalid_0's l1: 391.97\n",
            "[3]\tvalid_0's l2: 151020\tvalid_0's l1: 388.206\n",
            "[4]\tvalid_0's l2: 148330\tvalid_0's l1: 384.726\n",
            "[5]\tvalid_0's l2: 145724\tvalid_0's l1: 381.324\n",
            "[6]\tvalid_0's l2: 143299\tvalid_0's l1: 378.13\n",
            "[7]\tvalid_0's l2: 141070\tvalid_0's l1: 375.168\n",
            "[8]\tvalid_0's l2: 138914\tvalid_0's l1: 372.284\n",
            "[9]\tvalid_0's l2: 136932\tvalid_0's l1: 369.61\n",
            "[10]\tvalid_0's l2: 135014\tvalid_0's l1: 367.006\n",
            "[11]\tvalid_0's l2: 133223\tvalid_0's l1: 364.556\n",
            "[12]\tvalid_0's l2: 131460\tvalid_0's l1: 362.13\n",
            "[13]\tvalid_0's l2: 129889\tvalid_0's l1: 359.952\n",
            "[14]\tvalid_0's l2: 128319\tvalid_0's l1: 357.765\n",
            "[15]\tvalid_0's l2: 126833\tvalid_0's l1: 355.682\n",
            "[16]\tvalid_0's l2: 125494\tvalid_0's l1: 353.794\n",
            "[17]\tvalid_0's l2: 124228\tvalid_0's l1: 352.001\n",
            "[18]\tvalid_0's l2: 123031\tvalid_0's l1: 350.297\n",
            "[19]\tvalid_0's l2: 121900\tvalid_0's l1: 348.678\n",
            "[20]\tvalid_0's l2: 120852\tvalid_0's l1: 347.171\n",
            "Did not meet early stopping. Best iteration is:\n",
            "[20]\tvalid_0's l2: 120852\tvalid_0's l1: 347.171\n",
            "The RMSE of prediction is: 347.6380456789596\n"
          ]
        },
        {
          "output_type": "stream",
          "name": "stderr",
          "text": [
            "/usr/local/lib/python3.7/dist-packages/ipykernel_launcher.py:38: FutureWarning: In a future version of pandas all arguments of DataFrame.drop except for the argument 'labels' will be keyword-only\n",
            "/usr/local/lib/python3.7/dist-packages/ipykernel_launcher.py:41: FutureWarning: In a future version of pandas all arguments of DataFrame.drop except for the argument 'labels' will be keyword-only\n",
            "/usr/local/lib/python3.7/dist-packages/ipykernel_launcher.py:44: FutureWarning: In a future version of pandas all arguments of DataFrame.drop except for the argument 'labels' will be keyword-only\n"
          ]
        },
        {
          "output_type": "stream",
          "name": "stdout",
          "text": [
            "\r[*********************100%***********************]  1 of 1 completed\n",
            "[1]\tvalid_0's l2: 105.657\tvalid_0's l1: 10.242\n",
            "Training until validation scores don't improve for 5 rounds.\n",
            "[2]\tvalid_0's l2: 98.2906\tvalid_0's l1: 9.88492\n",
            "[3]\tvalid_0's l2: 92.783\tvalid_0's l1: 9.61171\n",
            "[4]\tvalid_0's l2: 87.7227\tvalid_0's l1: 9.35224\n",
            "[5]\tvalid_0's l2: 82.9526\tvalid_0's l1: 9.09924\n",
            "[6]\tvalid_0's l2: 74.5551\tvalid_0's l1: 8.62546\n",
            "[7]\tvalid_0's l2: 66.9824\tvalid_0's l1: 8.17471\n",
            "[8]\tvalid_0's l2: 63.5784\tvalid_0's l1: 7.96837\n",
            "[9]\tvalid_0's l2: 57.277\tvalid_0's l1: 7.56264\n",
            "[10]\tvalid_0's l2: 51.5956\tvalid_0's l1: 7.1772\n",
            "[11]\tvalid_0's l2: 48.7044\tvalid_0's l1: 6.97555\n",
            "[12]\tvalid_0's l2: 45.9448\tvalid_0's l1: 6.77655\n",
            "[13]\tvalid_0's l2: 43.4908\tvalid_0's l1: 6.59396\n",
            "[14]\tvalid_0's l2: 41.2311\tvalid_0's l1: 6.42049\n",
            "[15]\tvalid_0's l2: 39.5784\tvalid_0's l1: 6.29039\n",
            "[16]\tvalid_0's l2: 38.1702\tvalid_0's l1: 6.17738\n",
            "[17]\tvalid_0's l2: 35.2486\tvalid_0's l1: 5.9362\n",
            "[18]\tvalid_0's l2: 34.0145\tvalid_0's l1: 5.83129\n",
            "[19]\tvalid_0's l2: 32.6401\tvalid_0's l1: 5.71223\n",
            "[20]\tvalid_0's l2: 31.6059\tvalid_0's l1: 5.62071\n",
            "Did not meet early stopping. Best iteration is:\n",
            "[20]\tvalid_0's l2: 31.6059\tvalid_0's l1: 5.62071\n",
            "The RMSE of prediction is: 5.621915561252908\n"
          ]
        },
        {
          "output_type": "stream",
          "name": "stderr",
          "text": [
            "/usr/local/lib/python3.7/dist-packages/ipykernel_launcher.py:38: FutureWarning: In a future version of pandas all arguments of DataFrame.drop except for the argument 'labels' will be keyword-only\n",
            "/usr/local/lib/python3.7/dist-packages/ipykernel_launcher.py:41: FutureWarning: In a future version of pandas all arguments of DataFrame.drop except for the argument 'labels' will be keyword-only\n",
            "/usr/local/lib/python3.7/dist-packages/ipykernel_launcher.py:44: FutureWarning: In a future version of pandas all arguments of DataFrame.drop except for the argument 'labels' will be keyword-only\n"
          ]
        },
        {
          "output_type": "stream",
          "name": "stdout",
          "text": [
            "\r[*********************100%***********************]  1 of 1 completed\n",
            "[1]\tvalid_0's l2: 58439.2\tvalid_0's l1: 241.715\n",
            "Training until validation scores don't improve for 5 rounds.\n",
            "[2]\tvalid_0's l2: 52963.1\tvalid_0's l1: 230.109\n",
            "[3]\tvalid_0's l2: 48010.3\tvalid_0's l1: 219.083\n",
            "[4]\tvalid_0's l2: 43530.4\tvalid_0's l1: 208.609\n",
            "[5]\tvalid_0's l2: 39477.7\tvalid_0's l1: 198.658\n",
            "[6]\tvalid_0's l2: 35858.4\tvalid_0's l1: 189.329\n",
            "[7]\tvalid_0's l2: 32568.5\tvalid_0's l1: 180.432\n",
            "[8]\tvalid_0's l2: 29600.6\tvalid_0's l1: 172.011\n",
            "[9]\tvalid_0's l2: 26912.4\tvalid_0's l1: 164.011\n",
            "[10]\tvalid_0's l2: 24477.2\tvalid_0's l1: 156.411\n",
            "[11]\tvalid_0's l2: 22244.9\tvalid_0's l1: 149.104\n",
            "[12]\tvalid_0's l2: 20345.4\tvalid_0's l1: 142.592\n",
            "[13]\tvalid_0's l2: 18505.3\tvalid_0's l1: 135.987\n",
            "[14]\tvalid_0's l2: 16838.1\tvalid_0's l1: 129.712\n",
            "[15]\tvalid_0's l2: 15381.3\tvalid_0's l1: 123.969\n",
            "[16]\tvalid_0's l2: 14041.1\tvalid_0's l1: 118.441\n",
            "[17]\tvalid_0's l2: 13058.2\tvalid_0's l1: 114.216\n",
            "[18]\tvalid_0's l2: 11937\tvalid_0's l1: 109.198\n",
            "[19]\tvalid_0's l2: 10921.6\tvalid_0's l1: 104.445\n",
            "[20]\tvalid_0's l2: 10176.6\tvalid_0's l1: 100.815\n",
            "Did not meet early stopping. Best iteration is:\n",
            "[20]\tvalid_0's l2: 10176.6\tvalid_0's l1: 100.815\n",
            "The RMSE of prediction is: 100.87894877180808\n"
          ]
        },
        {
          "output_type": "stream",
          "name": "stderr",
          "text": [
            "/usr/local/lib/python3.7/dist-packages/ipykernel_launcher.py:38: FutureWarning: In a future version of pandas all arguments of DataFrame.drop except for the argument 'labels' will be keyword-only\n",
            "/usr/local/lib/python3.7/dist-packages/ipykernel_launcher.py:41: FutureWarning: In a future version of pandas all arguments of DataFrame.drop except for the argument 'labels' will be keyword-only\n",
            "/usr/local/lib/python3.7/dist-packages/ipykernel_launcher.py:44: FutureWarning: In a future version of pandas all arguments of DataFrame.drop except for the argument 'labels' will be keyword-only\n"
          ]
        },
        {
          "output_type": "stream",
          "name": "stdout",
          "text": [
            "\r[*********************100%***********************]  1 of 1 completed\n",
            "[1]\tvalid_0's l2: 10392.5\tvalid_0's l1: 101.935\n",
            "Training until validation scores don't improve for 5 rounds.\n",
            "[2]\tvalid_0's l2: 9463.19\tvalid_0's l1: 97.2696\n",
            "[3]\tvalid_0's l2: 8628.19\tvalid_0's l1: 92.8783\n",
            "[4]\tvalid_0's l2: 7870.66\tvalid_0's l1: 88.7065\n",
            "[5]\tvalid_0's l2: 7186.39\tvalid_0's l1: 84.7619\n",
            "[6]\tvalid_0's l2: 6554.7\tvalid_0's l1: 80.9499\n",
            "[7]\tvalid_0's l2: 5981.52\tvalid_0's l1: 77.3285\n",
            "[8]\tvalid_0's l2: 5473.65\tvalid_0's l1: 73.9719\n",
            "[9]\tvalid_0's l2: 5000.22\tvalid_0's l1: 70.6994\n",
            "[10]\tvalid_0's l2: 4570.3\tvalid_0's l1: 67.5905\n",
            "[11]\tvalid_0's l2: 4179.59\tvalid_0's l1: 64.6357\n",
            "[12]\tvalid_0's l2: 3825.73\tvalid_0's l1: 61.8378\n",
            "[13]\tvalid_0's l2: 3500.36\tvalid_0's l1: 59.1485\n",
            "[14]\tvalid_0's l2: 3211.2\tvalid_0's l1: 56.6505\n",
            "[15]\tvalid_0's l2: 2942.66\tvalid_0's l1: 54.2286\n",
            "[16]\tvalid_0's l2: 2704.51\tvalid_0's l1: 51.9864\n",
            "[17]\tvalid_0's l2: 2487.58\tvalid_0's l1: 49.8564\n",
            "[18]\tvalid_0's l2: 2285.76\tvalid_0's l1: 47.7896\n",
            "[19]\tvalid_0's l2: 2105.72\tvalid_0's l1: 45.8672\n",
            "[20]\tvalid_0's l2: 1941.52\tvalid_0's l1: 44.041\n",
            "Did not meet early stopping. Best iteration is:\n",
            "[20]\tvalid_0's l2: 1941.52\tvalid_0's l1: 44.041\n",
            "The RMSE of prediction is: 44.06272095826115\n"
          ]
        },
        {
          "output_type": "stream",
          "name": "stderr",
          "text": [
            "/usr/local/lib/python3.7/dist-packages/ipykernel_launcher.py:38: FutureWarning: In a future version of pandas all arguments of DataFrame.drop except for the argument 'labels' will be keyword-only\n",
            "/usr/local/lib/python3.7/dist-packages/ipykernel_launcher.py:41: FutureWarning: In a future version of pandas all arguments of DataFrame.drop except for the argument 'labels' will be keyword-only\n",
            "/usr/local/lib/python3.7/dist-packages/ipykernel_launcher.py:44: FutureWarning: In a future version of pandas all arguments of DataFrame.drop except for the argument 'labels' will be keyword-only\n"
          ]
        },
        {
          "output_type": "stream",
          "name": "stdout",
          "text": [
            "\r[*********************100%***********************]  1 of 1 completed\n",
            "[1]\tvalid_0's l2: 545.104\tvalid_0's l1: 23.3143\n",
            "Training until validation scores don't improve for 5 rounds.\n",
            "[2]\tvalid_0's l2: 506.113\tvalid_0's l1: 22.4626\n",
            "[3]\tvalid_0's l2: 470.415\tvalid_0's l1: 21.6534\n",
            "[4]\tvalid_0's l2: 437.715\tvalid_0's l1: 20.8847\n",
            "[5]\tvalid_0's l2: 408.522\tvalid_0's l1: 20.1737\n",
            "[6]\tvalid_0's l2: 381.232\tvalid_0's l1: 19.4855\n",
            "[7]\tvalid_0's l2: 356.184\tvalid_0's l1: 18.8318\n",
            "[8]\tvalid_0's l2: 332.477\tvalid_0's l1: 18.1915\n",
            "[9]\tvalid_0's l2: 311.333\tvalid_0's l1: 17.6008\n",
            "[10]\tvalid_0's l2: 291.892\tvalid_0's l1: 17.0395\n",
            "[11]\tvalid_0's l2: 274.039\tvalid_0's l1: 16.5074\n",
            "[12]\tvalid_0's l2: 257.603\tvalid_0's l1: 16.0018\n",
            "[13]\tvalid_0's l2: 242.116\tvalid_0's l1: 15.5103\n",
            "[14]\tvalid_0's l2: 228.158\tvalid_0's l1: 15.0536\n",
            "[15]\tvalid_0's l2: 214.986\tvalid_0's l1: 14.6096\n",
            "[16]\tvalid_0's l2: 203.334\tvalid_0's l1: 14.2052\n",
            "[17]\tvalid_0's l2: 192.48\tvalid_0's l1: 13.8179\n",
            "[18]\tvalid_0's l2: 182.446\tvalid_0's l1: 13.4499\n",
            "[19]\tvalid_0's l2: 172.874\tvalid_0's l1: 13.0892\n",
            "[20]\tvalid_0's l2: 164.022\tvalid_0's l1: 12.7466\n",
            "Did not meet early stopping. Best iteration is:\n",
            "[20]\tvalid_0's l2: 164.022\tvalid_0's l1: 12.7466\n",
            "The RMSE of prediction is: 12.807102336151598\n"
          ]
        },
        {
          "output_type": "stream",
          "name": "stderr",
          "text": [
            "/usr/local/lib/python3.7/dist-packages/ipykernel_launcher.py:38: FutureWarning: In a future version of pandas all arguments of DataFrame.drop except for the argument 'labels' will be keyword-only\n",
            "/usr/local/lib/python3.7/dist-packages/ipykernel_launcher.py:41: FutureWarning: In a future version of pandas all arguments of DataFrame.drop except for the argument 'labels' will be keyword-only\n",
            "/usr/local/lib/python3.7/dist-packages/ipykernel_launcher.py:44: FutureWarning: In a future version of pandas all arguments of DataFrame.drop except for the argument 'labels' will be keyword-only\n"
          ]
        },
        {
          "output_type": "stream",
          "name": "stdout",
          "text": [
            "\r[*********************100%***********************]  1 of 1 completed\n",
            "[1]\tvalid_0's l2: 1095.98\tvalid_0's l1: 33.0981\n",
            "Training until validation scores don't improve for 5 rounds.\n",
            "[2]\tvalid_0's l2: 995.803\tvalid_0's l1: 31.5485\n",
            "[3]\tvalid_0's l2: 899.768\tvalid_0's l1: 29.9879\n",
            "[4]\tvalid_0's l2: 817.445\tvalid_0's l1: 28.5824\n",
            "[5]\tvalid_0's l2: 742.897\tvalid_0's l1: 27.2471\n",
            "[6]\tvalid_0's l2: 676.248\tvalid_0's l1: 25.9953\n",
            "[7]\tvalid_0's l2: 615.835\tvalid_0's l1: 24.8061\n",
            "[8]\tvalid_0's l2: 556.486\tvalid_0's l1: 23.5795\n",
            "[9]\tvalid_0's l2: 507.061\tvalid_0's l1: 22.5071\n",
            "[10]\tvalid_0's l2: 458.898\tvalid_0's l1: 21.4104\n",
            "[11]\tvalid_0's l2: 414.869\tvalid_0's l1: 20.3562\n",
            "[12]\tvalid_0's l2: 378.297\tvalid_0's l1: 19.4372\n",
            "[13]\tvalid_0's l2: 342.219\tvalid_0's l1: 18.4858\n",
            "[14]\tvalid_0's l2: 312.117\tvalid_0's l1: 17.6529\n",
            "[15]\tvalid_0's l2: 284.92\tvalid_0's l1: 16.865\n",
            "[16]\tvalid_0's l2: 258.315\tvalid_0's l1: 16.0568\n",
            "[17]\tvalid_0's l2: 234.69\tvalid_0's l1: 15.3035\n",
            "[18]\tvalid_0's l2: 212.94\tvalid_0's l1: 14.5756\n",
            "[19]\tvalid_0's l2: 193.556\tvalid_0's l1: 13.8947\n",
            "[20]\tvalid_0's l2: 175.721\tvalid_0's l1: 13.2374\n",
            "Did not meet early stopping. Best iteration is:\n",
            "[20]\tvalid_0's l2: 175.721\tvalid_0's l1: 13.2374\n",
            "The RMSE of prediction is: 13.255978238076\n"
          ]
        },
        {
          "output_type": "stream",
          "name": "stderr",
          "text": [
            "/usr/local/lib/python3.7/dist-packages/ipykernel_launcher.py:38: FutureWarning: In a future version of pandas all arguments of DataFrame.drop except for the argument 'labels' will be keyword-only\n",
            "/usr/local/lib/python3.7/dist-packages/ipykernel_launcher.py:41: FutureWarning: In a future version of pandas all arguments of DataFrame.drop except for the argument 'labels' will be keyword-only\n",
            "/usr/local/lib/python3.7/dist-packages/ipykernel_launcher.py:44: FutureWarning: In a future version of pandas all arguments of DataFrame.drop except for the argument 'labels' will be keyword-only\n"
          ]
        },
        {
          "output_type": "stream",
          "name": "stdout",
          "text": [
            "\r[*********************100%***********************]  1 of 1 completed\n",
            "[1]\tvalid_0's l2: 496589\tvalid_0's l1: 704.132\n",
            "Training until validation scores don't improve for 5 rounds.\n",
            "[2]\tvalid_0's l2: 450771\tvalid_0's l1: 670.808\n",
            "[3]\tvalid_0's l2: 409090\tvalid_0's l1: 638.986\n",
            "[4]\tvalid_0's l2: 371370\tvalid_0's l1: 608.755\n",
            "[5]\tvalid_0's l2: 337234\tvalid_0's l1: 580.04\n",
            "[6]\tvalid_0's l2: 307026\tvalid_0's l1: 553.388\n",
            "[7]\tvalid_0's l2: 276719\tvalid_0's l1: 525.292\n",
            "[8]\tvalid_0's l2: 249552\tvalid_0's l1: 498.763\n",
            "[9]\tvalid_0's l2: 227247\tvalid_0's l1: 475.878\n",
            "[10]\tvalid_0's l2: 204837\tvalid_0's l1: 451.718\n",
            "[11]\tvalid_0's l2: 184464\tvalid_0's l1: 428.576\n",
            "[12]\tvalid_0's l2: 166103\tvalid_0's l1: 406.59\n",
            "[13]\tvalid_0's l2: 149633\tvalid_0's l1: 385.806\n",
            "[14]\tvalid_0's l2: 133830\tvalid_0's l1: 364.75\n",
            "[15]\tvalid_0's l2: 120419\tvalid_0's l1: 345.878\n",
            "[16]\tvalid_0's l2: 107575\tvalid_0's l1: 326.784\n",
            "[17]\tvalid_0's l2: 95959.4\tvalid_0's l1: 308.5\n",
            "[18]\tvalid_0's l2: 85544.1\tvalid_0's l1: 291.13\n",
            "[19]\tvalid_0's l2: 76268.1\tvalid_0's l1: 274.738\n",
            "[20]\tvalid_0's l2: 67953.7\tvalid_0's l1: 259.165\n",
            "Did not meet early stopping. Best iteration is:\n",
            "[20]\tvalid_0's l2: 67953.7\tvalid_0's l1: 259.165\n",
            "The RMSE of prediction is: 260.6793307460595\n"
          ]
        },
        {
          "output_type": "stream",
          "name": "stderr",
          "text": [
            "/usr/local/lib/python3.7/dist-packages/ipykernel_launcher.py:38: FutureWarning: In a future version of pandas all arguments of DataFrame.drop except for the argument 'labels' will be keyword-only\n",
            "/usr/local/lib/python3.7/dist-packages/ipykernel_launcher.py:41: FutureWarning: In a future version of pandas all arguments of DataFrame.drop except for the argument 'labels' will be keyword-only\n",
            "/usr/local/lib/python3.7/dist-packages/ipykernel_launcher.py:44: FutureWarning: In a future version of pandas all arguments of DataFrame.drop except for the argument 'labels' will be keyword-only\n"
          ]
        },
        {
          "output_type": "stream",
          "name": "stdout",
          "text": [
            "\r[*********************100%***********************]  1 of 1 completed\n",
            "[1]\tvalid_0's l2: 1083.55\tvalid_0's l1: 32.6295\n",
            "Training until validation scores don't improve for 5 rounds.\n",
            "[2]\tvalid_0's l2: 978.282\tvalid_0's l1: 30.9956\n",
            "[3]\tvalid_0's l2: 883.565\tvalid_0's l1: 29.4476\n",
            "[4]\tvalid_0's l2: 797.85\tvalid_0's l1: 27.9724\n",
            "[5]\tvalid_0's l2: 723.878\tvalid_0's l1: 26.6316\n",
            "[6]\tvalid_0's l2: 659.726\tvalid_0's l1: 25.4222\n",
            "[7]\tvalid_0's l2: 601.522\tvalid_0's l1: 24.272\n",
            "[8]\tvalid_0's l2: 545.365\tvalid_0's l1: 23.0988\n",
            "[9]\tvalid_0's l2: 497.075\tvalid_0's l1: 22.0459\n",
            "[10]\tvalid_0's l2: 453.313\tvalid_0's l1: 21.0455\n",
            "[11]\tvalid_0's l2: 413.653\tvalid_0's l1: 20.09\n",
            "[12]\tvalid_0's l2: 378.217\tvalid_0's l1: 19.2093\n",
            "[13]\tvalid_0's l2: 344.267\tvalid_0's l1: 18.3125\n",
            "[14]\tvalid_0's l2: 313.646\tvalid_0's l1: 17.4692\n",
            "[15]\tvalid_0's l2: 287.135\tvalid_0's l1: 16.7007\n",
            "[16]\tvalid_0's l2: 262.011\tvalid_0's l1: 15.937\n",
            "[17]\tvalid_0's l2: 240.107\tvalid_0's l1: 15.2444\n",
            "[18]\tvalid_0's l2: 220.317\tvalid_0's l1: 14.5898\n",
            "[19]\tvalid_0's l2: 202.332\tvalid_0's l1: 13.9679\n",
            "[20]\tvalid_0's l2: 185.977\tvalid_0's l1: 13.377\n",
            "Did not meet early stopping. Best iteration is:\n",
            "[20]\tvalid_0's l2: 185.977\tvalid_0's l1: 13.377\n",
            "The RMSE of prediction is: 13.637356561632592\n"
          ]
        },
        {
          "output_type": "stream",
          "name": "stderr",
          "text": [
            "/usr/local/lib/python3.7/dist-packages/ipykernel_launcher.py:38: FutureWarning: In a future version of pandas all arguments of DataFrame.drop except for the argument 'labels' will be keyword-only\n",
            "/usr/local/lib/python3.7/dist-packages/ipykernel_launcher.py:41: FutureWarning: In a future version of pandas all arguments of DataFrame.drop except for the argument 'labels' will be keyword-only\n",
            "/usr/local/lib/python3.7/dist-packages/ipykernel_launcher.py:44: FutureWarning: In a future version of pandas all arguments of DataFrame.drop except for the argument 'labels' will be keyword-only\n"
          ]
        },
        {
          "output_type": "stream",
          "name": "stdout",
          "text": [
            "\r[*********************100%***********************]  1 of 1 completed\n",
            "[1]\tvalid_0's l2: 2361.81\tvalid_0's l1: 48.5131\n",
            "Training until validation scores don't improve for 5 rounds.\n",
            "[2]\tvalid_0's l2: 2216.17\tvalid_0's l1: 46.9882\n",
            "[3]\tvalid_0's l2: 2081.18\tvalid_0's l1: 45.529\n",
            "[4]\tvalid_0's l2: 1958.06\tvalid_0's l1: 44.1563\n",
            "[5]\tvalid_0's l2: 1844.32\tvalid_0's l1: 42.849\n",
            "[6]\tvalid_0's l2: 1739.13\tvalid_0's l1: 41.6034\n",
            "[7]\tvalid_0's l2: 1642.07\tvalid_0's l1: 40.4201\n",
            "[8]\tvalid_0's l2: 1552.45\tvalid_0's l1: 39.2959\n",
            "[9]\tvalid_0's l2: 1469.74\tvalid_0's l1: 38.2289\n",
            "[10]\tvalid_0's l2: 1393.17\tvalid_0's l1: 37.214\n",
            "[11]\tvalid_0's l2: 1323.67\tvalid_0's l1: 36.2683\n",
            "[12]\tvalid_0's l2: 1260.19\tvalid_0's l1: 35.3823\n",
            "[13]\tvalid_0's l2: 1200.48\tvalid_0's l1: 34.5281\n",
            "[14]\tvalid_0's l2: 1145.1\tvalid_0's l1: 33.7167\n",
            "[15]\tvalid_0's l2: 1095.72\tvalid_0's l1: 32.9763\n",
            "[16]\tvalid_0's l2: 1046.2\tvalid_0's l1: 32.2167\n",
            "[17]\tvalid_0's l2: 1000.59\tvalid_0's l1: 31.5008\n",
            "[18]\tvalid_0's l2: 958.207\tvalid_0's l1: 30.8208\n",
            "[19]\tvalid_0's l2: 917.686\tvalid_0's l1: 30.1563\n",
            "[20]\tvalid_0's l2: 880.01\tvalid_0's l1: 29.525\n",
            "Did not meet early stopping. Best iteration is:\n",
            "[20]\tvalid_0's l2: 880.01\tvalid_0's l1: 29.525\n",
            "The RMSE of prediction is: 29.664955176279573\n"
          ]
        },
        {
          "output_type": "stream",
          "name": "stderr",
          "text": [
            "/usr/local/lib/python3.7/dist-packages/ipykernel_launcher.py:38: FutureWarning: In a future version of pandas all arguments of DataFrame.drop except for the argument 'labels' will be keyword-only\n",
            "/usr/local/lib/python3.7/dist-packages/ipykernel_launcher.py:41: FutureWarning: In a future version of pandas all arguments of DataFrame.drop except for the argument 'labels' will be keyword-only\n",
            "/usr/local/lib/python3.7/dist-packages/ipykernel_launcher.py:44: FutureWarning: In a future version of pandas all arguments of DataFrame.drop except for the argument 'labels' will be keyword-only\n"
          ]
        },
        {
          "output_type": "stream",
          "name": "stdout",
          "text": [
            "\r[*********************100%***********************]  1 of 1 completed\n",
            "[1]\tvalid_0's l2: 1637.45\tvalid_0's l1: 40.4435\n",
            "Training until validation scores don't improve for 5 rounds.\n",
            "[2]\tvalid_0's l2: 1461.02\tvalid_0's l1: 38.2084\n",
            "[3]\tvalid_0's l2: 1292.84\tvalid_0's l1: 35.9404\n",
            "[4]\tvalid_0's l2: 1142.61\tvalid_0's l1: 33.7857\n",
            "[5]\tvalid_0's l2: 1008.49\tvalid_0's l1: 31.7388\n",
            "[6]\tvalid_0's l2: 894.492\tvalid_0's l1: 29.896\n",
            "[7]\tvalid_0's l2: 792.845\tvalid_0's l1: 28.1496\n",
            "[8]\tvalid_0's l2: 700.893\tvalid_0's l1: 26.4686\n",
            "[9]\tvalid_0's l2: 625.692\tvalid_0's l1: 25.0083\n",
            "[10]\tvalid_0's l2: 552.787\tvalid_0's l1: 23.5048\n",
            "[11]\tvalid_0's l2: 492.165\tvalid_0's l1: 22.1778\n",
            "[12]\tvalid_0's l2: 437.265\tvalid_0's l1: 20.9034\n",
            "[13]\tvalid_0's l2: 388.766\tvalid_0's l1: 19.7093\n",
            "[14]\tvalid_0's l2: 341.453\tvalid_0's l1: 18.47\n",
            "[15]\tvalid_0's l2: 301.998\tvalid_0's l1: 17.3673\n",
            "[16]\tvalid_0's l2: 267.85\tvalid_0's l1: 16.3546\n",
            "[17]\tvalid_0's l2: 237.308\tvalid_0's l1: 15.3926\n",
            "[18]\tvalid_0's l2: 209.046\tvalid_0's l1: 14.4419\n",
            "[19]\tvalid_0's l2: 184.685\tvalid_0's l1: 13.5723\n",
            "[20]\tvalid_0's l2: 162.762\tvalid_0's l1: 12.7346\n",
            "Did not meet early stopping. Best iteration is:\n",
            "[20]\tvalid_0's l2: 162.762\tvalid_0's l1: 12.7346\n",
            "The RMSE of prediction is: 12.757802204993823\n"
          ]
        },
        {
          "output_type": "stream",
          "name": "stderr",
          "text": [
            "/usr/local/lib/python3.7/dist-packages/ipykernel_launcher.py:38: FutureWarning: In a future version of pandas all arguments of DataFrame.drop except for the argument 'labels' will be keyword-only\n",
            "/usr/local/lib/python3.7/dist-packages/ipykernel_launcher.py:41: FutureWarning: In a future version of pandas all arguments of DataFrame.drop except for the argument 'labels' will be keyword-only\n",
            "/usr/local/lib/python3.7/dist-packages/ipykernel_launcher.py:44: FutureWarning: In a future version of pandas all arguments of DataFrame.drop except for the argument 'labels' will be keyword-only\n"
          ]
        },
        {
          "output_type": "stream",
          "name": "stdout",
          "text": [
            "\r[*********************100%***********************]  1 of 1 completed\n",
            "[1]\tvalid_0's l2: 39865\tvalid_0's l1: 199.593\n",
            "Training until validation scores don't improve for 5 rounds.\n",
            "[2]\tvalid_0's l2: 39009.4\tvalid_0's l1: 197.438\n",
            "[3]\tvalid_0's l2: 38227.1\tvalid_0's l1: 195.446\n",
            "[4]\tvalid_0's l2: 37469.6\tvalid_0's l1: 193.499\n",
            "[5]\tvalid_0's l2: 36756.9\tvalid_0's l1: 191.648\n",
            "[6]\tvalid_0's l2: 36104.1\tvalid_0's l1: 189.938\n",
            "[7]\tvalid_0's l2: 35500.5\tvalid_0's l1: 188.342\n",
            "[8]\tvalid_0's l2: 34922.1\tvalid_0's l1: 186.8\n",
            "[9]\tvalid_0's l2: 34359.8\tvalid_0's l1: 185.289\n",
            "[10]\tvalid_0's l2: 33854.3\tvalid_0's l1: 183.92\n",
            "[11]\tvalid_0's l2: 33354.7\tvalid_0's l1: 182.557\n",
            "[12]\tvalid_0's l2: 32902.9\tvalid_0's l1: 181.315\n",
            "[13]\tvalid_0's l2: 32457.3\tvalid_0's l1: 180.082\n",
            "[14]\tvalid_0's l2: 32036.8\tvalid_0's l1: 178.911\n",
            "[15]\tvalid_0's l2: 31658.2\tvalid_0's l1: 177.849\n",
            "[16]\tvalid_0's l2: 31279.3\tvalid_0's l1: 176.781\n",
            "[17]\tvalid_0's l2: 30921.4\tvalid_0's l1: 175.766\n",
            "[18]\tvalid_0's l2: 30599.8\tvalid_0's l1: 174.848\n",
            "[19]\tvalid_0's l2: 30279.5\tvalid_0's l1: 173.93\n",
            "[20]\tvalid_0's l2: 29976.7\tvalid_0's l1: 173.058\n",
            "Did not meet early stopping. Best iteration is:\n",
            "[20]\tvalid_0's l2: 29976.7\tvalid_0's l1: 173.058\n",
            "The RMSE of prediction is: 173.13787020528056\n"
          ]
        },
        {
          "output_type": "stream",
          "name": "stderr",
          "text": [
            "/usr/local/lib/python3.7/dist-packages/ipykernel_launcher.py:38: FutureWarning: In a future version of pandas all arguments of DataFrame.drop except for the argument 'labels' will be keyword-only\n",
            "/usr/local/lib/python3.7/dist-packages/ipykernel_launcher.py:41: FutureWarning: In a future version of pandas all arguments of DataFrame.drop except for the argument 'labels' will be keyword-only\n",
            "/usr/local/lib/python3.7/dist-packages/ipykernel_launcher.py:44: FutureWarning: In a future version of pandas all arguments of DataFrame.drop except for the argument 'labels' will be keyword-only\n"
          ]
        },
        {
          "output_type": "stream",
          "name": "stdout",
          "text": [
            "\r[*********************100%***********************]  1 of 1 completed\n",
            "[1]\tvalid_0's l2: 2014.28\tvalid_0's l1: 44.4753\n",
            "Training until validation scores don't improve for 5 rounds.\n",
            "[2]\tvalid_0's l2: 1816.35\tvalid_0's l1: 42.2402\n",
            "[3]\tvalid_0's l2: 1646.35\tvalid_0's l1: 40.224\n",
            "[4]\tvalid_0's l2: 1492.7\tvalid_0's l1: 38.3087\n",
            "[5]\tvalid_0's l2: 1352.82\tvalid_0's l1: 36.4761\n",
            "[6]\tvalid_0's l2: 1221.77\tvalid_0's l1: 34.6668\n",
            "[7]\tvalid_0's l2: 1103.41\tvalid_0's l1: 32.9465\n",
            "[8]\tvalid_0's l2: 995.275\tvalid_0's l1: 31.2856\n",
            "[9]\tvalid_0's l2: 898.763\tvalid_0's l1: 29.7299\n",
            "[10]\tvalid_0's l2: 806.076\tvalid_0's l1: 28.1493\n",
            "[11]\tvalid_0's l2: 731.816\tvalid_0's l1: 26.8154\n",
            "[12]\tvalid_0's l2: 663.311\tvalid_0's l1: 25.5201\n",
            "[13]\tvalid_0's l2: 602.77\tvalid_0's l1: 24.315\n",
            "[14]\tvalid_0's l2: 550.726\tvalid_0's l1: 23.2263\n",
            "[15]\tvalid_0's l2: 501.21\tvalid_0's l1: 22.1488\n",
            "[16]\tvalid_0's l2: 452.022\tvalid_0's l1: 21.0339\n",
            "[17]\tvalid_0's l2: 399.037\tvalid_0's l1: 19.7694\n",
            "[18]\tvalid_0's l2: 351.789\tvalid_0's l1: 18.5681\n",
            "[19]\tvalid_0's l2: 311.449\tvalid_0's l1: 17.4698\n",
            "[20]\tvalid_0's l2: 276.159\tvalid_0's l1: 16.4532\n",
            "Did not meet early stopping. Best iteration is:\n",
            "[20]\tvalid_0's l2: 276.159\tvalid_0's l1: 16.4532\n",
            "The RMSE of prediction is: 16.618034797103068\n"
          ]
        },
        {
          "output_type": "stream",
          "name": "stderr",
          "text": [
            "/usr/local/lib/python3.7/dist-packages/ipykernel_launcher.py:38: FutureWarning: In a future version of pandas all arguments of DataFrame.drop except for the argument 'labels' will be keyword-only\n",
            "/usr/local/lib/python3.7/dist-packages/ipykernel_launcher.py:41: FutureWarning: In a future version of pandas all arguments of DataFrame.drop except for the argument 'labels' will be keyword-only\n",
            "/usr/local/lib/python3.7/dist-packages/ipykernel_launcher.py:44: FutureWarning: In a future version of pandas all arguments of DataFrame.drop except for the argument 'labels' will be keyword-only\n"
          ]
        },
        {
          "output_type": "stream",
          "name": "stdout",
          "text": [
            "\r[*********************100%***********************]  1 of 1 completed\n",
            "[1]\tvalid_0's l2: 739.043\tvalid_0's l1: 27.1734\n",
            "Training until validation scores don't improve for 5 rounds.\n",
            "[2]\tvalid_0's l2: 690.127\tvalid_0's l1: 26.2579\n",
            "[3]\tvalid_0's l2: 645.219\tvalid_0's l1: 25.3884\n",
            "[4]\tvalid_0's l2: 603.956\tvalid_0's l1: 24.5623\n",
            "[5]\tvalid_0's l2: 566.021\tvalid_0's l1: 23.7776\n",
            "[6]\tvalid_0's l2: 531.312\tvalid_0's l1: 23.0361\n",
            "[7]\tvalid_0's l2: 499.357\tvalid_0's l1: 22.3318\n",
            "[8]\tvalid_0's l2: 469.868\tvalid_0's l1: 21.6615\n",
            "[9]\tvalid_0's l2: 442.725\tvalid_0's l1: 21.0256\n",
            "[10]\tvalid_0's l2: 417.689\tvalid_0's l1: 20.4216\n",
            "[11]\tvalid_0's l2: 394.265\tvalid_0's l1: 19.8398\n",
            "[12]\tvalid_0's l2: 372.688\tvalid_0's l1: 19.2883\n",
            "[13]\tvalid_0's l2: 352.706\tvalid_0's l1: 18.7632\n",
            "[14]\tvalid_0's l2: 334.234\tvalid_0's l1: 18.2643\n",
            "[15]\tvalid_0's l2: 317.175\tvalid_0's l1: 17.7912\n",
            "[16]\tvalid_0's l2: 301.306\tvalid_0's l1: 17.3395\n",
            "[17]\tvalid_0's l2: 286.607\tvalid_0's l1: 16.9103\n",
            "[18]\tvalid_0's l2: 272.985\tvalid_0's l1: 16.5026\n",
            "[19]\tvalid_0's l2: 260.352\tvalid_0's l1: 16.1153\n",
            "[20]\tvalid_0's l2: 248.628\tvalid_0's l1: 15.7474\n",
            "Did not meet early stopping. Best iteration is:\n",
            "[20]\tvalid_0's l2: 248.628\tvalid_0's l1: 15.7474\n",
            "The RMSE of prediction is: 15.767942659087621\n"
          ]
        },
        {
          "output_type": "stream",
          "name": "stderr",
          "text": [
            "/usr/local/lib/python3.7/dist-packages/ipykernel_launcher.py:38: FutureWarning: In a future version of pandas all arguments of DataFrame.drop except for the argument 'labels' will be keyword-only\n",
            "/usr/local/lib/python3.7/dist-packages/ipykernel_launcher.py:41: FutureWarning: In a future version of pandas all arguments of DataFrame.drop except for the argument 'labels' will be keyword-only\n",
            "/usr/local/lib/python3.7/dist-packages/ipykernel_launcher.py:44: FutureWarning: In a future version of pandas all arguments of DataFrame.drop except for the argument 'labels' will be keyword-only\n"
          ]
        },
        {
          "output_type": "stream",
          "name": "stdout",
          "text": [
            "\r[*********************100%***********************]  1 of 1 completed\n",
            "[1]\tvalid_0's l2: 7595.47\tvalid_0's l1: 87.1073\n",
            "Training until validation scores don't improve for 5 rounds.\n",
            "[2]\tvalid_0's l2: 7218.95\tvalid_0's l1: 84.9185\n",
            "[3]\tvalid_0's l2: 6870.13\tvalid_0's l1: 82.8392\n",
            "[4]\tvalid_0's l2: 6546.76\tvalid_0's l1: 80.8639\n",
            "[5]\tvalid_0's l2: 6246.79\tvalid_0's l1: 78.9873\n",
            "[6]\tvalid_0's l2: 5972.28\tvalid_0's l1: 77.23\n",
            "[7]\tvalid_0's l2: 5713.58\tvalid_0's l1: 75.5366\n",
            "[8]\tvalid_0's l2: 5473.13\tvalid_0's l1: 73.9279\n",
            "[9]\tvalid_0's l2: 5249.5\tvalid_0's l1: 72.3996\n",
            "[10]\tvalid_0's l2: 5041.37\tvalid_0's l1: 70.9477\n",
            "[11]\tvalid_0's l2: 4846.82\tvalid_0's l1: 69.5631\n",
            "[12]\tvalid_0's l2: 4666.1\tvalid_0's l1: 68.2518\n",
            "[13]\tvalid_0's l2: 4497.06\tvalid_0's l1: 67.002\n",
            "[14]\tvalid_0's l2: 4339.37\tvalid_0's l1: 65.8147\n",
            "[15]\tvalid_0's l2: 4192.17\tvalid_0's l1: 64.6868\n",
            "[16]\tvalid_0's l2: 4055.39\tvalid_0's l1: 63.6207\n",
            "[17]\tvalid_0's l2: 3928.06\tvalid_0's l1: 62.612\n",
            "[18]\tvalid_0's l2: 3808.47\tvalid_0's l1: 61.6496\n",
            "[19]\tvalid_0's l2: 3696.58\tvalid_0's l1: 60.7353\n",
            "[20]\tvalid_0's l2: 3592.24\tvalid_0's l1: 59.8702\n",
            "Did not meet early stopping. Best iteration is:\n",
            "[20]\tvalid_0's l2: 3592.24\tvalid_0's l1: 59.8702\n",
            "The RMSE of prediction is: 59.93529585654839\n"
          ]
        },
        {
          "output_type": "stream",
          "name": "stderr",
          "text": [
            "/usr/local/lib/python3.7/dist-packages/ipykernel_launcher.py:38: FutureWarning: In a future version of pandas all arguments of DataFrame.drop except for the argument 'labels' will be keyword-only\n",
            "/usr/local/lib/python3.7/dist-packages/ipykernel_launcher.py:41: FutureWarning: In a future version of pandas all arguments of DataFrame.drop except for the argument 'labels' will be keyword-only\n",
            "/usr/local/lib/python3.7/dist-packages/ipykernel_launcher.py:44: FutureWarning: In a future version of pandas all arguments of DataFrame.drop except for the argument 'labels' will be keyword-only\n"
          ]
        },
        {
          "output_type": "stream",
          "name": "stdout",
          "text": [
            "\r[*********************100%***********************]  1 of 1 completed\n",
            "[1]\tvalid_0's l2: 1945.66\tvalid_0's l1: 44.0807\n",
            "Training until validation scores don't improve for 5 rounds.\n",
            "[2]\tvalid_0's l2: 1756.96\tvalid_0's l1: 41.8857\n",
            "[3]\tvalid_0's l2: 1586.62\tvalid_0's l1: 39.8004\n",
            "[4]\tvalid_0's l2: 1432.86\tvalid_0's l1: 37.8194\n",
            "[5]\tvalid_0's l2: 1294.35\tvalid_0's l1: 35.9416\n",
            "[6]\tvalid_0's l2: 1174.77\tvalid_0's l1: 34.2388\n",
            "[7]\tvalid_0's l2: 1048.75\tvalid_0's l1: 32.3496\n",
            "[8]\tvalid_0's l2: 945.401\tvalid_0's l1: 30.7106\n",
            "[9]\tvalid_0's l2: 848.157\tvalid_0's l1: 29.0843\n",
            "[10]\tvalid_0's l2: 760.674\tvalid_0's l1: 27.5393\n",
            "[11]\tvalid_0's l2: 678.378\tvalid_0's l1: 26.0055\n",
            "[12]\tvalid_0's l2: 613.294\tvalid_0's l1: 24.7258\n",
            "[13]\tvalid_0's l2: 546.575\tvalid_0's l1: 23.3407\n",
            "[14]\tvalid_0's l2: 486.752\tvalid_0's l1: 22.0249\n",
            "[15]\tvalid_0's l2: 436.265\tvalid_0's l1: 20.8473\n",
            "[16]\tvalid_0's l2: 388.642\tvalid_0's l1: 19.6794\n",
            "[17]\tvalid_0's l2: 350.901\tvalid_0's l1: 18.6959\n",
            "[18]\tvalid_0's l2: 316.838\tvalid_0's l1: 17.7616\n",
            "[19]\tvalid_0's l2: 280.907\tvalid_0's l1: 16.7239\n",
            "[20]\tvalid_0's l2: 249.729\tvalid_0's l1: 15.7709\n",
            "Did not meet early stopping. Best iteration is:\n",
            "[20]\tvalid_0's l2: 249.729\tvalid_0's l1: 15.7709\n",
            "The RMSE of prediction is: 15.802825580632458\n"
          ]
        },
        {
          "output_type": "stream",
          "name": "stderr",
          "text": [
            "/usr/local/lib/python3.7/dist-packages/ipykernel_launcher.py:38: FutureWarning: In a future version of pandas all arguments of DataFrame.drop except for the argument 'labels' will be keyword-only\n",
            "/usr/local/lib/python3.7/dist-packages/ipykernel_launcher.py:41: FutureWarning: In a future version of pandas all arguments of DataFrame.drop except for the argument 'labels' will be keyword-only\n",
            "/usr/local/lib/python3.7/dist-packages/ipykernel_launcher.py:44: FutureWarning: In a future version of pandas all arguments of DataFrame.drop except for the argument 'labels' will be keyword-only\n"
          ]
        },
        {
          "output_type": "stream",
          "name": "stdout",
          "text": [
            "\r[*********************100%***********************]  1 of 1 completed\n",
            "[1]\tvalid_0's l2: 34772.1\tvalid_0's l1: 186.41\n",
            "Training until validation scores don't improve for 5 rounds.\n",
            "[2]\tvalid_0's l2: 31129.2\tvalid_0's l1: 176.369\n",
            "[3]\tvalid_0's l2: 27855.2\tvalid_0's l1: 166.829\n",
            "[4]\tvalid_0's l2: 24913.5\tvalid_0's l1: 157.766\n",
            "[5]\tvalid_0's l2: 22271\tvalid_0's l1: 149.157\n",
            "[6]\tvalid_0's l2: 19952.4\tvalid_0's l1: 141.17\n",
            "[7]\tvalid_0's l2: 17836.6\tvalid_0's l1: 133.465\n",
            "[8]\tvalid_0's l2: 15951.4\tvalid_0's l1: 126.205\n",
            "[9]\tvalid_0's l2: 14218.4\tvalid_0's l1: 119.141\n",
            "[10]\tvalid_0's l2: 12661.7\tvalid_0's l1: 112.414\n",
            "[11]\tvalid_0's l2: 11335\tvalid_0's l1: 106.349\n",
            "[12]\tvalid_0's l2: 10099.3\tvalid_0's l1: 100.37\n",
            "[13]\tvalid_0's l2: 9031.29\tvalid_0's l1: 94.8988\n",
            "[14]\tvalid_0's l2: 8072.17\tvalid_0's l1: 89.7012\n",
            "[15]\tvalid_0's l2: 7186.02\tvalid_0's l1: 84.6177\n",
            "[16]\tvalid_0's l2: 6397.3\tvalid_0's l1: 79.8213\n",
            "[17]\tvalid_0's l2: 5653.92\tvalid_0's l1: 75.0224\n",
            "[18]\tvalid_0's l2: 5037.73\tvalid_0's l1: 70.7946\n",
            "[19]\tvalid_0's l2: 4484.6\tvalid_0's l1: 66.7808\n",
            "[20]\tvalid_0's l2: 3987.25\tvalid_0's l1: 62.9554\n",
            "Did not meet early stopping. Best iteration is:\n",
            "[20]\tvalid_0's l2: 3987.25\tvalid_0's l1: 62.9554\n",
            "The RMSE of prediction is: 63.14467771953296\n"
          ]
        },
        {
          "output_type": "stream",
          "name": "stderr",
          "text": [
            "/usr/local/lib/python3.7/dist-packages/ipykernel_launcher.py:38: FutureWarning: In a future version of pandas all arguments of DataFrame.drop except for the argument 'labels' will be keyword-only\n",
            "/usr/local/lib/python3.7/dist-packages/ipykernel_launcher.py:41: FutureWarning: In a future version of pandas all arguments of DataFrame.drop except for the argument 'labels' will be keyword-only\n",
            "/usr/local/lib/python3.7/dist-packages/ipykernel_launcher.py:44: FutureWarning: In a future version of pandas all arguments of DataFrame.drop except for the argument 'labels' will be keyword-only\n"
          ]
        },
        {
          "output_type": "stream",
          "name": "stdout",
          "text": [
            "\r[*********************100%***********************]  1 of 1 completed\n",
            "[1]\tvalid_0's l2: 16604.7\tvalid_0's l1: 128.793\n",
            "Training until validation scores don't improve for 5 rounds.\n",
            "[2]\tvalid_0's l2: 15895.4\tvalid_0's l1: 126.009\n",
            "[3]\tvalid_0's l2: 15238.5\tvalid_0's l1: 123.375\n",
            "[4]\tvalid_0's l2: 14627.3\tvalid_0's l1: 120.873\n",
            "[5]\tvalid_0's l2: 14058.3\tvalid_0's l1: 118.496\n",
            "[6]\tvalid_0's l2: 13527.6\tvalid_0's l1: 116.235\n",
            "[7]\tvalid_0's l2: 13032.9\tvalid_0's l1: 114.087\n",
            "[8]\tvalid_0's l2: 12574.3\tvalid_0's l1: 112.06\n",
            "[9]\tvalid_0's l2: 12143.5\tvalid_0's l1: 110.12\n",
            "[10]\tvalid_0's l2: 11741.1\tvalid_0's l1: 108.278\n",
            "[11]\tvalid_0's l2: 11370.4\tvalid_0's l1: 106.552\n",
            "[12]\tvalid_0's l2: 11019.7\tvalid_0's l1: 104.894\n",
            "[13]\tvalid_0's l2: 10695.2\tvalid_0's l1: 103.335\n",
            "[14]\tvalid_0's l2: 10388.5\tvalid_0's l1: 101.84\n",
            "[15]\tvalid_0's l2: 10100.6\tvalid_0's l1: 100.417\n",
            "[16]\tvalid_0's l2: 9833.71\tvalid_0's l1: 99.0793\n",
            "[17]\tvalid_0's l2: 9581.18\tvalid_0's l1: 97.7967\n",
            "[18]\tvalid_0's l2: 9344.33\tvalid_0's l1: 96.5782\n",
            "[19]\tvalid_0's l2: 9122.08\tvalid_0's l1: 95.4206\n",
            "[20]\tvalid_0's l2: 8923.88\tvalid_0's l1: 94.3764\n",
            "Did not meet early stopping. Best iteration is:\n",
            "[20]\tvalid_0's l2: 8923.88\tvalid_0's l1: 94.3764\n",
            "The RMSE of prediction is: 94.46626588683104\n"
          ]
        },
        {
          "output_type": "stream",
          "name": "stderr",
          "text": [
            "/usr/local/lib/python3.7/dist-packages/ipykernel_launcher.py:38: FutureWarning: In a future version of pandas all arguments of DataFrame.drop except for the argument 'labels' will be keyword-only\n",
            "/usr/local/lib/python3.7/dist-packages/ipykernel_launcher.py:41: FutureWarning: In a future version of pandas all arguments of DataFrame.drop except for the argument 'labels' will be keyword-only\n",
            "/usr/local/lib/python3.7/dist-packages/ipykernel_launcher.py:44: FutureWarning: In a future version of pandas all arguments of DataFrame.drop except for the argument 'labels' will be keyword-only\n"
          ]
        },
        {
          "output_type": "stream",
          "name": "stdout",
          "text": [
            "\r[*********************100%***********************]  1 of 1 completed\n",
            "[1]\tvalid_0's l2: 5936.1\tvalid_0's l1: 76.7984\n",
            "Training until validation scores don't improve for 5 rounds.\n",
            "[2]\tvalid_0's l2: 5325.4\tvalid_0's l1: 72.7138\n",
            "[3]\tvalid_0's l2: 4776.15\tvalid_0's l1: 68.8334\n",
            "[4]\tvalid_0's l2: 4282.25\tvalid_0's l1: 65.147\n",
            "[5]\tvalid_0's l2: 3840.09\tvalid_0's l1: 61.6602\n",
            "[6]\tvalid_0's l2: 3451.05\tvalid_0's l1: 58.4204\n",
            "[7]\tvalid_0's l2: 3101.97\tvalid_0's l1: 55.3522\n",
            "[8]\tvalid_0's l2: 2787.79\tvalid_0's l1: 52.4373\n",
            "[9]\tvalid_0's l2: 2496.24\tvalid_0's l1: 49.5796\n",
            "[10]\tvalid_0's l2: 2242.11\tvalid_0's l1: 46.9468\n",
            "[11]\tvalid_0's l2: 2004.83\tvalid_0's l1: 44.3477\n",
            "[12]\tvalid_0's l2: 1791.92\tvalid_0's l1: 41.8785\n",
            "[13]\tvalid_0's l2: 1602.57\tvalid_0's l1: 39.5532\n",
            "[14]\tvalid_0's l2: 1432.7\tvalid_0's l1: 37.3442\n",
            "[15]\tvalid_0's l2: 1278.76\tvalid_0's l1: 35.2229\n",
            "[16]\tvalid_0's l2: 1144.12\tvalid_0's l1: 33.2567\n",
            "[17]\tvalid_0's l2: 1022.75\tvalid_0's l1: 31.3789\n",
            "[18]\tvalid_0's l2: 913.972\tvalid_0's l1: 29.595\n",
            "[19]\tvalid_0's l2: 816.898\tvalid_0's l1: 27.9068\n",
            "[20]\tvalid_0's l2: 729.957\tvalid_0's l1: 26.303\n",
            "Did not meet early stopping. Best iteration is:\n",
            "[20]\tvalid_0's l2: 729.957\tvalid_0's l1: 26.303\n",
            "The RMSE of prediction is: 27.01772241335945\n"
          ]
        },
        {
          "output_type": "stream",
          "name": "stderr",
          "text": [
            "/usr/local/lib/python3.7/dist-packages/ipykernel_launcher.py:38: FutureWarning: In a future version of pandas all arguments of DataFrame.drop except for the argument 'labels' will be keyword-only\n",
            "/usr/local/lib/python3.7/dist-packages/ipykernel_launcher.py:41: FutureWarning: In a future version of pandas all arguments of DataFrame.drop except for the argument 'labels' will be keyword-only\n",
            "/usr/local/lib/python3.7/dist-packages/ipykernel_launcher.py:44: FutureWarning: In a future version of pandas all arguments of DataFrame.drop except for the argument 'labels' will be keyword-only\n"
          ]
        },
        {
          "output_type": "stream",
          "name": "stdout",
          "text": [
            "\r[*********************100%***********************]  1 of 1 completed\n",
            "[1]\tvalid_0's l2: 564807\tvalid_0's l1: 751.506\n",
            "Training until validation scores don't improve for 5 rounds.\n",
            "[2]\tvalid_0's l2: 549212\tvalid_0's l1: 741.058\n",
            "[3]\tvalid_0's l2: 534601\tvalid_0's l1: 731.133\n",
            "[4]\tvalid_0's l2: 521132\tvalid_0's l1: 721.863\n",
            "[5]\tvalid_0's l2: 508268\tvalid_0's l1: 712.897\n",
            "[6]\tvalid_0's l2: 496404\tvalid_0's l1: 704.527\n",
            "[7]\tvalid_0's l2: 485219\tvalid_0's l1: 696.544\n",
            "[8]\tvalid_0's l2: 474557\tvalid_0's l1: 688.848\n",
            "[9]\tvalid_0's l2: 464514\tvalid_0's l1: 681.519\n",
            "[10]\tvalid_0's l2: 455072\tvalid_0's l1: 674.556\n",
            "[11]\tvalid_0's l2: 446248\tvalid_0's l1: 667.984\n",
            "[12]\tvalid_0's l2: 438107\tvalid_0's l1: 661.862\n",
            "[13]\tvalid_0's l2: 430283\tvalid_0's l1: 655.925\n",
            "[14]\tvalid_0's l2: 423083\tvalid_0's l1: 650.413\n",
            "[15]\tvalid_0's l2: 416129\tvalid_0's l1: 645.045\n",
            "[16]\tvalid_0's l2: 409668\tvalid_0's l1: 640.017\n",
            "[17]\tvalid_0's l2: 403458\tvalid_0's l1: 635.147\n",
            "[18]\tvalid_0's l2: 397602\tvalid_0's l1: 630.521\n",
            "[19]\tvalid_0's l2: 392079\tvalid_0's l1: 626.126\n",
            "[20]\tvalid_0's l2: 386868\tvalid_0's l1: 621.95\n",
            "Did not meet early stopping. Best iteration is:\n",
            "[20]\tvalid_0's l2: 386868\tvalid_0's l1: 621.95\n",
            "The RMSE of prediction is: 621.9872260198157\n"
          ]
        },
        {
          "output_type": "stream",
          "name": "stderr",
          "text": [
            "/usr/local/lib/python3.7/dist-packages/ipykernel_launcher.py:38: FutureWarning: In a future version of pandas all arguments of DataFrame.drop except for the argument 'labels' will be keyword-only\n",
            "/usr/local/lib/python3.7/dist-packages/ipykernel_launcher.py:41: FutureWarning: In a future version of pandas all arguments of DataFrame.drop except for the argument 'labels' will be keyword-only\n",
            "/usr/local/lib/python3.7/dist-packages/ipykernel_launcher.py:44: FutureWarning: In a future version of pandas all arguments of DataFrame.drop except for the argument 'labels' will be keyword-only\n"
          ]
        },
        {
          "output_type": "stream",
          "name": "stdout",
          "text": [
            "\r[*********************100%***********************]  1 of 1 completed\n",
            "[1]\tvalid_0's l2: 6091.44\tvalid_0's l1: 78.0265\n",
            "Training until validation scores don't improve for 5 rounds.\n",
            "[2]\tvalid_0's l2: 5521.63\tvalid_0's l1: 74.2854\n",
            "[3]\tvalid_0's l2: 5010.53\tvalid_0's l1: 70.7617\n",
            "[4]\tvalid_0's l2: 4547.99\tvalid_0's l1: 67.4142\n",
            "[5]\tvalid_0's l2: 4129.33\tvalid_0's l1: 64.2341\n",
            "[6]\tvalid_0's l2: 3744.7\tvalid_0's l1: 61.1687\n",
            "[7]\tvalid_0's l2: 3398.09\tvalid_0's l1: 58.2685\n",
            "[8]\tvalid_0's l2: 3080.22\tvalid_0's l1: 55.4761\n",
            "[9]\tvalid_0's l2: 2799.82\tvalid_0's l1: 52.8886\n",
            "[10]\tvalid_0's l2: 2545.85\tvalid_0's l1: 50.4304\n",
            "[11]\tvalid_0's l2: 2311.44\tvalid_0's l1: 48.0505\n",
            "[12]\tvalid_0's l2: 2099.34\tvalid_0's l1: 45.7904\n",
            "[13]\tvalid_0's l2: 1907.23\tvalid_0's l1: 43.6423\n",
            "[14]\tvalid_0's l2: 1733.28\tvalid_0's l1: 41.6016\n",
            "[15]\tvalid_0's l2: 1578.99\tvalid_0's l1: 39.7039\n",
            "[16]\tvalid_0's l2: 1439.09\tvalid_0's l1: 37.9012\n",
            "[17]\tvalid_0's l2: 1312.19\tvalid_0's l1: 36.1884\n",
            "[18]\tvalid_0's l2: 1197.06\tvalid_0's l1: 34.5612\n",
            "[19]\tvalid_0's l2: 1090.16\tvalid_0's l1: 32.9839\n",
            "[20]\tvalid_0's l2: 992.917\tvalid_0's l1: 31.481\n",
            "Did not meet early stopping. Best iteration is:\n",
            "[20]\tvalid_0's l2: 992.917\tvalid_0's l1: 31.481\n",
            "The RMSE of prediction is: 31.51058802797153\n"
          ]
        },
        {
          "output_type": "stream",
          "name": "stderr",
          "text": [
            "/usr/local/lib/python3.7/dist-packages/ipykernel_launcher.py:38: FutureWarning: In a future version of pandas all arguments of DataFrame.drop except for the argument 'labels' will be keyword-only\n",
            "/usr/local/lib/python3.7/dist-packages/ipykernel_launcher.py:41: FutureWarning: In a future version of pandas all arguments of DataFrame.drop except for the argument 'labels' will be keyword-only\n",
            "/usr/local/lib/python3.7/dist-packages/ipykernel_launcher.py:44: FutureWarning: In a future version of pandas all arguments of DataFrame.drop except for the argument 'labels' will be keyword-only\n"
          ]
        },
        {
          "output_type": "stream",
          "name": "stdout",
          "text": [
            "\r[*********************100%***********************]  1 of 1 completed\n",
            "[1]\tvalid_0's l2: 67764.9\tvalid_0's l1: 260.149\n",
            "Training until validation scores don't improve for 5 rounds.\n",
            "[2]\tvalid_0's l2: 65823.9\tvalid_0's l1: 256.391\n",
            "[3]\tvalid_0's l2: 63954.1\tvalid_0's l1: 252.719\n",
            "[4]\tvalid_0's l2: 62202.9\tvalid_0's l1: 249.23\n",
            "[5]\tvalid_0's l2: 60561.7\tvalid_0's l1: 245.915\n",
            "[6]\tvalid_0's l2: 59067.3\tvalid_0's l1: 242.858\n",
            "[7]\tvalid_0's l2: 57629.8\tvalid_0's l1: 239.88\n",
            "[8]\tvalid_0's l2: 56280.7\tvalid_0's l1: 237.051\n",
            "[9]\tvalid_0's l2: 55044.2\tvalid_0's l1: 234.429\n",
            "[10]\tvalid_0's l2: 53852.3\tvalid_0's l1: 231.872\n",
            "[11]\tvalid_0's l2: 52750.3\tvalid_0's l1: 229.483\n",
            "[12]\tvalid_0's l2: 51716.7\tvalid_0's l1: 227.22\n",
            "[13]\tvalid_0's l2: 50709.4\tvalid_0's l1: 224.992\n",
            "[14]\tvalid_0's l2: 49761.6\tvalid_0's l1: 222.876\n",
            "[15]\tvalid_0's l2: 48869.6\tvalid_0's l1: 220.866\n",
            "[16]\tvalid_0's l2: 48042.2\tvalid_0's l1: 218.985\n",
            "[17]\tvalid_0's l2: 47261.8\tvalid_0's l1: 217.196\n",
            "[18]\tvalid_0's l2: 46526.4\tvalid_0's l1: 215.496\n",
            "[19]\tvalid_0's l2: 45833.5\tvalid_0's l1: 213.882\n",
            "[20]\tvalid_0's l2: 45180.1\tvalid_0's l1: 212.349\n",
            "Did not meet early stopping. Best iteration is:\n",
            "[20]\tvalid_0's l2: 45180.1\tvalid_0's l1: 212.349\n",
            "The RMSE of prediction is: 212.5561253848383\n"
          ]
        },
        {
          "output_type": "stream",
          "name": "stderr",
          "text": [
            "/usr/local/lib/python3.7/dist-packages/ipykernel_launcher.py:38: FutureWarning: In a future version of pandas all arguments of DataFrame.drop except for the argument 'labels' will be keyword-only\n",
            "/usr/local/lib/python3.7/dist-packages/ipykernel_launcher.py:41: FutureWarning: In a future version of pandas all arguments of DataFrame.drop except for the argument 'labels' will be keyword-only\n",
            "/usr/local/lib/python3.7/dist-packages/ipykernel_launcher.py:44: FutureWarning: In a future version of pandas all arguments of DataFrame.drop except for the argument 'labels' will be keyword-only\n"
          ]
        },
        {
          "output_type": "stream",
          "name": "stdout",
          "text": [
            "\r[*********************100%***********************]  1 of 1 completed\n",
            "[1]\tvalid_0's l2: 6022.23\tvalid_0's l1: 77.594\n",
            "Training until validation scores don't improve for 5 rounds.\n",
            "[2]\tvalid_0's l2: 5681.97\tvalid_0's l1: 75.3695\n",
            "[3]\tvalid_0's l2: 5365.61\tvalid_0's l1: 73.2408\n",
            "[4]\tvalid_0's l2: 5067.33\tvalid_0's l1: 71.1753\n",
            "[5]\tvalid_0's l2: 4797.51\tvalid_0's l1: 69.2539\n",
            "[6]\tvalid_0's l2: 4545.57\tvalid_0's l1: 67.4104\n",
            "[7]\tvalid_0's l2: 4312.53\tvalid_0's l1: 65.6592\n",
            "[8]\tvalid_0's l2: 4099.37\tvalid_0's l1: 64.0153\n",
            "[9]\tvalid_0's l2: 3899.38\tvalid_0's l1: 62.4337\n",
            "[10]\tvalid_0's l2: 3716.26\tvalid_0's l1: 60.9496\n",
            "[11]\tvalid_0's l2: 3542.35\tvalid_0's l1: 59.5058\n",
            "[12]\tvalid_0's l2: 3379.75\tvalid_0's l1: 58.1235\n",
            "[13]\tvalid_0's l2: 3224.68\tvalid_0's l1: 56.7739\n",
            "[14]\tvalid_0's l2: 3085.53\tvalid_0's l1: 55.5349\n",
            "[15]\tvalid_0's l2: 2958.59\tvalid_0's l1: 54.38\n",
            "[16]\tvalid_0's l2: 2841.16\tvalid_0's l1: 53.2893\n",
            "[17]\tvalid_0's l2: 2731.8\tvalid_0's l1: 52.2532\n",
            "[18]\tvalid_0's l2: 2626.78\tvalid_0's l1: 51.2384\n",
            "[19]\tvalid_0's l2: 2528.91\tvalid_0's l1: 50.2742\n",
            "[20]\tvalid_0's l2: 2437.65\tvalid_0's l1: 49.3583\n",
            "Did not meet early stopping. Best iteration is:\n",
            "[20]\tvalid_0's l2: 2437.65\tvalid_0's l1: 49.3583\n",
            "The RMSE of prediction is: 49.372591319104195\n"
          ]
        },
        {
          "output_type": "stream",
          "name": "stderr",
          "text": [
            "/usr/local/lib/python3.7/dist-packages/ipykernel_launcher.py:38: FutureWarning: In a future version of pandas all arguments of DataFrame.drop except for the argument 'labels' will be keyword-only\n",
            "/usr/local/lib/python3.7/dist-packages/ipykernel_launcher.py:41: FutureWarning: In a future version of pandas all arguments of DataFrame.drop except for the argument 'labels' will be keyword-only\n",
            "/usr/local/lib/python3.7/dist-packages/ipykernel_launcher.py:44: FutureWarning: In a future version of pandas all arguments of DataFrame.drop except for the argument 'labels' will be keyword-only\n"
          ]
        },
        {
          "output_type": "stream",
          "name": "stdout",
          "text": [
            "\r[*********************100%***********************]  1 of 1 completed\n",
            "[1]\tvalid_0's l2: 8669.66\tvalid_0's l1: 93.0047\n",
            "Training until validation scores don't improve for 5 rounds.\n",
            "[2]\tvalid_0's l2: 8058.79\tvalid_0's l1: 89.6605\n",
            "[3]\tvalid_0's l2: 7504.23\tvalid_0's l1: 86.5126\n",
            "[4]\tvalid_0's l2: 6995.75\tvalid_0's l1: 83.5222\n",
            "[5]\tvalid_0's l2: 6520.04\tvalid_0's l1: 80.6241\n",
            "[6]\tvalid_0's l2: 6079.62\tvalid_0's l1: 77.8449\n",
            "[7]\tvalid_0's l2: 5682.25\tvalid_0's l1: 75.2493\n",
            "[8]\tvalid_0's l2: 5316.18\tvalid_0's l1: 72.7763\n",
            "[9]\tvalid_0's l2: 4973.28\tvalid_0's l1: 70.381\n",
            "[10]\tvalid_0's l2: 4658.97\tvalid_0's l1: 68.1115\n",
            "[11]\tvalid_0's l2: 4378.2\tvalid_0's l1: 66.0182\n",
            "[12]\tvalid_0's l2: 4112.88\tvalid_0's l1: 63.9772\n",
            "[13]\tvalid_0's l2: 3874.52\tvalid_0's l1: 62.0865\n",
            "[14]\tvalid_0's l2: 3654.71\tvalid_0's l1: 60.2903\n",
            "[15]\tvalid_0's l2: 3451.86\tvalid_0's l1: 58.5839\n",
            "[16]\tvalid_0's l2: 3269.95\tvalid_0's l1: 57.0102\n",
            "[17]\tvalid_0's l2: 3101.72\tvalid_0's l1: 55.5151\n",
            "[18]\tvalid_0's l2: 2950.02\tvalid_0's l1: 54.1336\n",
            "[19]\tvalid_0's l2: 2805.25\tvalid_0's l1: 52.7795\n",
            "[20]\tvalid_0's l2: 2671.47\tvalid_0's l1: 51.4966\n",
            "Did not meet early stopping. Best iteration is:\n",
            "[20]\tvalid_0's l2: 2671.47\tvalid_0's l1: 51.4966\n",
            "The RMSE of prediction is: 51.68623053984882\n"
          ]
        },
        {
          "output_type": "stream",
          "name": "stderr",
          "text": [
            "/usr/local/lib/python3.7/dist-packages/ipykernel_launcher.py:38: FutureWarning: In a future version of pandas all arguments of DataFrame.drop except for the argument 'labels' will be keyword-only\n",
            "/usr/local/lib/python3.7/dist-packages/ipykernel_launcher.py:41: FutureWarning: In a future version of pandas all arguments of DataFrame.drop except for the argument 'labels' will be keyword-only\n",
            "/usr/local/lib/python3.7/dist-packages/ipykernel_launcher.py:44: FutureWarning: In a future version of pandas all arguments of DataFrame.drop except for the argument 'labels' will be keyword-only\n"
          ]
        },
        {
          "output_type": "stream",
          "name": "stdout",
          "text": [
            "\r[*********************100%***********************]  1 of 1 completed\n",
            "[1]\tvalid_0's l2: 8471.18\tvalid_0's l1: 92.0284\n",
            "Training until validation scores don't improve for 5 rounds.\n",
            "[2]\tvalid_0's l2: 8137.43\tvalid_0's l1: 90.1969\n",
            "[3]\tvalid_0's l2: 7826.59\tvalid_0's l1: 88.457\n",
            "[4]\tvalid_0's l2: 7536.9\tvalid_0's l1: 86.8041\n",
            "[5]\tvalid_0's l2: 7266.75\tvalid_0's l1: 85.2338\n",
            "[6]\tvalid_0's l2: 7013.09\tvalid_0's l1: 83.7326\n",
            "[7]\tvalid_0's l2: 6778.55\tvalid_0's l1: 82.3201\n",
            "[8]\tvalid_0's l2: 6559.43\tvalid_0's l1: 80.9783\n",
            "[9]\tvalid_0's l2: 6354.6\tvalid_0's l1: 79.7035\n",
            "[10]\tvalid_0's l2: 6163.02\tvalid_0's l1: 78.4925\n",
            "[11]\tvalid_0's l2: 5980.35\tvalid_0's l1: 77.3201\n",
            "[12]\tvalid_0's l2: 5808.14\tvalid_0's l1: 76.1984\n",
            "[13]\tvalid_0's l2: 5647.85\tvalid_0's l1: 75.1392\n",
            "[14]\tvalid_0's l2: 5500.05\tvalid_0's l1: 74.1492\n",
            "[15]\tvalid_0's l2: 5358.23\tvalid_0's l1: 73.1867\n",
            "[16]\tvalid_0's l2: 5224.29\tvalid_0's l1: 72.2658\n",
            "[17]\tvalid_0's l2: 5099.19\tvalid_0's l1: 71.395\n",
            "[18]\tvalid_0's l2: 4981.76\tvalid_0's l1: 70.5678\n",
            "[19]\tvalid_0's l2: 4869.99\tvalid_0's l1: 69.7714\n",
            "[20]\tvalid_0's l2: 4764.98\tvalid_0's l1: 69.0148\n",
            "Did not meet early stopping. Best iteration is:\n",
            "[20]\tvalid_0's l2: 4764.98\tvalid_0's l1: 69.0148\n",
            "The RMSE of prediction is: 69.02886118332333\n"
          ]
        },
        {
          "output_type": "stream",
          "name": "stderr",
          "text": [
            "/usr/local/lib/python3.7/dist-packages/ipykernel_launcher.py:38: FutureWarning: In a future version of pandas all arguments of DataFrame.drop except for the argument 'labels' will be keyword-only\n",
            "/usr/local/lib/python3.7/dist-packages/ipykernel_launcher.py:41: FutureWarning: In a future version of pandas all arguments of DataFrame.drop except for the argument 'labels' will be keyword-only\n",
            "/usr/local/lib/python3.7/dist-packages/ipykernel_launcher.py:44: FutureWarning: In a future version of pandas all arguments of DataFrame.drop except for the argument 'labels' will be keyword-only\n"
          ]
        },
        {
          "output_type": "stream",
          "name": "stdout",
          "text": [
            "\r[*********************100%***********************]  1 of 1 completed\n",
            "[1]\tvalid_0's l2: 734.311\tvalid_0's l1: 27.0321\n",
            "Training until validation scores don't improve for 5 rounds.\n",
            "[2]\tvalid_0's l2: 664.258\tvalid_0's l1: 25.71\n",
            "[3]\tvalid_0's l2: 601.088\tvalid_0's l1: 24.4616\n",
            "[4]\tvalid_0's l2: 543.636\tvalid_0's l1: 23.2628\n",
            "[5]\tvalid_0's l2: 491.855\tvalid_0's l1: 22.1307\n",
            "[6]\tvalid_0's l2: 445.868\tvalid_0's l1: 21.0731\n",
            "[7]\tvalid_0's l2: 405.677\tvalid_0's l1: 20.1035\n",
            "[8]\tvalid_0's l2: 368.966\tvalid_0's l1: 19.1729\n",
            "[9]\tvalid_0's l2: 334.67\tvalid_0's l1: 18.2596\n",
            "[10]\tvalid_0's l2: 304.691\tvalid_0's l1: 17.4232\n",
            "[11]\tvalid_0's l2: 275.593\tvalid_0's l1: 16.5713\n",
            "[12]\tvalid_0's l2: 249.054\tvalid_0's l1: 15.7537\n",
            "[13]\tvalid_0's l2: 225.502\tvalid_0's l1: 14.9907\n",
            "[14]\tvalid_0's l2: 204.524\tvalid_0's l1: 14.2774\n",
            "[15]\tvalid_0's l2: 185.566\tvalid_0's l1: 13.6003\n",
            "[16]\tvalid_0's l2: 168.895\tvalid_0's l1: 12.9761\n",
            "[17]\tvalid_0's l2: 153.19\tvalid_0's l1: 12.358\n",
            "[18]\tvalid_0's l2: 139.044\tvalid_0's l1: 11.7719\n",
            "[19]\tvalid_0's l2: 126.307\tvalid_0's l1: 11.2196\n",
            "[20]\tvalid_0's l2: 115.063\tvalid_0's l1: 10.7084\n",
            "Did not meet early stopping. Best iteration is:\n",
            "[20]\tvalid_0's l2: 115.063\tvalid_0's l1: 10.7084\n",
            "The RMSE of prediction is: 10.726740745066637\n"
          ]
        },
        {
          "output_type": "stream",
          "name": "stderr",
          "text": [
            "/usr/local/lib/python3.7/dist-packages/ipykernel_launcher.py:38: FutureWarning: In a future version of pandas all arguments of DataFrame.drop except for the argument 'labels' will be keyword-only\n",
            "/usr/local/lib/python3.7/dist-packages/ipykernel_launcher.py:41: FutureWarning: In a future version of pandas all arguments of DataFrame.drop except for the argument 'labels' will be keyword-only\n",
            "/usr/local/lib/python3.7/dist-packages/ipykernel_launcher.py:44: FutureWarning: In a future version of pandas all arguments of DataFrame.drop except for the argument 'labels' will be keyword-only\n"
          ]
        },
        {
          "output_type": "stream",
          "name": "stdout",
          "text": [
            "\r[*********************100%***********************]  1 of 1 completed\n",
            "[1]\tvalid_0's l2: 21689.7\tvalid_0's l1: 147.27\n",
            "Training until validation scores don't improve for 5 rounds.\n",
            "[2]\tvalid_0's l2: 20747.7\tvalid_0's l1: 144.037\n",
            "[3]\tvalid_0's l2: 19867.4\tvalid_0's l1: 140.947\n",
            "[4]\tvalid_0's l2: 19048.7\tvalid_0's l1: 138.013\n",
            "[5]\tvalid_0's l2: 18290.8\tvalid_0's l1: 135.239\n",
            "[6]\tvalid_0's l2: 17587.7\tvalid_0's l1: 132.614\n",
            "[7]\tvalid_0's l2: 16929.4\tvalid_0's l1: 130.108\n",
            "[8]\tvalid_0's l2: 16315.6\tvalid_0's l1: 127.728\n",
            "[9]\tvalid_0's l2: 15745.6\tvalid_0's l1: 125.477\n",
            "[10]\tvalid_0's l2: 15213.3\tvalid_0's l1: 123.338\n",
            "[11]\tvalid_0's l2: 14720.6\tvalid_0's l1: 121.323\n",
            "[12]\tvalid_0's l2: 14257.3\tvalid_0's l1: 119.399\n",
            "[13]\tvalid_0's l2: 13821\tvalid_0's l1: 117.558\n",
            "[14]\tvalid_0's l2: 13412.8\tvalid_0's l1: 115.809\n",
            "[15]\tvalid_0's l2: 13018.3\tvalid_0's l1: 114.093\n",
            "[16]\tvalid_0's l2: 12657.2\tvalid_0's l1: 112.499\n",
            "[17]\tvalid_0's l2: 12318.9\tvalid_0's l1: 110.985\n",
            "[18]\tvalid_0's l2: 12001.8\tvalid_0's l1: 109.547\n",
            "[19]\tvalid_0's l2: 11704.3\tvalid_0's l1: 108.181\n",
            "[20]\tvalid_0's l2: 11425.6\tvalid_0's l1: 106.885\n",
            "Did not meet early stopping. Best iteration is:\n",
            "[20]\tvalid_0's l2: 11425.6\tvalid_0's l1: 106.885\n",
            "The RMSE of prediction is: 106.8908262536404\n"
          ]
        },
        {
          "output_type": "stream",
          "name": "stderr",
          "text": [
            "/usr/local/lib/python3.7/dist-packages/ipykernel_launcher.py:38: FutureWarning: In a future version of pandas all arguments of DataFrame.drop except for the argument 'labels' will be keyword-only\n",
            "/usr/local/lib/python3.7/dist-packages/ipykernel_launcher.py:41: FutureWarning: In a future version of pandas all arguments of DataFrame.drop except for the argument 'labels' will be keyword-only\n",
            "/usr/local/lib/python3.7/dist-packages/ipykernel_launcher.py:44: FutureWarning: In a future version of pandas all arguments of DataFrame.drop except for the argument 'labels' will be keyword-only\n"
          ]
        },
        {
          "output_type": "stream",
          "name": "stdout",
          "text": [
            "\r[*********************100%***********************]  1 of 1 completed\n",
            "[1]\tvalid_0's l2: 39.0273\tvalid_0's l1: 5.86984\n",
            "Training until validation scores don't improve for 5 rounds.\n",
            "[2]\tvalid_0's l2: 35.2202\tvalid_0's l1: 5.56309\n",
            "[3]\tvalid_0's l2: 30.1523\tvalid_0's l1: 5.14583\n",
            "[4]\tvalid_0's l2: 26.827\tvalid_0's l1: 4.81851\n",
            "[5]\tvalid_0's l2: 22.9146\tvalid_0's l1: 4.44313\n",
            "[6]\tvalid_0's l2: 20.9267\tvalid_0's l1: 4.21462\n",
            "[7]\tvalid_0's l2: 19.4957\tvalid_0's l1: 4.04163\n",
            "[8]\tvalid_0's l2: 17.6297\tvalid_0's l1: 3.80308\n",
            "[9]\tvalid_0's l2: 15.9713\tvalid_0's l1: 3.57647\n",
            "[10]\tvalid_0's l2: 14.499\tvalid_0's l1: 3.36118\n",
            "[11]\tvalid_0's l2: 13.1892\tvalid_0's l1: 3.15465\n",
            "[12]\tvalid_0's l2: 11.5906\tvalid_0's l1: 2.94183\n",
            "[13]\tvalid_0's l2: 10.1505\tvalid_0's l1: 2.7318\n",
            "[14]\tvalid_0's l2: 9.30126\tvalid_0's l1: 2.56124\n",
            "[15]\tvalid_0's l2: 8.21539\tvalid_0's l1: 2.38806\n",
            "[16]\tvalid_0's l2: 7.69998\tvalid_0's l1: 2.27759\n",
            "[17]\tvalid_0's l2: 7.26122\tvalid_0's l1: 2.21127\n",
            "[18]\tvalid_0's l2: 6.51389\tvalid_0's l1: 2.10766\n",
            "[19]\tvalid_0's l2: 5.91208\tvalid_0's l1: 2.01424\n",
            "[20]\tvalid_0's l2: 5.59315\tvalid_0's l1: 1.96161\n",
            "Did not meet early stopping. Best iteration is:\n",
            "[20]\tvalid_0's l2: 5.59315\tvalid_0's l1: 1.96161\n",
            "The RMSE of prediction is: 2.364985160627385\n"
          ]
        },
        {
          "output_type": "stream",
          "name": "stderr",
          "text": [
            "/usr/local/lib/python3.7/dist-packages/ipykernel_launcher.py:38: FutureWarning: In a future version of pandas all arguments of DataFrame.drop except for the argument 'labels' will be keyword-only\n",
            "/usr/local/lib/python3.7/dist-packages/ipykernel_launcher.py:41: FutureWarning: In a future version of pandas all arguments of DataFrame.drop except for the argument 'labels' will be keyword-only\n",
            "/usr/local/lib/python3.7/dist-packages/ipykernel_launcher.py:44: FutureWarning: In a future version of pandas all arguments of DataFrame.drop except for the argument 'labels' will be keyword-only\n"
          ]
        },
        {
          "output_type": "stream",
          "name": "stdout",
          "text": [
            "\r[*********************100%***********************]  1 of 1 completed\n",
            "[1]\tvalid_0's l2: 5319.02\tvalid_0's l1: 72.8673\n",
            "Training until validation scores don't improve for 5 rounds.\n",
            "[2]\tvalid_0's l2: 5005.77\tvalid_0's l1: 70.6851\n",
            "[3]\tvalid_0's l2: 4718.9\tvalid_0's l1: 68.6259\n",
            "[4]\tvalid_0's l2: 4454.23\tvalid_0's l1: 66.6697\n",
            "[5]\tvalid_0's l2: 4209.89\tvalid_0's l1: 64.8113\n",
            "[6]\tvalid_0's l2: 3985.53\tvalid_0's l1: 63.0566\n",
            "[7]\tvalid_0's l2: 3774.77\tvalid_0's l1: 61.3627\n",
            "[8]\tvalid_0's l2: 3581.6\tvalid_0's l1: 59.768\n",
            "[9]\tvalid_0's l2: 3401.11\tvalid_0's l1: 58.2385\n",
            "[10]\tvalid_0's l2: 3233.97\tvalid_0's l1: 56.7854\n",
            "[11]\tvalid_0's l2: 3080.65\tvalid_0's l1: 55.419\n",
            "[12]\tvalid_0's l2: 2939.46\tvalid_0's l1: 54.1301\n",
            "[13]\tvalid_0's l2: 2809.62\tvalid_0's l1: 52.9172\n",
            "[14]\tvalid_0's l2: 2689.97\tvalid_0's l1: 51.7743\n",
            "[15]\tvalid_0's l2: 2575.12\tvalid_0's l1: 50.6531\n",
            "[16]\tvalid_0's l2: 2469.01\tvalid_0's l1: 49.5946\n",
            "[17]\tvalid_0's l2: 2370.28\tvalid_0's l1: 48.589\n",
            "[18]\tvalid_0's l2: 2278.35\tvalid_0's l1: 47.6337\n",
            "[19]\tvalid_0's l2: 2192.76\tvalid_0's l1: 46.7266\n",
            "[20]\tvalid_0's l2: 2112.97\tvalid_0's l1: 45.8648\n",
            "Did not meet early stopping. Best iteration is:\n",
            "[20]\tvalid_0's l2: 2112.97\tvalid_0's l1: 45.8648\n",
            "The RMSE of prediction is: 45.96703172114164\n"
          ]
        },
        {
          "output_type": "stream",
          "name": "stderr",
          "text": [
            "/usr/local/lib/python3.7/dist-packages/ipykernel_launcher.py:38: FutureWarning: In a future version of pandas all arguments of DataFrame.drop except for the argument 'labels' will be keyword-only\n",
            "/usr/local/lib/python3.7/dist-packages/ipykernel_launcher.py:41: FutureWarning: In a future version of pandas all arguments of DataFrame.drop except for the argument 'labels' will be keyword-only\n",
            "/usr/local/lib/python3.7/dist-packages/ipykernel_launcher.py:44: FutureWarning: In a future version of pandas all arguments of DataFrame.drop except for the argument 'labels' will be keyword-only\n"
          ]
        },
        {
          "output_type": "stream",
          "name": "stdout",
          "text": [
            "\r[*********************100%***********************]  1 of 1 completed\n",
            "[1]\tvalid_0's l2: 398947\tvalid_0's l1: 631.599\n",
            "Training until validation scores don't improve for 5 rounds.\n",
            "[2]\tvalid_0's l2: 371665\tvalid_0's l1: 609.619\n",
            "[3]\tvalid_0's l2: 346401\tvalid_0's l1: 588.533\n",
            "[4]\tvalid_0's l2: 323223\tvalid_0's l1: 568.501\n",
            "[5]\tvalid_0's l2: 301948\tvalid_0's l1: 549.471\n",
            "[6]\tvalid_0's l2: 282485\tvalid_0's l1: 531.465\n",
            "[7]\tvalid_0's l2: 264653\tvalid_0's l1: 514.415\n",
            "[8]\tvalid_0's l2: 248251\tvalid_0's l1: 498.218\n",
            "[9]\tvalid_0's l2: 233155\tvalid_0's l1: 482.831\n",
            "[10]\tvalid_0's l2: 219253\tvalid_0's l1: 468.213\n",
            "[11]\tvalid_0's l2: 206312\tvalid_0's l1: 454.184\n",
            "[12]\tvalid_0's l2: 194382\tvalid_0's l1: 440.857\n",
            "[13]\tvalid_0's l2: 183378\tvalid_0's l1: 428.197\n",
            "[14]\tvalid_0's l2: 173105\tvalid_0's l1: 416.028\n",
            "[15]\tvalid_0's l2: 163838\tvalid_0's l1: 404.737\n",
            "[16]\tvalid_0's l2: 155081\tvalid_0's l1: 393.77\n",
            "[17]\tvalid_0's l2: 146984\tvalid_0's l1: 383.351\n",
            "[18]\tvalid_0's l2: 139493\tvalid_0's l1: 373.453\n",
            "[19]\tvalid_0's l2: 132691\tvalid_0's l1: 364.231\n",
            "[20]\tvalid_0's l2: 126257\tvalid_0's l1: 355.29\n",
            "Did not meet early stopping. Best iteration is:\n",
            "[20]\tvalid_0's l2: 126257\tvalid_0's l1: 355.29\n",
            "The RMSE of prediction is: 355.3262634714248\n"
          ]
        },
        {
          "output_type": "stream",
          "name": "stderr",
          "text": [
            "/usr/local/lib/python3.7/dist-packages/ipykernel_launcher.py:38: FutureWarning: In a future version of pandas all arguments of DataFrame.drop except for the argument 'labels' will be keyword-only\n",
            "/usr/local/lib/python3.7/dist-packages/ipykernel_launcher.py:41: FutureWarning: In a future version of pandas all arguments of DataFrame.drop except for the argument 'labels' will be keyword-only\n",
            "/usr/local/lib/python3.7/dist-packages/ipykernel_launcher.py:44: FutureWarning: In a future version of pandas all arguments of DataFrame.drop except for the argument 'labels' will be keyword-only\n"
          ]
        },
        {
          "output_type": "stream",
          "name": "stdout",
          "text": [
            "\r[*********************100%***********************]  1 of 1 completed\n",
            "[1]\tvalid_0's l2: 6268.64\tvalid_0's l1: 79.1698\n",
            "Training until validation scores don't improve for 5 rounds.\n",
            "[2]\tvalid_0's l2: 5852.15\tvalid_0's l1: 76.4942\n",
            "[3]\tvalid_0's l2: 5469.75\tvalid_0's l1: 73.9524\n",
            "[4]\tvalid_0's l2: 5118.43\tvalid_0's l1: 71.5377\n",
            "[5]\tvalid_0's l2: 4795.48\tvalid_0's l1: 69.2438\n",
            "[6]\tvalid_0's l2: 4497.07\tvalid_0's l1: 67.0543\n",
            "[7]\tvalid_0's l2: 4223.17\tvalid_0's l1: 64.9799\n",
            "[8]\tvalid_0's l2: 3968.26\tvalid_0's l1: 62.988\n",
            "[9]\tvalid_0's l2: 3733.02\tvalid_0's l1: 61.092\n",
            "[10]\tvalid_0's l2: 3518.79\tvalid_0's l1: 59.3128\n",
            "[11]\tvalid_0's l2: 3320.28\tvalid_0's l1: 57.6151\n",
            "[12]\tvalid_0's l2: 3137.02\tvalid_0's l1: 56.0022\n",
            "[13]\tvalid_0's l2: 2967.75\tvalid_0's l1: 54.4699\n",
            "[14]\tvalid_0's l2: 2811.3\tvalid_0's l1: 53.0143\n",
            "[15]\tvalid_0's l2: 2666.59\tvalid_0's l1: 51.6314\n",
            "[16]\tvalid_0's l2: 2531.26\tvalid_0's l1: 50.3039\n",
            "[17]\tvalid_0's l2: 2404.48\tvalid_0's l1: 49.0275\n",
            "[18]\tvalid_0's l2: 2290.51\tvalid_0's l1: 47.8511\n",
            "[19]\tvalid_0's l2: 2182.72\tvalid_0's l1: 46.7113\n",
            "[20]\tvalid_0's l2: 2082.74\tvalid_0's l1: 45.6285\n",
            "Did not meet early stopping. Best iteration is:\n",
            "[20]\tvalid_0's l2: 2082.74\tvalid_0's l1: 45.6285\n",
            "The RMSE of prediction is: 45.637028437002336\n"
          ]
        },
        {
          "output_type": "stream",
          "name": "stderr",
          "text": [
            "/usr/local/lib/python3.7/dist-packages/ipykernel_launcher.py:38: FutureWarning: In a future version of pandas all arguments of DataFrame.drop except for the argument 'labels' will be keyword-only\n",
            "/usr/local/lib/python3.7/dist-packages/ipykernel_launcher.py:41: FutureWarning: In a future version of pandas all arguments of DataFrame.drop except for the argument 'labels' will be keyword-only\n",
            "/usr/local/lib/python3.7/dist-packages/ipykernel_launcher.py:44: FutureWarning: In a future version of pandas all arguments of DataFrame.drop except for the argument 'labels' will be keyword-only\n"
          ]
        },
        {
          "output_type": "stream",
          "name": "stdout",
          "text": [
            "\r[*********************100%***********************]  1 of 1 completed\n",
            "[1]\tvalid_0's l2: 10911.1\tvalid_0's l1: 104.386\n",
            "Training until validation scores don't improve for 5 rounds.\n",
            "[2]\tvalid_0's l2: 10403.1\tvalid_0's l1: 101.925\n",
            "[3]\tvalid_0's l2: 9936.87\tvalid_0's l1: 99.6125\n",
            "[4]\tvalid_0's l2: 9498.81\tvalid_0's l1: 97.39\n",
            "[5]\tvalid_0's l2: 9086.23\tvalid_0's l1: 95.2488\n",
            "[6]\tvalid_0's l2: 8714.09\tvalid_0's l1: 93.2748\n",
            "[7]\tvalid_0's l2: 8364.02\tvalid_0's l1: 91.3799\n",
            "[8]\tvalid_0's l2: 8037.75\tvalid_0's l1: 89.5769\n",
            "[9]\tvalid_0's l2: 7733.75\tvalid_0's l1: 87.8645\n",
            "[10]\tvalid_0's l2: 7443.87\tvalid_0's l1: 86.1991\n",
            "[11]\tvalid_0's l2: 7174.25\tvalid_0's l1: 84.6207\n",
            "[12]\tvalid_0's l2: 6925.48\tvalid_0's l1: 83.1385\n",
            "[13]\tvalid_0's l2: 6690.37\tvalid_0's l1: 81.7124\n",
            "[14]\tvalid_0's l2: 6470.79\tvalid_0's l1: 80.3575\n",
            "[15]\tvalid_0's l2: 6265.59\tvalid_0's l1: 79.0704\n",
            "[16]\tvalid_0's l2: 6072.08\tvalid_0's l1: 77.8371\n",
            "[17]\tvalid_0's l2: 5891.06\tvalid_0's l1: 76.6655\n",
            "[18]\tvalid_0's l2: 5721.63\tvalid_0's l1: 75.5525\n",
            "[19]\tvalid_0's l2: 5562.98\tvalid_0's l1: 74.4951\n",
            "[20]\tvalid_0's l2: 5414.32\tvalid_0's l1: 73.4905\n",
            "Did not meet early stopping. Best iteration is:\n",
            "[20]\tvalid_0's l2: 5414.32\tvalid_0's l1: 73.4905\n",
            "The RMSE of prediction is: 73.58205974837956\n"
          ]
        },
        {
          "output_type": "stream",
          "name": "stderr",
          "text": [
            "/usr/local/lib/python3.7/dist-packages/ipykernel_launcher.py:38: FutureWarning: In a future version of pandas all arguments of DataFrame.drop except for the argument 'labels' will be keyword-only\n",
            "/usr/local/lib/python3.7/dist-packages/ipykernel_launcher.py:41: FutureWarning: In a future version of pandas all arguments of DataFrame.drop except for the argument 'labels' will be keyword-only\n",
            "/usr/local/lib/python3.7/dist-packages/ipykernel_launcher.py:44: FutureWarning: In a future version of pandas all arguments of DataFrame.drop except for the argument 'labels' will be keyword-only\n"
          ]
        },
        {
          "output_type": "stream",
          "name": "stdout",
          "text": [
            "\r[*********************100%***********************]  1 of 1 completed\n",
            "[1]\tvalid_0's l2: 3.05686\tvalid_0's l1: 1.74545\n",
            "Training until validation scores don't improve for 5 rounds.\n",
            "[2]\tvalid_0's l2: 2.86403\tvalid_0's l1: 1.68931\n",
            "[3]\tvalid_0's l2: 2.71154\tvalid_0's l1: 1.64356\n",
            "[4]\tvalid_0's l2: 2.60152\tvalid_0's l1: 1.60974\n",
            "[5]\tvalid_0's l2: 2.46194\tvalid_0's l1: 1.56579\n",
            "[6]\tvalid_0's l2: 2.26649\tvalid_0's l1: 1.50208\n",
            "[7]\tvalid_0's l2: 2.13053\tvalid_0's l1: 1.45612\n",
            "[8]\tvalid_0's l2: 2.00529\tvalid_0's l1: 1.41246\n",
            "[9]\tvalid_0's l2: 1.88428\tvalid_0's l1: 1.36895\n",
            "[10]\tvalid_0's l2: 1.77282\tvalid_0's l1: 1.32762\n",
            "[11]\tvalid_0's l2: 1.64842\tvalid_0's l1: 1.27991\n",
            "[12]\tvalid_0's l2: 1.52207\tvalid_0's l1: 1.22956\n",
            "[13]\tvalid_0's l2: 1.44081\tvalid_0's l1: 1.19606\n",
            "[14]\tvalid_0's l2: 1.34412\tvalid_0's l1: 1.15493\n",
            "[15]\tvalid_0's l2: 1.31416\tvalid_0's l1: 1.14189\n",
            "[16]\tvalid_0's l2: 1.26681\tvalid_0's l1: 1.12096\n",
            "[17]\tvalid_0's l2: 1.1873\tvalid_0's l1: 1.08491\n",
            "[18]\tvalid_0's l2: 1.11582\tvalid_0's l1: 1.05146\n",
            "[19]\tvalid_0's l2: 1.045\tvalid_0's l1: 1.01722\n",
            "[20]\tvalid_0's l2: 1.00972\tvalid_0's l1: 1.00053\n",
            "Did not meet early stopping. Best iteration is:\n",
            "[20]\tvalid_0's l2: 1.00972\tvalid_0's l1: 1.00053\n",
            "The RMSE of prediction is: 1.004847376545677\n"
          ]
        },
        {
          "output_type": "stream",
          "name": "stderr",
          "text": [
            "/usr/local/lib/python3.7/dist-packages/ipykernel_launcher.py:38: FutureWarning: In a future version of pandas all arguments of DataFrame.drop except for the argument 'labels' will be keyword-only\n",
            "/usr/local/lib/python3.7/dist-packages/ipykernel_launcher.py:41: FutureWarning: In a future version of pandas all arguments of DataFrame.drop except for the argument 'labels' will be keyword-only\n",
            "/usr/local/lib/python3.7/dist-packages/ipykernel_launcher.py:44: FutureWarning: In a future version of pandas all arguments of DataFrame.drop except for the argument 'labels' will be keyword-only\n"
          ]
        },
        {
          "output_type": "stream",
          "name": "stdout",
          "text": [
            "\r[*********************100%***********************]  1 of 1 completed\n",
            "[1]\tvalid_0's l2: 4558.27\tvalid_0's l1: 67.4755\n",
            "Training until validation scores don't improve for 5 rounds.\n",
            "[2]\tvalid_0's l2: 4124.23\tvalid_0's l1: 64.1798\n",
            "[3]\tvalid_0's l2: 3728.97\tvalid_0's l1: 61.0229\n",
            "[4]\tvalid_0's l2: 3374.31\tvalid_0's l1: 58.0467\n",
            "[5]\tvalid_0's l2: 3014.52\tvalid_0's l1: 54.8601\n",
            "[6]\tvalid_0's l2: 2723.45\tvalid_0's l1: 52.1455\n",
            "[7]\tvalid_0's l2: 2454.16\tvalid_0's l1: 49.496\n",
            "[8]\tvalid_0's l2: 2219.16\tvalid_0's l1: 47.0623\n",
            "[9]\tvalid_0's l2: 2004.6\tvalid_0's l1: 44.7279\n",
            "[10]\tvalid_0's l2: 1806.44\tvalid_0's l1: 42.455\n",
            "[11]\tvalid_0's l2: 1630.76\tvalid_0's l1: 40.337\n",
            "[12]\tvalid_0's l2: 1471.95\tvalid_0's l1: 38.3219\n",
            "[13]\tvalid_0's l2: 1327.58\tvalid_0's l1: 36.3916\n",
            "[14]\tvalid_0's l2: 1198.42\tvalid_0's l1: 34.5751\n",
            "[15]\tvalid_0's l2: 1081.7\tvalid_0's l1: 32.8473\n",
            "[16]\tvalid_0's l2: 967.684\tvalid_0's l1: 31.0633\n",
            "[17]\tvalid_0's l2: 875.339\tvalid_0's l1: 29.5395\n",
            "[18]\tvalid_0's l2: 791.913\tvalid_0's l1: 28.0919\n",
            "[19]\tvalid_0's l2: 708.291\tvalid_0's l1: 26.5619\n",
            "[20]\tvalid_0's l2: 628.166\tvalid_0's l1: 25.0114\n",
            "Did not meet early stopping. Best iteration is:\n",
            "[20]\tvalid_0's l2: 628.166\tvalid_0's l1: 25.0114\n",
            "The RMSE of prediction is: 25.06323924539105\n"
          ]
        },
        {
          "output_type": "stream",
          "name": "stderr",
          "text": [
            "/usr/local/lib/python3.7/dist-packages/ipykernel_launcher.py:38: FutureWarning: In a future version of pandas all arguments of DataFrame.drop except for the argument 'labels' will be keyword-only\n",
            "/usr/local/lib/python3.7/dist-packages/ipykernel_launcher.py:41: FutureWarning: In a future version of pandas all arguments of DataFrame.drop except for the argument 'labels' will be keyword-only\n",
            "/usr/local/lib/python3.7/dist-packages/ipykernel_launcher.py:44: FutureWarning: In a future version of pandas all arguments of DataFrame.drop except for the argument 'labels' will be keyword-only\n"
          ]
        },
        {
          "output_type": "stream",
          "name": "stdout",
          "text": [
            "\r[*********************100%***********************]  1 of 1 completed\n",
            "[1]\tvalid_0's l2: 116.732\tvalid_0's l1: 10.7268\n",
            "Training until validation scores don't improve for 5 rounds.\n",
            "[2]\tvalid_0's l2: 105.972\tvalid_0's l1: 10.222\n",
            "[3]\tvalid_0's l2: 92.3113\tvalid_0's l1: 9.53037\n",
            "[4]\tvalid_0's l2: 79.8682\tvalid_0's l1: 8.85352\n",
            "[5]\tvalid_0's l2: 69.8853\tvalid_0's l1: 8.2832\n",
            "[6]\tvalid_0's l2: 60.7784\tvalid_0's l1: 7.72011\n",
            "[7]\tvalid_0's l2: 54.1871\tvalid_0's l1: 7.28402\n",
            "[8]\tvalid_0's l2: 47.113\tvalid_0's l1: 6.78412\n",
            "[9]\tvalid_0's l2: 40.8844\tvalid_0's l1: 6.3178\n",
            "[10]\tvalid_0's l2: 35.3337\tvalid_0's l1: 5.87057\n",
            "[11]\tvalid_0's l2: 30.9847\tvalid_0's l1: 5.4936\n",
            "[12]\tvalid_0's l2: 26.8198\tvalid_0's l1: 5.10047\n",
            "[13]\tvalid_0's l2: 23.3634\tvalid_0's l1: 4.75513\n",
            "[14]\tvalid_0's l2: 19.9952\tvalid_0's l1: 4.38669\n",
            "[15]\tvalid_0's l2: 18.0234\tvalid_0's l1: 4.16012\n",
            "[16]\tvalid_0's l2: 15.7299\tvalid_0's l1: 3.8803\n",
            "[17]\tvalid_0's l2: 13.4448\tvalid_0's l1: 3.58348\n",
            "[18]\tvalid_0's l2: 11.6719\tvalid_0's l1: 3.32498\n",
            "[19]\tvalid_0's l2: 9.90916\tvalid_0's l1: 3.0457\n",
            "[20]\tvalid_0's l2: 8.46099\tvalid_0's l1: 2.79698\n",
            "Did not meet early stopping. Best iteration is:\n",
            "[20]\tvalid_0's l2: 8.46099\tvalid_0's l1: 2.79698\n",
            "The RMSE of prediction is: 2.9087785272169473\n"
          ]
        },
        {
          "output_type": "stream",
          "name": "stderr",
          "text": [
            "/usr/local/lib/python3.7/dist-packages/ipykernel_launcher.py:38: FutureWarning: In a future version of pandas all arguments of DataFrame.drop except for the argument 'labels' will be keyword-only\n",
            "/usr/local/lib/python3.7/dist-packages/ipykernel_launcher.py:41: FutureWarning: In a future version of pandas all arguments of DataFrame.drop except for the argument 'labels' will be keyword-only\n",
            "/usr/local/lib/python3.7/dist-packages/ipykernel_launcher.py:44: FutureWarning: In a future version of pandas all arguments of DataFrame.drop except for the argument 'labels' will be keyword-only\n"
          ]
        },
        {
          "output_type": "stream",
          "name": "stdout",
          "text": [
            "\r[*********************100%***********************]  1 of 1 completed\n",
            "[1]\tvalid_0's l2: 5154.53\tvalid_0's l1: 71.7368\n",
            "Training until validation scores don't improve for 5 rounds.\n",
            "[2]\tvalid_0's l2: 4850.67\tvalid_0's l1: 69.5867\n",
            "[3]\tvalid_0's l2: 4569.88\tvalid_0's l1: 67.539\n",
            "[4]\tvalid_0's l2: 4310.89\tvalid_0's l1: 65.5937\n",
            "[5]\tvalid_0's l2: 4078.69\tvalid_0's l1: 63.7991\n",
            "[6]\tvalid_0's l2: 3857.18\tvalid_0's l1: 62.0388\n",
            "[7]\tvalid_0's l2: 3652.48\tvalid_0's l1: 60.3665\n",
            "[8]\tvalid_0's l2: 3463.2\tvalid_0's l1: 58.7778\n",
            "[9]\tvalid_0's l2: 3288.87\tvalid_0's l1: 57.2758\n",
            "[10]\tvalid_0's l2: 3126.64\tvalid_0's l1: 55.8415\n",
            "[11]\tvalid_0's l2: 2981.14\tvalid_0's l1: 54.5232\n",
            "[12]\tvalid_0's l2: 2842.71\tvalid_0's l1: 53.2386\n",
            "[13]\tvalid_0's l2: 2716.87\tvalid_0's l1: 52.0433\n",
            "[14]\tvalid_0's l2: 2599.97\tvalid_0's l1: 50.9078\n",
            "[15]\tvalid_0's l2: 2488.8\tvalid_0's l1: 49.804\n",
            "[16]\tvalid_0's l2: 2384.94\tvalid_0's l1: 48.7502\n",
            "[17]\tvalid_0's l2: 2288.34\tvalid_0's l1: 47.7491\n",
            "[18]\tvalid_0's l2: 2198.42\tvalid_0's l1: 46.798\n",
            "[19]\tvalid_0's l2: 2114.67\tvalid_0's l1: 45.8945\n",
            "[20]\tvalid_0's l2: 2036.65\tvalid_0's l1: 45.0366\n",
            "Did not meet early stopping. Best iteration is:\n",
            "[20]\tvalid_0's l2: 2036.65\tvalid_0's l1: 45.0366\n",
            "The RMSE of prediction is: 45.1292879057746\n"
          ]
        },
        {
          "output_type": "stream",
          "name": "stderr",
          "text": [
            "/usr/local/lib/python3.7/dist-packages/ipykernel_launcher.py:38: FutureWarning: In a future version of pandas all arguments of DataFrame.drop except for the argument 'labels' will be keyword-only\n",
            "/usr/local/lib/python3.7/dist-packages/ipykernel_launcher.py:41: FutureWarning: In a future version of pandas all arguments of DataFrame.drop except for the argument 'labels' will be keyword-only\n",
            "/usr/local/lib/python3.7/dist-packages/ipykernel_launcher.py:44: FutureWarning: In a future version of pandas all arguments of DataFrame.drop except for the argument 'labels' will be keyword-only\n"
          ]
        },
        {
          "output_type": "stream",
          "name": "stdout",
          "text": [
            "\r[*********************100%***********************]  1 of 1 completed\n",
            "[1]\tvalid_0's l2: 64203.3\tvalid_0's l1: 253.312\n",
            "Training until validation scores don't improve for 5 rounds.\n",
            "[2]\tvalid_0's l2: 62753.3\tvalid_0's l1: 250.433\n",
            "[3]\tvalid_0's l2: 61361.7\tvalid_0's l1: 247.639\n",
            "[4]\tvalid_0's l2: 60054.1\tvalid_0's l1: 244.985\n",
            "[5]\tvalid_0's l2: 58848.8\tvalid_0's l1: 242.512\n",
            "[6]\tvalid_0's l2: 57690.6\tvalid_0's l1: 240.112\n",
            "[7]\tvalid_0's l2: 56626.4\tvalid_0's l1: 237.886\n",
            "[8]\tvalid_0's l2: 55599.4\tvalid_0's l1: 235.718\n",
            "[9]\tvalid_0's l2: 54632.5\tvalid_0's l1: 233.658\n",
            "[10]\tvalid_0's l2: 53721.8\tvalid_0's l1: 231.701\n",
            "[11]\tvalid_0's l2: 52886.4\tvalid_0's l1: 229.891\n",
            "[12]\tvalid_0's l2: 52098.9\tvalid_0's l1: 228.172\n",
            "[13]\tvalid_0's l2: 51356.2\tvalid_0's l1: 226.538\n",
            "[14]\tvalid_0's l2: 50637.3\tvalid_0's l1: 224.946\n",
            "[15]\tvalid_0's l2: 49958.6\tvalid_0's l1: 223.432\n",
            "[16]\tvalid_0's l2: 49332.6\tvalid_0's l1: 222.026\n",
            "[17]\tvalid_0's l2: 48741.6\tvalid_0's l1: 220.691\n",
            "[18]\tvalid_0's l2: 48186.6\tvalid_0's l1: 219.431\n",
            "[19]\tvalid_0's l2: 47644.4\tvalid_0's l1: 218.191\n",
            "[20]\tvalid_0's l2: 47149\tvalid_0's l1: 217.053\n",
            "Did not meet early stopping. Best iteration is:\n",
            "[20]\tvalid_0's l2: 47149\tvalid_0's l1: 217.053\n",
            "The RMSE of prediction is: 217.13817118741636\n"
          ]
        },
        {
          "output_type": "stream",
          "name": "stderr",
          "text": [
            "/usr/local/lib/python3.7/dist-packages/ipykernel_launcher.py:38: FutureWarning: In a future version of pandas all arguments of DataFrame.drop except for the argument 'labels' will be keyword-only\n",
            "/usr/local/lib/python3.7/dist-packages/ipykernel_launcher.py:41: FutureWarning: In a future version of pandas all arguments of DataFrame.drop except for the argument 'labels' will be keyword-only\n",
            "/usr/local/lib/python3.7/dist-packages/ipykernel_launcher.py:44: FutureWarning: In a future version of pandas all arguments of DataFrame.drop except for the argument 'labels' will be keyword-only\n"
          ]
        },
        {
          "output_type": "stream",
          "name": "stdout",
          "text": [
            "\r[*********************100%***********************]  1 of 1 completed\n",
            "[1]\tvalid_0's l2: 11038.3\tvalid_0's l1: 105.061\n",
            "Training until validation scores don't improve for 5 rounds.\n",
            "[2]\tvalid_0's l2: 10420.7\tvalid_0's l1: 102.079\n",
            "[3]\tvalid_0's l2: 9850.37\tvalid_0's l1: 99.2468\n",
            "[4]\tvalid_0's l2: 9334.43\tvalid_0's l1: 96.6125\n",
            "[5]\tvalid_0's l2: 8867.26\tvalid_0's l1: 94.1637\n",
            "[6]\tvalid_0's l2: 8414.25\tvalid_0's l1: 91.7268\n",
            "[7]\tvalid_0's l2: 7994.89\tvalid_0's l1: 89.4116\n",
            "[8]\tvalid_0's l2: 7605.01\tvalid_0's l1: 87.2041\n",
            "[9]\tvalid_0's l2: 7244.87\tvalid_0's l1: 85.1142\n",
            "[10]\tvalid_0's l2: 6910.83\tvalid_0's l1: 83.1287\n",
            "[11]\tvalid_0's l2: 6604.67\tvalid_0's l1: 81.2664\n",
            "[12]\tvalid_0's l2: 6298.91\tvalid_0's l1: 79.3629\n",
            "[13]\tvalid_0's l2: 6034.91\tvalid_0's l1: 77.6818\n",
            "[14]\tvalid_0's l2: 5789.34\tvalid_0's l1: 76.0847\n",
            "[15]\tvalid_0's l2: 5541.81\tvalid_0's l1: 74.4403\n",
            "[16]\tvalid_0's l2: 5325.53\tvalid_0's l1: 72.9732\n",
            "[17]\tvalid_0's l2: 5124.06\tvalid_0's l1: 71.5794\n",
            "[18]\tvalid_0's l2: 4936.26\tvalid_0's l1: 70.2553\n",
            "[19]\tvalid_0's l2: 4761.1\tvalid_0's l1: 68.9975\n",
            "[20]\tvalid_0's l2: 4598.54\tvalid_0's l1: 67.8092\n",
            "Did not meet early stopping. Best iteration is:\n",
            "[20]\tvalid_0's l2: 4598.54\tvalid_0's l1: 67.8092\n",
            "The RMSE of prediction is: 67.8125586904245\n"
          ]
        },
        {
          "output_type": "stream",
          "name": "stderr",
          "text": [
            "/usr/local/lib/python3.7/dist-packages/ipykernel_launcher.py:38: FutureWarning: In a future version of pandas all arguments of DataFrame.drop except for the argument 'labels' will be keyword-only\n",
            "/usr/local/lib/python3.7/dist-packages/ipykernel_launcher.py:41: FutureWarning: In a future version of pandas all arguments of DataFrame.drop except for the argument 'labels' will be keyword-only\n",
            "/usr/local/lib/python3.7/dist-packages/ipykernel_launcher.py:44: FutureWarning: In a future version of pandas all arguments of DataFrame.drop except for the argument 'labels' will be keyword-only\n"
          ]
        },
        {
          "output_type": "stream",
          "name": "stdout",
          "text": [
            "\r[*********************100%***********************]  1 of 1 completed\n",
            "[1]\tvalid_0's l2: 28484.2\tvalid_0's l1: 168.268\n",
            "Training until validation scores don't improve for 5 rounds.\n",
            "[2]\tvalid_0's l2: 25642\tvalid_0's l1: 159.599\n",
            "[3]\tvalid_0's l2: 23066\tvalid_0's l1: 151.313\n",
            "[4]\tvalid_0's l2: 20745.9\tvalid_0's l1: 143.442\n",
            "[5]\tvalid_0's l2: 18656.6\tvalid_0's l1: 135.964\n",
            "[6]\tvalid_0's l2: 16730.9\tvalid_0's l1: 128.688\n",
            "[7]\tvalid_0's l2: 15000.5\tvalid_0's l1: 121.779\n",
            "[8]\tvalid_0's l2: 13441.4\tvalid_0's l1: 115.201\n",
            "[9]\tvalid_0's l2: 12040.5\tvalid_0's l1: 108.951\n",
            "[10]\tvalid_0's l2: 10780.8\tvalid_0's l1: 103.007\n",
            "[11]\tvalid_0's l2: 9676.43\tvalid_0's l1: 97.4996\n",
            "[12]\tvalid_0's l2: 8682.65\tvalid_0's l1: 92.2626\n",
            "[13]\tvalid_0's l2: 7788.69\tvalid_0's l1: 87.2836\n",
            "[14]\tvalid_0's l2: 6984.75\tvalid_0's l1: 82.5499\n",
            "[15]\tvalid_0's l2: 6262.51\tvalid_0's l1: 78.0528\n",
            "[16]\tvalid_0's l2: 5614.37\tvalid_0's l1: 73.7842\n",
            "[17]\tvalid_0's l2: 5032.4\tvalid_0's l1: 69.729\n",
            "[18]\tvalid_0's l2: 4509.77\tvalid_0's l1: 65.8749\n",
            "[19]\tvalid_0's l2: 4040.26\tvalid_0's l1: 62.2093\n",
            "[20]\tvalid_0's l2: 3619.11\tvalid_0's l1: 58.7269\n",
            "Did not meet early stopping. Best iteration is:\n",
            "[20]\tvalid_0's l2: 3619.11\tvalid_0's l1: 58.7269\n",
            "The RMSE of prediction is: 60.159058448555896\n"
          ]
        },
        {
          "output_type": "stream",
          "name": "stderr",
          "text": [
            "/usr/local/lib/python3.7/dist-packages/ipykernel_launcher.py:38: FutureWarning: In a future version of pandas all arguments of DataFrame.drop except for the argument 'labels' will be keyword-only\n",
            "/usr/local/lib/python3.7/dist-packages/ipykernel_launcher.py:41: FutureWarning: In a future version of pandas all arguments of DataFrame.drop except for the argument 'labels' will be keyword-only\n",
            "/usr/local/lib/python3.7/dist-packages/ipykernel_launcher.py:44: FutureWarning: In a future version of pandas all arguments of DataFrame.drop except for the argument 'labels' will be keyword-only\n"
          ]
        },
        {
          "output_type": "stream",
          "name": "stdout",
          "text": [
            "\r[*********************100%***********************]  1 of 1 completed\n",
            "[1]\tvalid_0's l2: 21238.9\tvalid_0's l1: 145.682\n",
            "Training until validation scores don't improve for 5 rounds.\n",
            "[2]\tvalid_0's l2: 20327.1\tvalid_0's l1: 142.519\n",
            "[3]\tvalid_0's l2: 19486.2\tvalid_0's l1: 139.537\n",
            "[4]\tvalid_0's l2: 18703.8\tvalid_0's l1: 136.705\n",
            "[5]\tvalid_0's l2: 17975.4\tvalid_0's l1: 134.014\n",
            "[6]\tvalid_0's l2: 17285.3\tvalid_0's l1: 131.414\n",
            "[7]\tvalid_0's l2: 16689.9\tvalid_0's l1: 129.129\n",
            "[8]\tvalid_0's l2: 16159.5\tvalid_0's l1: 127.059\n",
            "[9]\tvalid_0's l2: 15596.1\tvalid_0's l1: 124.822\n",
            "[10]\tvalid_0's l2: 15070.1\tvalid_0's l1: 122.697\n",
            "[11]\tvalid_0's l2: 14626.4\tvalid_0's l1: 120.875\n",
            "[12]\tvalid_0's l2: 14152.3\tvalid_0's l1: 118.898\n",
            "[13]\tvalid_0's l2: 13764.4\tvalid_0's l1: 117.255\n",
            "[14]\tvalid_0's l2: 13400.9\tvalid_0's l1: 115.695\n",
            "[15]\tvalid_0's l2: 13009.3\tvalid_0's l1: 113.99\n",
            "[16]\tvalid_0's l2: 12694.5\tvalid_0's l1: 112.601\n",
            "[17]\tvalid_0's l2: 12360.7\tvalid_0's l1: 111.109\n",
            "[18]\tvalid_0's l2: 12047.6\tvalid_0's l1: 109.691\n",
            "[19]\tvalid_0's l2: 11754\tvalid_0's l1: 108.344\n",
            "[20]\tvalid_0's l2: 11478.3\tvalid_0's l1: 107.064\n",
            "Did not meet early stopping. Best iteration is:\n",
            "[20]\tvalid_0's l2: 11478.3\tvalid_0's l1: 107.064\n",
            "The RMSE of prediction is: 107.13696580575922\n"
          ]
        },
        {
          "output_type": "stream",
          "name": "stderr",
          "text": [
            "/usr/local/lib/python3.7/dist-packages/ipykernel_launcher.py:38: FutureWarning: In a future version of pandas all arguments of DataFrame.drop except for the argument 'labels' will be keyword-only\n",
            "/usr/local/lib/python3.7/dist-packages/ipykernel_launcher.py:41: FutureWarning: In a future version of pandas all arguments of DataFrame.drop except for the argument 'labels' will be keyword-only\n",
            "/usr/local/lib/python3.7/dist-packages/ipykernel_launcher.py:44: FutureWarning: In a future version of pandas all arguments of DataFrame.drop except for the argument 'labels' will be keyword-only\n"
          ]
        },
        {
          "output_type": "stream",
          "name": "stdout",
          "text": [
            "\r[*********************100%***********************]  1 of 1 completed\n",
            "[1]\tvalid_0's l2: 14971.8\tvalid_0's l1: 122.35\n",
            "Training until validation scores don't improve for 5 rounds.\n",
            "[2]\tvalid_0's l2: 13516\tvalid_0's l1: 116.249\n",
            "[3]\tvalid_0's l2: 12287\tvalid_0's l1: 110.837\n",
            "[4]\tvalid_0's l2: 11158.6\tvalid_0's l1: 105.624\n",
            "[5]\tvalid_0's l2: 10150.6\tvalid_0's l1: 100.739\n",
            "[6]\tvalid_0's l2: 9156.4\tvalid_0's l1: 95.6774\n",
            "[7]\tvalid_0's l2: 8290.46\tvalid_0's l1: 91.0397\n",
            "[8]\tvalid_0's l2: 7498.23\tvalid_0's l1: 86.5794\n",
            "[9]\tvalid_0's l2: 6791.43\tvalid_0's l1: 82.3966\n",
            "[10]\tvalid_0's l2: 5995.15\tvalid_0's l1: 77.4139\n",
            "[11]\tvalid_0's l2: 5464.13\tvalid_0's l1: 73.9046\n",
            "[12]\tvalid_0's l2: 4925.01\tvalid_0's l1: 70.1625\n",
            "[13]\tvalid_0's l2: 4491.36\tvalid_0's l1: 67.0009\n",
            "[14]\tvalid_0's l2: 4097.9\tvalid_0's l1: 63.9974\n",
            "[15]\tvalid_0's l2: 3615.83\tvalid_0's l1: 60.1131\n",
            "[16]\tvalid_0's l2: 3270.68\tvalid_0's l1: 57.1703\n",
            "[17]\tvalid_0's l2: 2962.67\tvalid_0's l1: 54.4102\n",
            "[18]\tvalid_0's l2: 2684.18\tvalid_0's l1: 51.788\n",
            "[19]\tvalid_0's l2: 2352.19\tvalid_0's l1: 48.4769\n",
            "[20]\tvalid_0's l2: 2057.11\tvalid_0's l1: 45.3314\n",
            "Did not meet early stopping. Best iteration is:\n",
            "[20]\tvalid_0's l2: 2057.11\tvalid_0's l1: 45.3314\n",
            "The RMSE of prediction is: 45.355357095671806\n"
          ]
        },
        {
          "output_type": "stream",
          "name": "stderr",
          "text": [
            "/usr/local/lib/python3.7/dist-packages/ipykernel_launcher.py:38: FutureWarning: In a future version of pandas all arguments of DataFrame.drop except for the argument 'labels' will be keyword-only\n",
            "/usr/local/lib/python3.7/dist-packages/ipykernel_launcher.py:41: FutureWarning: In a future version of pandas all arguments of DataFrame.drop except for the argument 'labels' will be keyword-only\n",
            "/usr/local/lib/python3.7/dist-packages/ipykernel_launcher.py:44: FutureWarning: In a future version of pandas all arguments of DataFrame.drop except for the argument 'labels' will be keyword-only\n"
          ]
        },
        {
          "output_type": "stream",
          "name": "stdout",
          "text": [
            "\r[*********************100%***********************]  1 of 1 completed\n",
            "[1]\tvalid_0's l2: 7135.88\tvalid_0's l1: 84.4556\n",
            "Training until validation scores don't improve for 5 rounds.\n",
            "[2]\tvalid_0's l2: 6422.18\tvalid_0's l1: 80.1215\n",
            "[3]\tvalid_0's l2: 5793.58\tvalid_0's l1: 76.0995\n",
            "[4]\tvalid_0's l2: 5226.54\tvalid_0's l1: 72.2786\n",
            "[5]\tvalid_0's l2: 4710.88\tvalid_0's l1: 68.6189\n",
            "[6]\tvalid_0's l2: 4245.3\tvalid_0's l1: 65.1402\n",
            "[7]\tvalid_0's l2: 3837.73\tvalid_0's l1: 61.9328\n",
            "[8]\tvalid_0's l2: 3456.9\tvalid_0's l1: 58.7794\n",
            "[9]\tvalid_0's l2: 3113.55\tvalid_0's l1: 55.7832\n",
            "[10]\tvalid_0's l2: 2814.91\tvalid_0's l1: 53.0389\n",
            "[11]\tvalid_0's l2: 2545.71\tvalid_0's l1: 50.4338\n",
            "[12]\tvalid_0's l2: 2302.68\tvalid_0's l1: 47.9639\n",
            "[13]\tvalid_0's l2: 2083.25\tvalid_0's l1: 45.6144\n",
            "[14]\tvalid_0's l2: 1885.12\tvalid_0's l1: 43.3823\n",
            "[15]\tvalid_0's l2: 1707.64\tvalid_0's l1: 41.2862\n",
            "[16]\tvalid_0's l2: 1549.04\tvalid_0's l1: 39.3168\n",
            "[17]\tvalid_0's l2: 1405.05\tvalid_0's l1: 37.4391\n",
            "[18]\tvalid_0's l2: 1270.83\tvalid_0's l1: 35.6011\n",
            "[19]\tvalid_0's l2: 1150.44\tvalid_0's l1: 33.8681\n",
            "[20]\tvalid_0's l2: 1037.61\tvalid_0's l1: 32.1606\n",
            "Did not meet early stopping. Best iteration is:\n",
            "[20]\tvalid_0's l2: 1037.61\tvalid_0's l1: 32.1606\n",
            "The RMSE of prediction is: 32.21191753356126\n"
          ]
        },
        {
          "output_type": "stream",
          "name": "stderr",
          "text": [
            "/usr/local/lib/python3.7/dist-packages/ipykernel_launcher.py:38: FutureWarning: In a future version of pandas all arguments of DataFrame.drop except for the argument 'labels' will be keyword-only\n",
            "/usr/local/lib/python3.7/dist-packages/ipykernel_launcher.py:41: FutureWarning: In a future version of pandas all arguments of DataFrame.drop except for the argument 'labels' will be keyword-only\n",
            "/usr/local/lib/python3.7/dist-packages/ipykernel_launcher.py:44: FutureWarning: In a future version of pandas all arguments of DataFrame.drop except for the argument 'labels' will be keyword-only\n"
          ]
        },
        {
          "output_type": "stream",
          "name": "stdout",
          "text": [
            "\r[*********************100%***********************]  1 of 1 completed\n",
            "[1]\tvalid_0's l2: 69468.7\tvalid_0's l1: 263.555\n",
            "Training until validation scores don't improve for 5 rounds.\n",
            "[2]\tvalid_0's l2: 66450.6\tvalid_0's l1: 257.765\n",
            "[3]\tvalid_0's l2: 63645.4\tvalid_0's l1: 252.265\n",
            "[4]\tvalid_0's l2: 61036.6\tvalid_0's l1: 247.04\n",
            "[5]\tvalid_0's l2: 58608.8\tvalid_0's l1: 242.077\n",
            "[6]\tvalid_0's l2: 56340.6\tvalid_0's l1: 237.346\n",
            "[7]\tvalid_0's l2: 54227.2\tvalid_0's l1: 232.851\n",
            "[8]\tvalid_0's l2: 52256.9\tvalid_0's l1: 228.581\n",
            "[9]\tvalid_0's l2: 50421.8\tvalid_0's l1: 224.531\n",
            "[10]\tvalid_0's l2: 48705.5\tvalid_0's l1: 220.676\n",
            "[11]\tvalid_0's l2: 47116.7\tvalid_0's l1: 217.046\n",
            "[12]\tvalid_0's l2: 45677.2\tvalid_0's l1: 213.704\n",
            "[13]\tvalid_0's l2: 44285.5\tvalid_0's l1: 210.423\n",
            "[14]\tvalid_0's l2: 42983.4\tvalid_0's l1: 207.306\n",
            "[15]\tvalid_0's l2: 41764.4\tvalid_0's l1: 204.345\n",
            "[16]\tvalid_0's l2: 40648\tvalid_0's l1: 201.594\n",
            "[17]\tvalid_0's l2: 39608.8\tvalid_0's l1: 199\n",
            "[18]\tvalid_0's l2: 38634\tvalid_0's l1: 196.536\n",
            "[19]\tvalid_0's l2: 37711.9\tvalid_0's l1: 194.176\n",
            "[20]\tvalid_0's l2: 36846.2\tvalid_0's l1: 191.934\n",
            "Did not meet early stopping. Best iteration is:\n",
            "[20]\tvalid_0's l2: 36846.2\tvalid_0's l1: 191.934\n",
            "The RMSE of prediction is: 191.9535336344134\n"
          ]
        },
        {
          "output_type": "stream",
          "name": "stderr",
          "text": [
            "/usr/local/lib/python3.7/dist-packages/ipykernel_launcher.py:38: FutureWarning: In a future version of pandas all arguments of DataFrame.drop except for the argument 'labels' will be keyword-only\n",
            "/usr/local/lib/python3.7/dist-packages/ipykernel_launcher.py:41: FutureWarning: In a future version of pandas all arguments of DataFrame.drop except for the argument 'labels' will be keyword-only\n",
            "/usr/local/lib/python3.7/dist-packages/ipykernel_launcher.py:44: FutureWarning: In a future version of pandas all arguments of DataFrame.drop except for the argument 'labels' will be keyword-only\n"
          ]
        },
        {
          "output_type": "stream",
          "name": "stdout",
          "text": [
            "\r[*********************100%***********************]  1 of 1 completed\n",
            "[1]\tvalid_0's l2: 193.061\tvalid_0's l1: 13.8603\n",
            "Training until validation scores don't improve for 5 rounds.\n",
            "[2]\tvalid_0's l2: 173.914\tvalid_0's l1: 13.1544\n",
            "[3]\tvalid_0's l2: 157.188\tvalid_0's l1: 12.5058\n",
            "[4]\tvalid_0's l2: 141.936\tvalid_0's l1: 11.8837\n",
            "[5]\tvalid_0's l2: 128.304\tvalid_0's l1: 11.2985\n",
            "[6]\tvalid_0's l2: 115.736\tvalid_0's l1: 10.7311\n",
            "[7]\tvalid_0's l2: 104.131\tvalid_0's l1: 10.1794\n",
            "[8]\tvalid_0's l2: 93.9189\tvalid_0's l1: 9.6673\n",
            "[9]\tvalid_0's l2: 84.8647\tvalid_0's l1: 9.1897\n",
            "[10]\tvalid_0's l2: 76.5956\tvalid_0's l1: 8.73051\n",
            "[11]\tvalid_0's l2: 69.138\tvalid_0's l1: 8.2946\n",
            "[12]\tvalid_0's l2: 62.2965\tvalid_0's l1: 7.87485\n",
            "[13]\tvalid_0's l2: 56.1635\tvalid_0's l1: 7.47682\n",
            "[14]\tvalid_0's l2: 50.6333\tvalid_0's l1: 7.0987\n",
            "[15]\tvalid_0's l2: 45.6663\tvalid_0's l1: 6.7417\n",
            "[16]\tvalid_0's l2: 41.232\tvalid_0's l1: 6.40617\n",
            "[17]\tvalid_0's l2: 37.2118\tvalid_0's l1: 6.08653\n",
            "[18]\tvalid_0's l2: 33.3995\tvalid_0's l1: 5.76644\n",
            "[19]\tvalid_0's l2: 30.1093\tvalid_0's l1: 5.47431\n",
            "[20]\tvalid_0's l2: 27.1538\tvalid_0's l1: 5.1977\n",
            "Did not meet early stopping. Best iteration is:\n",
            "[20]\tvalid_0's l2: 27.1538\tvalid_0's l1: 5.1977\n",
            "The RMSE of prediction is: 5.210931645017576\n"
          ]
        },
        {
          "output_type": "stream",
          "name": "stderr",
          "text": [
            "/usr/local/lib/python3.7/dist-packages/ipykernel_launcher.py:38: FutureWarning: In a future version of pandas all arguments of DataFrame.drop except for the argument 'labels' will be keyword-only\n",
            "/usr/local/lib/python3.7/dist-packages/ipykernel_launcher.py:41: FutureWarning: In a future version of pandas all arguments of DataFrame.drop except for the argument 'labels' will be keyword-only\n",
            "/usr/local/lib/python3.7/dist-packages/ipykernel_launcher.py:44: FutureWarning: In a future version of pandas all arguments of DataFrame.drop except for the argument 'labels' will be keyword-only\n"
          ]
        },
        {
          "output_type": "stream",
          "name": "stdout",
          "text": [
            "\r[*********************100%***********************]  1 of 1 completed\n",
            "[1]\tvalid_0's l2: 311.197\tvalid_0's l1: 17.4135\n",
            "Training until validation scores don't improve for 5 rounds.\n",
            "[2]\tvalid_0's l2: 282.974\tvalid_0's l1: 16.6065\n",
            "[3]\tvalid_0's l2: 254.957\tvalid_0's l1: 15.7654\n",
            "[4]\tvalid_0's l2: 231.854\tvalid_0's l1: 15.0276\n",
            "[5]\tvalid_0's l2: 210.931\tvalid_0's l1: 14.3266\n",
            "[6]\tvalid_0's l2: 190.372\tvalid_0's l1: 13.6053\n",
            "[7]\tvalid_0's l2: 171.617\tvalid_0's l1: 12.9177\n",
            "[8]\tvalid_0's l2: 154.02\tvalid_0's l1: 12.2354\n",
            "[9]\tvalid_0's l2: 139.534\tvalid_0's l1: 11.6394\n",
            "[10]\tvalid_0's l2: 125.655\tvalid_0's l1: 11.0317\n",
            "[11]\tvalid_0's l2: 111.912\tvalid_0's l1: 10.4078\n",
            "[12]\tvalid_0's l2: 102.117\tvalid_0's l1: 9.91759\n",
            "[13]\tvalid_0's l2: 91.2489\tvalid_0's l1: 9.36594\n",
            "[14]\tvalid_0's l2: 81.6025\tvalid_0's l1: 8.84187\n",
            "[15]\tvalid_0's l2: 72.8877\tvalid_0's l1: 8.34248\n",
            "[16]\tvalid_0's l2: 65.982\tvalid_0's l1: 7.92771\n",
            "[17]\tvalid_0's l2: 61.105\tvalid_0's l1: 7.59295\n",
            "[18]\tvalid_0's l2: 56.6282\tvalid_0's l1: 7.27102\n",
            "[19]\tvalid_0's l2: 50.5486\tvalid_0's l1: 6.84341\n",
            "[20]\tvalid_0's l2: 46.271\tvalid_0's l1: 6.51598\n",
            "Did not meet early stopping. Best iteration is:\n",
            "[20]\tvalid_0's l2: 46.271\tvalid_0's l1: 6.51598\n",
            "The RMSE of prediction is: 6.802276552187509\n"
          ]
        },
        {
          "output_type": "stream",
          "name": "stderr",
          "text": [
            "/usr/local/lib/python3.7/dist-packages/ipykernel_launcher.py:38: FutureWarning: In a future version of pandas all arguments of DataFrame.drop except for the argument 'labels' will be keyword-only\n",
            "/usr/local/lib/python3.7/dist-packages/ipykernel_launcher.py:41: FutureWarning: In a future version of pandas all arguments of DataFrame.drop except for the argument 'labels' will be keyword-only\n",
            "/usr/local/lib/python3.7/dist-packages/ipykernel_launcher.py:44: FutureWarning: In a future version of pandas all arguments of DataFrame.drop except for the argument 'labels' will be keyword-only\n"
          ]
        },
        {
          "output_type": "stream",
          "name": "stdout",
          "text": [
            "\r[*********************100%***********************]  1 of 1 completed\n",
            "[1]\tvalid_0's l2: 2242.91\tvalid_0's l1: 47.3583\n",
            "Training until validation scores don't improve for 5 rounds.\n",
            "[2]\tvalid_0's l2: 2156.73\tvalid_0's l1: 46.4395\n",
            "[3]\tvalid_0's l2: 2076.43\tvalid_0's l1: 45.5667\n",
            "[4]\tvalid_0's l2: 2001.55\tvalid_0's l1: 44.7375\n",
            "[5]\tvalid_0's l2: 1933.03\tvalid_0's l1: 43.965\n",
            "[6]\tvalid_0's l2: 1868.75\tvalid_0's l1: 43.2278\n",
            "[7]\tvalid_0's l2: 1808.69\tvalid_0's l1: 42.5274\n",
            "[8]\tvalid_0's l2: 1752.89\tvalid_0's l1: 41.8663\n",
            "[9]\tvalid_0's l2: 1700.35\tvalid_0's l1: 41.2339\n",
            "[10]\tvalid_0's l2: 1651.17\tvalid_0's l1: 40.6332\n",
            "[11]\tvalid_0's l2: 1603.81\tvalid_0's l1: 40.0463\n",
            "[12]\tvalid_0's l2: 1562.07\tvalid_0's l1: 39.5218\n",
            "[13]\tvalid_0's l2: 1520.45\tvalid_0's l1: 38.9917\n",
            "[14]\tvalid_0's l2: 1481.43\tvalid_0's l1: 38.4881\n",
            "[15]\tvalid_0's l2: 1444.55\tvalid_0's l1: 38.0059\n",
            "[16]\tvalid_0's l2: 1411.28\tvalid_0's l1: 37.5657\n",
            "[17]\tvalid_0's l2: 1379.82\tvalid_0's l1: 37.1447\n",
            "[18]\tvalid_0's l2: 1350.27\tvalid_0's l1: 36.7447\n",
            "[19]\tvalid_0's l2: 1323.68\tvalid_0's l1: 36.3811\n",
            "[20]\tvalid_0's l2: 1297.49\tvalid_0's l1: 36.0193\n",
            "Did not meet early stopping. Best iteration is:\n",
            "[20]\tvalid_0's l2: 1297.49\tvalid_0's l1: 36.0193\n",
            "The RMSE of prediction is: 36.020642641848035\n"
          ]
        },
        {
          "output_type": "stream",
          "name": "stderr",
          "text": [
            "/usr/local/lib/python3.7/dist-packages/ipykernel_launcher.py:38: FutureWarning: In a future version of pandas all arguments of DataFrame.drop except for the argument 'labels' will be keyword-only\n",
            "/usr/local/lib/python3.7/dist-packages/ipykernel_launcher.py:41: FutureWarning: In a future version of pandas all arguments of DataFrame.drop except for the argument 'labels' will be keyword-only\n",
            "/usr/local/lib/python3.7/dist-packages/ipykernel_launcher.py:44: FutureWarning: In a future version of pandas all arguments of DataFrame.drop except for the argument 'labels' will be keyword-only\n"
          ]
        },
        {
          "output_type": "stream",
          "name": "stdout",
          "text": [
            "\r[*********************100%***********************]  1 of 1 completed\n",
            "[1]\tvalid_0's l2: 19826.2\tvalid_0's l1: 140.778\n",
            "Training until validation scores don't improve for 5 rounds.\n",
            "[2]\tvalid_0's l2: 17950.1\tvalid_0's l1: 133.952\n",
            "[3]\tvalid_0's l2: 16214.1\tvalid_0's l1: 127.307\n",
            "[4]\tvalid_0's l2: 14668.6\tvalid_0's l1: 121.086\n",
            "[5]\tvalid_0's l2: 13251.8\tvalid_0's l1: 115.086\n",
            "[6]\tvalid_0's l2: 12007.5\tvalid_0's l1: 109.551\n",
            "[7]\tvalid_0's l2: 10866.1\tvalid_0's l1: 104.211\n",
            "[8]\tvalid_0's l2: 9850.85\tvalid_0's l1: 99.2231\n",
            "[9]\tvalid_0's l2: 8934.36\tvalid_0's l1: 94.4952\n",
            "[10]\tvalid_0's l2: 8102.32\tvalid_0's l1: 89.9857\n",
            "[11]\tvalid_0's l2: 7355.49\tvalid_0's l1: 85.738\n",
            "[12]\tvalid_0's l2: 6678.13\tvalid_0's l1: 81.695\n",
            "[13]\tvalid_0's l2: 6072.16\tvalid_0's l1: 77.898\n",
            "[14]\tvalid_0's l2: 5523.2\tvalid_0's l1: 74.2909\n",
            "[15]\tvalid_0's l2: 5020.47\tvalid_0's l1: 70.8292\n",
            "[16]\tvalid_0's l2: 4559.13\tvalid_0's l1: 67.4959\n",
            "[17]\tvalid_0's l2: 4141.87\tvalid_0's l1: 64.333\n",
            "[18]\tvalid_0's l2: 3764.36\tvalid_0's l1: 61.331\n",
            "[19]\tvalid_0's l2: 3421.37\tvalid_0's l1: 58.4698\n",
            "[20]\tvalid_0's l2: 3110.03\tvalid_0's l1: 55.7463\n",
            "Did not meet early stopping. Best iteration is:\n",
            "[20]\tvalid_0's l2: 3110.03\tvalid_0's l1: 55.7463\n",
            "The RMSE of prediction is: 55.767652121326556\n"
          ]
        },
        {
          "output_type": "stream",
          "name": "stderr",
          "text": [
            "/usr/local/lib/python3.7/dist-packages/ipykernel_launcher.py:38: FutureWarning: In a future version of pandas all arguments of DataFrame.drop except for the argument 'labels' will be keyword-only\n",
            "/usr/local/lib/python3.7/dist-packages/ipykernel_launcher.py:41: FutureWarning: In a future version of pandas all arguments of DataFrame.drop except for the argument 'labels' will be keyword-only\n",
            "/usr/local/lib/python3.7/dist-packages/ipykernel_launcher.py:44: FutureWarning: In a future version of pandas all arguments of DataFrame.drop except for the argument 'labels' will be keyword-only\n"
          ]
        },
        {
          "output_type": "stream",
          "name": "stdout",
          "text": [
            "\r[*********************100%***********************]  1 of 1 completed\n",
            "[1]\tvalid_0's l2: 27.8293\tvalid_0's l1: 4.22791\n",
            "Training until validation scores don't improve for 5 rounds.\n",
            "[2]\tvalid_0's l2: 26.5\tvalid_0's l1: 4.32217\n",
            "[3]\tvalid_0's l2: 27.2241\tvalid_0's l1: 4.56492\n",
            "[4]\tvalid_0's l2: 28.2153\tvalid_0's l1: 4.79553\n",
            "[5]\tvalid_0's l2: 29.3544\tvalid_0's l1: 5.00217\n",
            "[6]\tvalid_0's l2: 26.4812\tvalid_0's l1: 4.7903\n",
            "Early stopping, best iteration is:\n",
            "[1]\tvalid_0's l2: 27.8293\tvalid_0's l1: 4.22791\n",
            "The RMSE of prediction is: 5.275352011020994\n"
          ]
        },
        {
          "output_type": "stream",
          "name": "stderr",
          "text": [
            "/usr/local/lib/python3.7/dist-packages/ipykernel_launcher.py:38: FutureWarning: In a future version of pandas all arguments of DataFrame.drop except for the argument 'labels' will be keyword-only\n",
            "/usr/local/lib/python3.7/dist-packages/ipykernel_launcher.py:41: FutureWarning: In a future version of pandas all arguments of DataFrame.drop except for the argument 'labels' will be keyword-only\n",
            "/usr/local/lib/python3.7/dist-packages/ipykernel_launcher.py:44: FutureWarning: In a future version of pandas all arguments of DataFrame.drop except for the argument 'labels' will be keyword-only\n"
          ]
        }
      ]
    },
    {
      "cell_type": "code",
      "source": [
        "import numpy as np\n",
        "np.save('forecasts_companies.npy', final_forecasts)\n"
      ],
      "metadata": {
        "id": "SFCNiawlV4wu"
      },
      "execution_count": 4,
      "outputs": []
    }
  ]
}