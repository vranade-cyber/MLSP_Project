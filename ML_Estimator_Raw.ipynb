{
  "nbformat": 4,
  "nbformat_minor": 0,
  "metadata": {
    "colab": {
      "provenance": []
    },
    "kernelspec": {
      "name": "python3",
      "display_name": "Python 3"
    },
    "language_info": {
      "name": "python"
    }
  },
  "cells": [
    {
      "cell_type": "code",
      "execution_count": null,
      "metadata": {
        "id": "W4Eer2hhfNRQ"
      },
      "outputs": [],
      "source": [
        "import numpy as np"
      ]
    },
    {
      "cell_type": "code",
      "source": [
        "# Define train_data and real vals\n"
      ],
      "metadata": {
        "id": "cc6vk3wZfczs"
      },
      "execution_count": null,
      "outputs": []
    },
    {
      "cell_type": "code",
      "source": [
        "class ML_estimator():\n",
        "  def __init__(self,model,combination_method = 1,estimation_size = 5,stride = 1,params = [0.8,0.9,0.9]):\n",
        "    self.model = model\n",
        "    self.estimation_size = estimation_size\n",
        "    self.stride = stride\n",
        "    self.unbias_matrix = np.eye(estimation_size)\n",
        "    self.method = combination_method\n",
        "\n",
        "    self.params = params\n",
        "    self.momentum = params[0]\n",
        "    self.so_momentum = params[1]\n",
        "    self.decay = params[2]\n",
        "\n",
        "  def train(self,train_data,index):\n",
        "    train_set = train_data[:index]\n",
        "    output = self.model(train_set)\n",
        "    return output\n",
        "  \n",
        "  def fit(self,data,labels,iters):\n",
        "    start = 0\n",
        "    index = self.estimation_size\n",
        "    preds = self.train(data,index,self.model)\n",
        "    final_preds = preds@self.unbias_matrix\n",
        "\n",
        "    for _ in iters:\n",
        "      real_data = labels[start:index]\n",
        "      real_transform = np.linalg.pinv(final_preds)@real_data\n",
        "\n",
        "      ## Select Combination Scheme,\n",
        "      ## Could be AdaGrad or Adam Like.\n",
        "      ## Trial is raw momentaum based \n",
        "\n",
        "      self.unbias_matrix = self.update(real_transform,self.unbiasing_matrix,self.method = 1)\n",
        "      n1 = np.linalg.norm(real_data - final_preds)\n",
        "      step_preds = final_preds@self.unbias_matrix\n",
        "      n2 = np.linalg.norm(real_data - step_preds)\n",
        "      print('The initial and improved norms are', n1,n2)\n",
        "      momentum -= min((1 - (n2/n1)),(n2/n1))\n",
        "\n",
        "      start += self.stride\n",
        "      index += self.stride\n",
        "\n",
        "    return self.unbiasing_matrix\n",
        "\n",
        "  def update(self,real,existing,method):\n",
        "    if method == 1:\n",
        "      matrix = self.momentum(real,existing)\n",
        "    # elif method == 2:\n",
        "    #   matrix = self.AdaGrad(real,existing)\n",
        "    # elif method == 3:\n",
        "    #   matrix = self.Adam(real,existing)\n",
        "\n",
        "    return matrix\n",
        "  \n",
        "  def momentum(self,real,existing):\n",
        "    matrix = self.momentum*existing + (1 - self.momentum)*(real - existing)\n",
        "    self.momentum *= self.decay\n",
        "    return matrix\n",
        "\n",
        "  # def AdaDelta(self,real,existing):\n",
        "  #   if self.grad:\n",
        "  #     self.grad*self.so_momentum + (1-self.so_momentum)*np.linalg.norm(real - existing) \n",
        "\n",
        "  # def Adam(self,real,existing):\n"
      ],
      "metadata": {
        "id": "fggAAbnZfnVc"
      },
      "execution_count": null,
      "outputs": []
    },
    {
      "cell_type": "code",
      "source": [],
      "metadata": {
        "id": "Wq5QuHwUlnm7"
      },
      "execution_count": null,
      "outputs": []
    }
  ]
}