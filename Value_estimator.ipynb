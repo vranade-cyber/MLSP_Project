{
  "nbformat": 4,
  "nbformat_minor": 0,
  "metadata": {
    "colab": {
      "provenance": []
    },
    "kernelspec": {
      "name": "python3",
      "display_name": "Python 3"
    },
    "language_info": {
      "name": "python"
    }
  },
  "cells": [
    {
      "cell_type": "code",
      "execution_count": 1,
      "metadata": {
        "id": "5P9X2K9XGDfY"
      },
      "outputs": [],
      "source": [
        "import numpy as np"
      ]
    },
    {
      "cell_type": "code",
      "source": [
        "test_1 = np.load('/content/forecasts.npy',allow_pickle=True)\n",
        "data = np.load('/content/forecasts.npy', allow_pickle=True)\n",
        "stocks_data = []\n",
        "for k, v in data.item().items():\n",
        "  \n",
        "  stocks_data.append(v)\n",
        "\n",
        "stocks_data = np.array(stocks_data)\n",
        "stocks_data[0][0]"
      ],
      "metadata": {
        "colab": {
          "base_uri": "https://localhost:8080/"
        },
        "id": "4HoNFJI73XgX",
        "outputId": "4eacabe5-5a02-43d1-8aed-49cb5fe81b0c"
      },
      "execution_count": 2,
      "outputs": [
        {
          "output_type": "execute_result",
          "data": {
            "text/plain": [
              "72.83396000707226"
            ]
          },
          "metadata": {},
          "execution_count": 2
        }
      ]
    },
    {
      "cell_type": "code",
      "source": [
        "def select_best_time(arr):\n",
        "    n, = np.shape(arr)\n",
        "    i,j = 0,1\n",
        "    start = arr[i]\n",
        "    profit = 0\n",
        "    \n",
        "    best = []\n",
        "    delta = []\n",
        "    \n",
        "    while(j < n):\n",
        "        curr_profit = arr[j] - start\n",
        "        profit = max(profit,curr_profit)\n",
        "        start = min(start,arr[j])\n",
        "        j+=1\n",
        "        \n",
        "        best.append(profit)\n",
        "        delta.append(curr_profit)\n",
        "    \n",
        "    return delta\n"
      ],
      "metadata": {
        "id": "NGIZE2vuGIuV"
      },
      "execution_count": 256,
      "outputs": []
    },
    {
      "cell_type": "code",
      "source": [
        "\n",
        "def select_best_strat(arr):\n",
        "    m,n = np.shape(arr)\n",
        "    \n",
        "    best_set = []\n",
        "    for i in range(m):\n",
        "        prof = select_best_time(arr[i])\n",
        "        best_set.append(prof)\n",
        "    \n",
        "    bset = np.array(best_set)\n",
        "    return bset\n"
      ],
      "metadata": {
        "id": "rsC_gA3ZGOe4"
      },
      "execution_count": 257,
      "outputs": []
    },
    {
      "cell_type": "code",
      "source": [
        "def create_row(arr):\n",
        "    n, = np.shape(arr)\n",
        "    k = n*(n-1)//2\n",
        "    \n",
        "    grid = np.zeros((k,1))\n",
        "    count = 0\n",
        "    for i in range(n):\n",
        "        for j in range(i+1,n):\n",
        "            grid[count] = ((arr[j] - arr[i])/arr[j])\n",
        "            count+=1\n",
        "    grid = grid.reshape(1,k)\n",
        "    return grid\n",
        "\n",
        "def create_grid(arr):\n",
        "    m,n = np.shape(arr)\n",
        "    k = n*(n-1)//2\n",
        "    delta = []\n",
        "    for i in range(m):\n",
        "        delt = create_row(arr[i])\n",
        "        delta.append(delt)\n",
        "    \n",
        "    delta2 = np.array((delta)).reshape(m,k)\n",
        "    return delta2,n\n"
      ],
      "metadata": {
        "id": "bcGjIkleGStG"
      },
      "execution_count": 258,
      "outputs": []
    },
    {
      "cell_type": "code",
      "source": [
        "maxminval = []\n",
        "for i in range(stocks_data.shape[0]):\n",
        "  f = (np.max(stocks_data[i]) - np.min(stocks_data[i]))/np.min(stocks_data[i])\n",
        "  mxd,mnd = np.argmax(stocks_data[i]),np.argmin(stocks_data[i])\n",
        "  if mnd > mxd:\n",
        "    continue\n",
        "  maxminval.append((f,mxd,mnd,i))\n",
        "\n",
        "print(len(maxminval))\n",
        "maxminval.sort(key = lambda x:-x[0])\n",
        "\n",
        "maxminval[:5]"
      ],
      "metadata": {
        "colab": {
          "base_uri": "https://localhost:8080/"
        },
        "id": "4J6E3kApGXzn",
        "outputId": "2c7b446b-b941-4b66-be01-fa0d2c145bf8"
      },
      "execution_count": 3,
      "outputs": [
        {
          "output_type": "stream",
          "name": "stdout",
          "text": [
            "54\n"
          ]
        },
        {
          "output_type": "execute_result",
          "data": {
            "text/plain": [
              "[(0.013561250972735995, 4, 0, 69),\n",
              " (0.013478657120164843, 3, 2, 92),\n",
              " (0.011703781970551629, 4, 0, 6),\n",
              " (0.010078636608751631, 4, 0, 29),\n",
              " (0.009858212434872426, 2, 1, 17)]"
            ]
          },
          "metadata": {},
          "execution_count": 3
        }
      ]
    },
    {
      "cell_type": "code",
      "source": [
        "table,num_nodes = create_grid(trial_arr)\n",
        "#table[12][6] = 1000"
      ],
      "metadata": {
        "id": "bLImmZ_Av1lW"
      },
      "execution_count": 299,
      "outputs": []
    },
    {
      "cell_type": "code",
      "source": [
        "t = np.array(np.max(table,axis = 0))\n",
        "#num_nodes\n",
        "t"
      ],
      "metadata": {
        "colab": {
          "base_uri": "https://localhost:8080/"
        },
        "id": "hSwkTO7Mv2gd",
        "outputId": "fd727cac-ec1e-401c-f720-85e674eb9c8e"
      },
      "execution_count": 261,
      "outputs": [
        {
          "output_type": "execute_result",
          "data": {
            "text/plain": [
              "array([0.0081529 , 0.00548132, 0.0114805 , 0.0133798 , 0.00976198,\n",
              "       0.01067312, 0.01343664, 0.0132994 , 0.01145222, 0.00672661])"
            ]
          },
          "metadata": {},
          "execution_count": 261
        }
      ]
    },
    {
      "cell_type": "code",
      "source": [
        "adj_graph = np.full((num_nodes,num_nodes),None)\n",
        "counter = 0\n",
        "for i in range(num_nodes):\n",
        "  for j in range(num_nodes):\n",
        "    if i==j:\n",
        "      adj_graph[i][j] = 0\n",
        "    elif j > i:\n",
        "      continue\n",
        "    else:\n",
        "      adj_graph[i][j] = t[counter]\n",
        "      counter+=1\n",
        "adj_graph"
      ],
      "metadata": {
        "colab": {
          "base_uri": "https://localhost:8080/"
        },
        "id": "a2Ioq86yv-l0",
        "outputId": "12a75769-5058-431d-b983-ee32283c18d8"
      },
      "execution_count": 262,
      "outputs": [
        {
          "output_type": "execute_result",
          "data": {
            "text/plain": [
              "array([[0, None, None, None, None],\n",
              "       [0.008152901460079869, 0, None, None, None],\n",
              "       [0.005481317293174451, 0.011480504980050323, 0, None, None],\n",
              "       [0.013379804091485321, 0.009761976793854316, 0.010673115216765857,\n",
              "        0, None],\n",
              "       [0.013436644940383439, 0.013299399080060472, 0.011452216621287195,\n",
              "        0.006726614393795924, 0]], dtype=object)"
            ]
          },
          "metadata": {},
          "execution_count": 262
        }
      ]
    },
    {
      "cell_type": "code",
      "source": [
        "class Node:\n",
        "  def __init__(self,val,pred,ID,path):\n",
        "    self.val = val\n",
        "    self.pred = pred\n",
        "    self.ID = ID\n",
        "    self.path = path\n",
        "nodes = []\n"
      ],
      "metadata": {
        "id": "bor3ee7Fw_cu"
      },
      "execution_count": 4,
      "outputs": []
    },
    {
      "cell_type": "code",
      "source": [
        "\n",
        "for i in range(num_nodes):\n",
        "  nodes.append(Node(0,list(range(i)),i,[]))\n",
        "  "
      ],
      "metadata": {
        "id": "9xFQGQoa7ffX"
      },
      "execution_count": 264,
      "outputs": []
    },
    {
      "cell_type": "code",
      "source": [
        "gstack = []\n",
        "stack = []\n",
        "flag = (0,0)\n",
        "for i,j in enumerate(nodes):\n",
        "  row = adj_graph[i]\n",
        "  for p in j.pred:\n",
        "    value = nodes[p].val + row[p]\n",
        "    if value > j.val:\n",
        "      flag = (p,i)\n",
        "\n",
        "    j.val = max(j.val,value)\n",
        "  #print(flag)\n",
        "  if j == 0:\n",
        "    j.path = [0]\n",
        "  else:\n",
        "    s,e = flag\n",
        "    j.path = nodes[s].path + [e]\n",
        "  gstack.append((flag))\n"
      ],
      "metadata": {
        "id": "0bN7Of6fypvf"
      },
      "execution_count": 265,
      "outputs": []
    },
    {
      "cell_type": "code",
      "source": [
        "#nodes"
      ],
      "metadata": {
        "id": "P42ZbqoczQi7"
      },
      "execution_count": 266,
      "outputs": []
    },
    {
      "cell_type": "code",
      "source": [
        "for k in range(num_nodes):\n",
        "  print(k)\n",
        "  print(nodes[k].val,nodes[k].path)"
      ],
      "metadata": {
        "colab": {
          "base_uri": "https://localhost:8080/"
        },
        "id": "cxSIkNKEA-xs",
        "outputId": "e74a7b42-1e3a-42ab-cd11-b037bb2333d9"
      },
      "execution_count": 267,
      "outputs": [
        {
          "output_type": "stream",
          "name": "stdout",
          "text": [
            "0\n",
            "0 [0]\n",
            "1\n",
            "0.008152901460079869 [0, 1]\n",
            "2\n",
            "0.019633406440130192 [0, 1, 2]\n",
            "3\n",
            "0.030306521656896047 [0, 1, 2, 3]\n",
            "4\n",
            "0.03703313605069197 [0, 1, 2, 3, 4]\n"
          ]
        }
      ]
    },
    {
      "cell_type": "code",
      "source": [
        "# path = []\n",
        "\n",
        "# for index,val in enumerate(stack):\n",
        "#   if index == 0:\n",
        "#     start,finish = val\n",
        "#     path.append((start,finish))\n",
        "#     continue\n",
        "  \n",
        "#   cur_s,cur_e = val\n",
        "#   if cur_s < finish:\n",
        "#     path = []\n",
        "  \n",
        "#   start,finish = cur_s,cur_e\n",
        "#   path.append((start,finish))\n",
        "p_path = nodes[-1].path\n",
        "\n",
        "path = list(zip(p_path[:-1],p_path[1:]))\n",
        "list(path)\n",
        "\n",
        "\n"
      ],
      "metadata": {
        "colab": {
          "base_uri": "https://localhost:8080/"
        },
        "id": "MRXbgR3QDV6w",
        "outputId": "821b5ec4-11fb-4971-a9c2-2af0442826b0"
      },
      "execution_count": 268,
      "outputs": [
        {
          "output_type": "execute_result",
          "data": {
            "text/plain": [
              "[(0, 1), (1, 2), (2, 3), (3, 4)]"
            ]
          },
          "metadata": {},
          "execution_count": 268
        }
      ]
    },
    {
      "cell_type": "code",
      "source": [
        "if path[0] == (0,0):\n",
        "  path = path[1:]\n",
        "path"
      ],
      "metadata": {
        "colab": {
          "base_uri": "https://localhost:8080/"
        },
        "id": "0keqOgWhFyzb",
        "outputId": "9dd7f99f-1e5a-4c6c-f16c-a43edbc3eb10"
      },
      "execution_count": 269,
      "outputs": [
        {
          "output_type": "execute_result",
          "data": {
            "text/plain": [
              "[(0, 1), (1, 2), (2, 3), (3, 4)]"
            ]
          },
          "metadata": {},
          "execution_count": 269
        }
      ]
    },
    {
      "cell_type": "code",
      "source": [
        "summer = 0\n",
        "strat = []\n",
        "for buy_day,sell_day in path:\n",
        "  stock_val = adj_graph[sell_day][buy_day]\n",
        "  print(stock_val)\n",
        "  stock,delta = np.where(table == stock_val)\n",
        "  #print(float(stock))\n",
        "  strat.append(((stock),(buy_day,sell_day)))\n",
        "strat"
      ],
      "metadata": {
        "colab": {
          "base_uri": "https://localhost:8080/"
        },
        "id": "_KG0UBzSJwNo",
        "outputId": "8196b7c4-eb36-4646-993b-e310ffb57aca"
      },
      "execution_count": 270,
      "outputs": [
        {
          "output_type": "stream",
          "name": "stdout",
          "text": [
            "0.008152901460079869\n",
            "0.011480504980050323\n",
            "0.010673115216765857\n",
            "0.006726614393795924\n"
          ]
        },
        {
          "output_type": "execute_result",
          "data": {
            "text/plain": [
              "[(array([92]), (0, 1)),\n",
              " (array([92]), (1, 2)),\n",
              " (array([81]), (2, 3)),\n",
              " (array([6]), (3, 4))]"
            ]
          },
          "metadata": {},
          "execution_count": 270
        }
      ]
    },
    {
      "cell_type": "code",
      "source": [
        "# while(delta>num_nodes):\n",
        "#   delta -= num_nodes\n",
        "#   num_nodes-=1\n",
        "\n",
        "#   if num_nodes == 0:\n",
        "#     break"
      ],
      "metadata": {
        "id": "Ynky-qJ0JwK-"
      },
      "execution_count": 271,
      "outputs": []
    },
    {
      "cell_type": "code",
      "source": [
        "delta"
      ],
      "metadata": {
        "colab": {
          "base_uri": "https://localhost:8080/"
        },
        "id": "INTg8EjJcx7c",
        "outputId": "6483f731-88d5-4374-d3d4-42e882a50f14"
      },
      "execution_count": 272,
      "outputs": [
        {
          "output_type": "execute_result",
          "data": {
            "text/plain": [
              "array([9])"
            ]
          },
          "metadata": {},
          "execution_count": 272
        }
      ]
    },
    {
      "cell_type": "code",
      "source": [
        "np.argmax(table,axis=0)"
      ],
      "metadata": {
        "colab": {
          "base_uri": "https://localhost:8080/"
        },
        "id": "QFsy5fmWLv_W",
        "outputId": "2288afc1-05fc-4a8a-f627-c92715bfde82"
      },
      "execution_count": 273,
      "outputs": [
        {
          "output_type": "execute_result",
          "data": {
            "text/plain": [
              "array([92, 71, 92, 69, 17, 81, 81, 92, 81,  6])"
            ]
          },
          "metadata": {},
          "execution_count": 273
        }
      ]
    },
    {
      "cell_type": "code",
      "source": [
        "class Strat_predictor:\n",
        "  def __init__(self,arr):\n",
        "    self.data = arr\n",
        "  \n",
        "  def create_row(self,arr):\n",
        "    n, = np.shape(arr)\n",
        "    k = n*(n-1)//2\n",
        "    \n",
        "    grid = np.zeros((k,1))\n",
        "    count = 0\n",
        "    for i in range(n):\n",
        "        for j in range(i+1,n):\n",
        "            grid[count] = ((arr[j] - arr[i])/arr[j])\n",
        "            count+=1\n",
        "    grid = grid.reshape(1,k)\n",
        "    return grid\n",
        "\n",
        "  def create_grid(self,arr):\n",
        "    m,n = np.shape(arr)\n",
        "    k = n*(n-1)//2\n",
        "    delta = []\n",
        "    for i in range(m):\n",
        "        delt = self.create_row(arr[i])\n",
        "        delta.append(delt)\n",
        "    \n",
        "    delta2 = np.array((delta)).reshape(m,k)\n",
        "    return delta2,n\n",
        "  \n",
        "  def create_matrix(self):\n",
        "    self.table,num_nodes = self.create_grid(self.data)\n",
        "    self.t = np.array(np.max(self.table,axis = 0))\n",
        "\n",
        "    self.adj_graph = np.full((num_nodes,num_nodes),None)\n",
        "    \n",
        "    counter = 0\n",
        "    for i in range(num_nodes):\n",
        "      for j in range(num_nodes):\n",
        "        if i==j:\n",
        "          self.adj_graph[i][j] = 0\n",
        "        elif j > i:\n",
        "          continue\n",
        "        else:\n",
        "          self.adj_graph[i][j] = self.t[counter]\n",
        "          counter+=1\n",
        "    return num_nodes\n",
        "  \n",
        "  def setup_graph(self):\n",
        "    self.num_nodes = self.create_matrix()\n",
        "    self.nodes = []\n",
        "    for i in range(self.num_nodes):\n",
        "      self.nodes.append(Node(0,list(range(i)),i,[]))\n",
        "  \n",
        "  def get_strat(self):\n",
        "    self.setup_graph()\n",
        "    gstack = []\n",
        "    stack = []\n",
        "    flag = (0,0)\n",
        "    for i,j in enumerate(self.nodes):\n",
        "      row = self.adj_graph[i]\n",
        "      for p in j.pred:\n",
        "        value = self.nodes[p].val + row[p]\n",
        "        if value > j.val:\n",
        "          flag = (p,i)\n",
        "\n",
        "        j.val = max(j.val,value)\n",
        "      #print(flag)\n",
        "      if j == 0:\n",
        "        j.path = [0]\n",
        "      else:\n",
        "        s,e = flag\n",
        "        j.path = self.nodes[s].path + [e]\n",
        "      gstack.append((flag))\n",
        "\n",
        "  def check(self):\n",
        "    self.get_strat()\n",
        "    best_node_val = 0\n",
        "    for k in range(self.num_nodes):\n",
        "      #print(self.nodes[k].val,self.nodes[k].path)\n",
        "      vals = self.nodes[k].val\n",
        "      if vals > best_node_val:\n",
        "        best_node_index = k\n",
        "      best_node_val = max(best_node_val,vals)\n",
        "    \n",
        "    best_node_path = self.nodes[best_node_index].path\n",
        "    p_path = best_node_path\n",
        "\n",
        "    path = list(zip(p_path[:-1],p_path[1:]))\n",
        "    return path\n",
        "    \n",
        "  def predict(self,path):\n",
        "    self.strat = []\n",
        "    for buy_day,sell_day in path:\n",
        "      stock_val = self.adj_graph[sell_day][buy_day]\n",
        "      stock,delta = np.where(self.table == stock_val)\n",
        "      self.strat.append(((stock),(buy_day,sell_day)))\n",
        "      #print(self.strat)\n",
        "    return self.strat\n",
        "\n",
        "  def display(self):\n",
        "    money = 1000\n",
        "    for stock,(b,s) in self.strat:\n",
        "      print(stock)\n",
        "      #index = int(stock)\n",
        "      index = stock[0]\n",
        "      #print(index)\n",
        "      print('Buy Stock with ID',index,'at end of day',b,'and sell at end of day',s)\n",
        "      stock_num = money/self.data[index][b]\n",
        "      money = stock_num*self.data[index][s]\n",
        "    print(\"Profit made on investement of 1000 Dollars is\",money-1000)"
      ],
      "metadata": {
        "id": "XYGE6fHBZ3VK"
      },
      "execution_count": 8,
      "outputs": []
    },
    {
      "cell_type": "code",
      "source": [
        "# h = Strat_predictor(trial_arr)\n",
        "# y = h.check()\n",
        "# strat = h.predict(y)\n",
        "# h.display()"
      ],
      "metadata": {
        "id": "XjISQ9I83RRQ"
      },
      "execution_count": 9,
      "outputs": []
    },
    {
      "cell_type": "code",
      "source": [
        "h = Strat_predictor(stocks_data)\n",
        "y = h.check()\n",
        "strat = h.predict(y)\n",
        "h.display()"
      ],
      "metadata": {
        "colab": {
          "base_uri": "https://localhost:8080/"
        },
        "id": "nvrqieF94Rmq",
        "outputId": "bbf6ac98-fcc2-44c3-e5e1-ae05e900d841"
      },
      "execution_count": 10,
      "outputs": [
        {
          "output_type": "stream",
          "name": "stdout",
          "text": [
            "[92]\n",
            "Buy Stock with ID 92 at end of day 0 and sell at end of day 1\n",
            "[92]\n",
            "Buy Stock with ID 92 at end of day 1 and sell at end of day 2\n",
            "[81]\n",
            "Buy Stock with ID 81 at end of day 2 and sell at end of day 3\n",
            "[6]\n",
            "Buy Stock with ID 6 at end of day 3 and sell at end of day 4\n",
            "Profit made on investement of 1000 Dollars is 13.721966577622084\n"
          ]
        }
      ]
    },
    {
      "cell_type": "code",
      "source": [
        "strat"
      ],
      "metadata": {
        "colab": {
          "base_uri": "https://localhost:8080/"
        },
        "id": "3vvOktzv45RQ",
        "outputId": "dfcc5adc-f68b-4a1e-c028-b43570e95d0a"
      },
      "execution_count": 11,
      "outputs": [
        {
          "output_type": "execute_result",
          "data": {
            "text/plain": [
              "[(array([92]), (0, 1)),\n",
              " (array([92]), (1, 2)),\n",
              " (array([81]), (2, 3)),\n",
              " (array([6]), (3, 4))]"
            ]
          },
          "metadata": {},
          "execution_count": 11
        }
      ]
    },
    {
      "cell_type": "code",
      "source": [
        "#stocks_data"
      ],
      "metadata": {
        "id": "SNXTJJHv-XoK"
      },
      "execution_count": 12,
      "outputs": []
    },
    {
      "cell_type": "code",
      "source": [],
      "metadata": {
        "id": "6HmWluWN0APU"
      },
      "execution_count": null,
      "outputs": []
    }
  ]
}